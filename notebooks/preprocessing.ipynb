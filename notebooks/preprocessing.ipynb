{
 "cells": [
  {
   "cell_type": "code",
   "execution_count": 1,
   "metadata": {},
   "outputs": [],
   "source": [
    "from tqdm import tqdm\n",
    "import pandas as pd\n",
    "import numpy as np\n",
    "import os"
   ]
  },
  {
   "cell_type": "markdown",
   "metadata": {},
   "source": [
    "# Data format\n",
    "\n",
    "## Origianl data format\n",
    "\n",
    "The dataset is originally structured in the following way:\n",
    "* The `train.csv` file contains one entry per classified segment, with its corresponding classification tag and original essay id (among other data points, see preview of original dataset below, on `train_csv_df.head()`).\n",
    "* The directory `train/` contains each full original essay in its coresponding file, named as `<id>.txt` for each essay id. This is necessary because unlabeled segments of the original essays do not show up in `train.csv`.\n",
    "\n",
    "## Desired data format\n",
    "\n",
    "For training, we would like to restructure this data:\n",
    "* The model, regardless of architacture, should have as an input the entire essay. To that end, since the `train.csv` only contains the segments that have an assigned category, we have to read in the full original essays from `train/`.\n",
    "* For its output, we will individually label words in the original essay with one of the provided catagories (with caveats explained later), or \"unnanotated\". This will allow us to approach the problem as token classification (similar to POS), or NER (Named Entity Recognition)."
   ]
  },
  {
   "cell_type": "code",
   "execution_count": 2,
   "metadata": {},
   "outputs": [],
   "source": [
    "# Load `train.csv`\n",
    "train_csv_df = pd.read_csv('../data/train.csv')"
   ]
  },
  {
   "cell_type": "code",
   "execution_count": 3,
   "metadata": {},
   "outputs": [
    {
     "data": {
      "text/html": [
       "<div>\n",
       "<style scoped>\n",
       "    .dataframe tbody tr th:only-of-type {\n",
       "        vertical-align: middle;\n",
       "    }\n",
       "\n",
       "    .dataframe tbody tr th {\n",
       "        vertical-align: top;\n",
       "    }\n",
       "\n",
       "    .dataframe thead th {\n",
       "        text-align: right;\n",
       "    }\n",
       "</style>\n",
       "<table border=\"1\" class=\"dataframe\">\n",
       "  <thead>\n",
       "    <tr style=\"text-align: right;\">\n",
       "      <th></th>\n",
       "      <th>id</th>\n",
       "      <th>discourse_id</th>\n",
       "      <th>discourse_start</th>\n",
       "      <th>discourse_end</th>\n",
       "      <th>discourse_text</th>\n",
       "      <th>discourse_type</th>\n",
       "      <th>discourse_type_num</th>\n",
       "      <th>predictionstring</th>\n",
       "    </tr>\n",
       "  </thead>\n",
       "  <tbody>\n",
       "    <tr>\n",
       "      <th>0</th>\n",
       "      <td>423A1CA112E2</td>\n",
       "      <td>1.622628e+12</td>\n",
       "      <td>8.0</td>\n",
       "      <td>229.0</td>\n",
       "      <td>Modern humans today are always on their phone....</td>\n",
       "      <td>Lead</td>\n",
       "      <td>Lead 1</td>\n",
       "      <td>1 2 3 4 5 6 7 8 9 10 11 12 13 14 15 16 17 18 1...</td>\n",
       "    </tr>\n",
       "    <tr>\n",
       "      <th>1</th>\n",
       "      <td>423A1CA112E2</td>\n",
       "      <td>1.622628e+12</td>\n",
       "      <td>230.0</td>\n",
       "      <td>312.0</td>\n",
       "      <td>They are some really bad consequences when stu...</td>\n",
       "      <td>Position</td>\n",
       "      <td>Position 1</td>\n",
       "      <td>45 46 47 48 49 50 51 52 53 54 55 56 57 58 59</td>\n",
       "    </tr>\n",
       "    <tr>\n",
       "      <th>2</th>\n",
       "      <td>423A1CA112E2</td>\n",
       "      <td>1.622628e+12</td>\n",
       "      <td>313.0</td>\n",
       "      <td>401.0</td>\n",
       "      <td>Some certain areas in the United States ban ph...</td>\n",
       "      <td>Evidence</td>\n",
       "      <td>Evidence 1</td>\n",
       "      <td>60 61 62 63 64 65 66 67 68 69 70 71 72 73 74 75</td>\n",
       "    </tr>\n",
       "    <tr>\n",
       "      <th>3</th>\n",
       "      <td>423A1CA112E2</td>\n",
       "      <td>1.622628e+12</td>\n",
       "      <td>402.0</td>\n",
       "      <td>758.0</td>\n",
       "      <td>When people have phones, they know about certa...</td>\n",
       "      <td>Evidence</td>\n",
       "      <td>Evidence 2</td>\n",
       "      <td>76 77 78 79 80 81 82 83 84 85 86 87 88 89 90 9...</td>\n",
       "    </tr>\n",
       "    <tr>\n",
       "      <th>4</th>\n",
       "      <td>423A1CA112E2</td>\n",
       "      <td>1.622628e+12</td>\n",
       "      <td>759.0</td>\n",
       "      <td>886.0</td>\n",
       "      <td>Driving is one of the way how to get around. P...</td>\n",
       "      <td>Claim</td>\n",
       "      <td>Claim 1</td>\n",
       "      <td>139 140 141 142 143 144 145 146 147 148 149 15...</td>\n",
       "    </tr>\n",
       "  </tbody>\n",
       "</table>\n",
       "</div>"
      ],
      "text/plain": [
       "             id  discourse_id  discourse_start  discourse_end  \\\n",
       "0  423A1CA112E2  1.622628e+12              8.0          229.0   \n",
       "1  423A1CA112E2  1.622628e+12            230.0          312.0   \n",
       "2  423A1CA112E2  1.622628e+12            313.0          401.0   \n",
       "3  423A1CA112E2  1.622628e+12            402.0          758.0   \n",
       "4  423A1CA112E2  1.622628e+12            759.0          886.0   \n",
       "\n",
       "                                      discourse_text discourse_type  \\\n",
       "0  Modern humans today are always on their phone....           Lead   \n",
       "1  They are some really bad consequences when stu...       Position   \n",
       "2  Some certain areas in the United States ban ph...       Evidence   \n",
       "3  When people have phones, they know about certa...       Evidence   \n",
       "4  Driving is one of the way how to get around. P...          Claim   \n",
       "\n",
       "  discourse_type_num                                   predictionstring  \n",
       "0             Lead 1  1 2 3 4 5 6 7 8 9 10 11 12 13 14 15 16 17 18 1...  \n",
       "1         Position 1       45 46 47 48 49 50 51 52 53 54 55 56 57 58 59  \n",
       "2         Evidence 1    60 61 62 63 64 65 66 67 68 69 70 71 72 73 74 75  \n",
       "3         Evidence 2  76 77 78 79 80 81 82 83 84 85 86 87 88 89 90 9...  \n",
       "4            Claim 1  139 140 141 142 143 144 145 146 147 148 149 15...  "
      ]
     },
     "execution_count": 3,
     "metadata": {},
     "output_type": "execute_result"
    }
   ],
   "source": [
    "train_csv_df.head()"
   ]
  },
  {
   "cell_type": "code",
   "execution_count": 4,
   "metadata": {},
   "outputs": [
    {
     "data": {
      "text/plain": [
       "Index(['id', 'discourse_id', 'discourse_start', 'discourse_end',\n",
       "       'discourse_text', 'discourse_type', 'discourse_type_num',\n",
       "       'predictionstring'],\n",
       "      dtype='object')"
      ]
     },
     "execution_count": 4,
     "metadata": {},
     "output_type": "execute_result"
    }
   ],
   "source": [
    "train_csv_df.columns"
   ]
  },
  {
   "cell_type": "code",
   "execution_count": 5,
   "metadata": {},
   "outputs": [
    {
     "data": {
      "text/plain": [
       "15594"
      ]
     },
     "execution_count": 5,
     "metadata": {},
     "output_type": "execute_result"
    }
   ],
   "source": [
    "len(train_csv_df.id.unique())"
   ]
  },
  {
   "cell_type": "markdown",
   "metadata": {},
   "source": [
    "For a NER approach, let us aggregate the possible labels a token can be classified as. To better define sequences, each token can either be the beginning of some discourse type (i.e., first token of a group with same discourse type) or the middle/intermediate of such discourse type. Alternatively, a word can also not belong to any argumentative component (which we call \"unnanotated\", a label itself).\n",
    "\n",
    "The letter that prefixes each ner_tag indicates the token position of the entity:\n",
    "* `B-<component name>` indicates the beginning of an entity, and is followed by the argumentative component's name (Ex.: \"B-Lead\").\n",
    "* `I-<component name>` indicates a token is contained (I)nside the same entity.\n",
    "* `Unnanotated`: indicates the token doesn’t correspond to any entity.\n"
   ]
  },
  {
   "cell_type": "code",
   "execution_count": 6,
   "metadata": {},
   "outputs": [
    {
     "data": {
      "text/plain": [
       "['Unnanotated',\n",
       " 'B-Lead',\n",
       " 'I-Lead',\n",
       " 'B-Position',\n",
       " 'I-Position',\n",
       " 'B-Evidence',\n",
       " 'I-Evidence',\n",
       " 'B-Claim',\n",
       " 'I-Claim',\n",
       " 'B-Concluding_Statement',\n",
       " 'I-Concluding_Statement',\n",
       " 'B-Counterclaim',\n",
       " 'I-Counterclaim',\n",
       " 'B-Rebuttal',\n",
       " 'I-Rebuttal']"
      ]
     },
     "execution_count": 6,
     "metadata": {},
     "output_type": "execute_result"
    }
   ],
   "source": [
    "labels = ['Unnanotated']\n",
    "for label in train_csv_df.discourse_type.unique():\n",
    "    labels.append(f\"B-{label.replace(' ', '_')}\")\n",
    "    labels.append(f\"I-{label.replace(' ', '_')}\")\n",
    "\n",
    "labels"
   ]
  },
  {
   "cell_type": "markdown",
   "metadata": {},
   "source": [
    "Construct two lookup dicts for more efficient processing (O(1) lookups)."
   ]
  },
  {
   "cell_type": "code",
   "execution_count": 7,
   "metadata": {},
   "outputs": [
    {
     "data": {
      "text/plain": [
       "({0: 'Unnanotated',\n",
       "  1: 'B-Lead',\n",
       "  2: 'I-Lead',\n",
       "  3: 'B-Position',\n",
       "  4: 'I-Position',\n",
       "  5: 'B-Evidence',\n",
       "  6: 'I-Evidence',\n",
       "  7: 'B-Claim',\n",
       "  8: 'I-Claim',\n",
       "  9: 'B-Concluding_Statement',\n",
       "  10: 'I-Concluding_Statement',\n",
       "  11: 'B-Counterclaim',\n",
       "  12: 'I-Counterclaim',\n",
       "  13: 'B-Rebuttal',\n",
       "  14: 'I-Rebuttal'},\n",
       " {'Unnanotated': 0,\n",
       "  'B-Lead': 1,\n",
       "  'I-Lead': 2,\n",
       "  'B-Position': 3,\n",
       "  'I-Position': 4,\n",
       "  'B-Evidence': 5,\n",
       "  'I-Evidence': 6,\n",
       "  'B-Claim': 7,\n",
       "  'I-Claim': 8,\n",
       "  'B-Concluding_Statement': 9,\n",
       "  'I-Concluding_Statement': 10,\n",
       "  'B-Counterclaim': 11,\n",
       "  'I-Counterclaim': 12,\n",
       "  'B-Rebuttal': 13,\n",
       "  'I-Rebuttal': 14})"
      ]
     },
     "execution_count": 7,
     "metadata": {},
     "output_type": "execute_result"
    }
   ],
   "source": [
    "id2label = {}\n",
    "label2id = {}\n",
    "\n",
    "for id, label in enumerate(labels):\n",
    "    id2label[id] = label\n",
    "    label2id[label] = id\n",
    "\n",
    "id2label, label2id"
   ]
  },
  {
   "cell_type": "markdown",
   "metadata": {},
   "source": [
    "Now let's read all the complete essays from the `train/` directory. As discussed above, this is necessary as they will be the input to the model, and not all parts of each essay have a tag associated with them, so concatenating all the chunks listed on the `train.csv` file might not add up to the full original essay."
   ]
  },
  {
   "cell_type": "code",
   "execution_count": 8,
   "metadata": {},
   "outputs": [
    {
     "name": "stderr",
     "output_type": "stream",
     "text": [
      "100%|██████████| 15594/15594 [00:00<00:00, 107067.05it/s]\n"
     ]
    },
    {
     "data": {
      "text/html": [
       "<div>\n",
       "<style scoped>\n",
       "    .dataframe tbody tr th:only-of-type {\n",
       "        vertical-align: middle;\n",
       "    }\n",
       "\n",
       "    .dataframe tbody tr th {\n",
       "        vertical-align: top;\n",
       "    }\n",
       "\n",
       "    .dataframe thead th {\n",
       "        text-align: right;\n",
       "    }\n",
       "</style>\n",
       "<table border=\"1\" class=\"dataframe\">\n",
       "  <thead>\n",
       "    <tr style=\"text-align: right;\">\n",
       "      <th></th>\n",
       "      <th>id</th>\n",
       "      <th>content</th>\n",
       "    </tr>\n",
       "  </thead>\n",
       "  <tbody>\n",
       "    <tr>\n",
       "      <th>0</th>\n",
       "      <td>73DC1D49FAD5</td>\n",
       "      <td>eletoral college can be a very good thing caus...</td>\n",
       "    </tr>\n",
       "    <tr>\n",
       "      <th>1</th>\n",
       "      <td>D840AC3957E5</td>\n",
       "      <td>STUDENT_NAME\\n\\nADDRESS_NAME\\n\\nFebruary 22, 2...</td>\n",
       "    </tr>\n",
       "    <tr>\n",
       "      <th>2</th>\n",
       "      <td>753E320B186B</td>\n",
       "      <td>In my opinion as a student: I don't agree at t...</td>\n",
       "    </tr>\n",
       "    <tr>\n",
       "      <th>3</th>\n",
       "      <td>C2ABDAC2BC2C</td>\n",
       "      <td>When it comes to at home learning and attendin...</td>\n",
       "    </tr>\n",
       "    <tr>\n",
       "      <th>4</th>\n",
       "      <td>B2DDBAAC084C</td>\n",
       "      <td>Y\\n\\nou can ask many different people for advi...</td>\n",
       "    </tr>\n",
       "  </tbody>\n",
       "</table>\n",
       "</div>"
      ],
      "text/plain": [
       "             id                                            content\n",
       "0  73DC1D49FAD5  eletoral college can be a very good thing caus...\n",
       "1  D840AC3957E5  STUDENT_NAME\\n\\nADDRESS_NAME\\n\\nFebruary 22, 2...\n",
       "2  753E320B186B  In my opinion as a student: I don't agree at t...\n",
       "3  C2ABDAC2BC2C  When it comes to at home learning and attendin...\n",
       "4  B2DDBAAC084C  Y\\n\\nou can ask many different people for advi..."
      ]
     },
     "execution_count": 8,
     "metadata": {},
     "output_type": "execute_result"
    }
   ],
   "source": [
    "essay_ids, essay_contents = list(), list()\n",
    "train_path = '../data/train/'\n",
    "\n",
    "# Iterate over all files in the `train/` dir, where each file is named `<id>.txt`.\n",
    "for filename in tqdm(os.listdir(train_path)):\n",
    "    essay_ids.append(filename.split('.')[0])    # Extract essay id from file name.\n",
    "    essay_contents.append(open(f\"{train_path}{filename}\", 'r').read())\n",
    "\n",
    "data = pd.DataFrame({'id': essay_ids, 'content': essay_contents})\n",
    "\n",
    "data.head()"
   ]
  },
  {
   "cell_type": "code",
   "execution_count": 9,
   "metadata": {},
   "outputs": [],
   "source": [
    "assert(len(data) == len(data['id'].unique()))\n",
    "\n",
    "data = data.set_index('id')"
   ]
  },
  {
   "cell_type": "markdown",
   "metadata": {},
   "source": [
    "Now, for NER, let us get the classification of each word in the original essays and build another array with them, in corresponding order. This will be our final processed dataset. Here, we also distinguish between beginning-of-sequence tokens (prefixed with `B-`), or intermediate tokens (prefixed with `I-`)."
   ]
  },
  {
   "cell_type": "code",
   "execution_count": 10,
   "metadata": {},
   "outputs": [
    {
     "name": "stderr",
     "output_type": "stream",
     "text": [
      "  1%|          | 78/15594 [00:00<01:01, 251.02it/s]"
     ]
    },
    {
     "name": "stderr",
     "output_type": "stream",
     "text": [
      "100%|██████████| 15594/15594 [01:01<00:00, 252.64it/s]\n"
     ]
    }
   ],
   "source": [
    "ner_labels = list()\n",
    "\n",
    "for essay_id, x in tqdm(data.iterrows(), total=data.shape[0]):\n",
    "    # print(x['content'])\n",
    "    essay_labels = np.zeros(len(x['content'].split()), dtype=np.int32) #[labels[0]] * len(x['content'].split())\n",
    "\n",
    "    # Find all rows corresponding with this essay in `train.csv`.\n",
    "    for _, y in train_csv_df[train_csv_df['id'] == essay_id].iterrows():\n",
    "        segment_label = y['discourse_type']\n",
    "        segment_indices = [int(idx) for idx in y['predictionstring'].split()]\n",
    "        for idx in segment_indices:\n",
    "            essay_labels[idx] = label2id[f\"I-{segment_label.replace(' ', '_')}\"]\n",
    "        # Finally, override the first to mark beginning of sequence.\n",
    "        essay_labels[segment_indices[0]] = label2id[f\"B-{segment_label.replace(' ', '_')}\"]\n",
    "\n",
    "    ner_labels.append(essay_labels)\n",
    "\n",
    "data['labels'] = ner_labels"
   ]
  },
  {
   "cell_type": "code",
   "execution_count": 11,
   "metadata": {},
   "outputs": [
    {
     "data": {
      "text/html": [
       "<div>\n",
       "<style scoped>\n",
       "    .dataframe tbody tr th:only-of-type {\n",
       "        vertical-align: middle;\n",
       "    }\n",
       "\n",
       "    .dataframe tbody tr th {\n",
       "        vertical-align: top;\n",
       "    }\n",
       "\n",
       "    .dataframe thead th {\n",
       "        text-align: right;\n",
       "    }\n",
       "</style>\n",
       "<table border=\"1\" class=\"dataframe\">\n",
       "  <thead>\n",
       "    <tr style=\"text-align: right;\">\n",
       "      <th></th>\n",
       "      <th>content</th>\n",
       "      <th>labels</th>\n",
       "    </tr>\n",
       "    <tr>\n",
       "      <th>id</th>\n",
       "      <th></th>\n",
       "      <th></th>\n",
       "    </tr>\n",
       "  </thead>\n",
       "  <tbody>\n",
       "    <tr>\n",
       "      <th>73DC1D49FAD5</th>\n",
       "      <td>eletoral college can be a very good thing caus...</td>\n",
       "      <td>[3, 4, 4, 4, 4, 4, 4, 4, 4, 4, 4, 4, 4, 4, 4, ...</td>\n",
       "    </tr>\n",
       "    <tr>\n",
       "      <th>D840AC3957E5</th>\n",
       "      <td>STUDENT_NAME\\n\\nADDRESS_NAME\\n\\nFebruary 22, 2...</td>\n",
       "      <td>[0, 0, 0, 0, 0, 0, 0, 3, 4, 4, 4, 4, 4, 4, 4, ...</td>\n",
       "    </tr>\n",
       "    <tr>\n",
       "      <th>753E320B186B</th>\n",
       "      <td>In my opinion as a student: I don't agree at t...</td>\n",
       "      <td>[1, 2, 2, 2, 2, 2, 2, 2, 2, 2, 2, 2, 2, 2, 2, ...</td>\n",
       "    </tr>\n",
       "    <tr>\n",
       "      <th>C2ABDAC2BC2C</th>\n",
       "      <td>When it comes to at home learning and attendin...</td>\n",
       "      <td>[3, 4, 4, 4, 4, 4, 4, 4, 4, 4, 4, 4, 4, 4, 4, ...</td>\n",
       "    </tr>\n",
       "    <tr>\n",
       "      <th>B2DDBAAC084C</th>\n",
       "      <td>Y\\n\\nou can ask many different people for advi...</td>\n",
       "      <td>[3, 4, 4, 4, 4, 4, 4, 4, 4, 4, 4, 4, 4, 4, 4, ...</td>\n",
       "    </tr>\n",
       "  </tbody>\n",
       "</table>\n",
       "</div>"
      ],
      "text/plain": [
       "                                                        content  \\\n",
       "id                                                                \n",
       "73DC1D49FAD5  eletoral college can be a very good thing caus...   \n",
       "D840AC3957E5  STUDENT_NAME\\n\\nADDRESS_NAME\\n\\nFebruary 22, 2...   \n",
       "753E320B186B  In my opinion as a student: I don't agree at t...   \n",
       "C2ABDAC2BC2C  When it comes to at home learning and attendin...   \n",
       "B2DDBAAC084C  Y\\n\\nou can ask many different people for advi...   \n",
       "\n",
       "                                                         labels  \n",
       "id                                                               \n",
       "73DC1D49FAD5  [3, 4, 4, 4, 4, 4, 4, 4, 4, 4, 4, 4, 4, 4, 4, ...  \n",
       "D840AC3957E5  [0, 0, 0, 0, 0, 0, 0, 3, 4, 4, 4, 4, 4, 4, 4, ...  \n",
       "753E320B186B  [1, 2, 2, 2, 2, 2, 2, 2, 2, 2, 2, 2, 2, 2, 2, ...  \n",
       "C2ABDAC2BC2C  [3, 4, 4, 4, 4, 4, 4, 4, 4, 4, 4, 4, 4, 4, 4, ...  \n",
       "B2DDBAAC084C  [3, 4, 4, 4, 4, 4, 4, 4, 4, 4, 4, 4, 4, 4, 4, ...  "
      ]
     },
     "execution_count": 11,
     "metadata": {},
     "output_type": "execute_result"
    }
   ],
   "source": [
    "data.head()"
   ]
  },
  {
   "cell_type": "markdown",
   "metadata": {},
   "source": [
    "As a sanity check, assert that the length of the labels array matches the number of words per essay."
   ]
  },
  {
   "cell_type": "code",
   "execution_count": 12,
   "metadata": {},
   "outputs": [
    {
     "name": "stderr",
     "output_type": "stream",
     "text": [
      "0it [00:00, ?it/s]"
     ]
    },
    {
     "name": "stderr",
     "output_type": "stream",
     "text": [
      "15594it [00:00, 35134.87it/s]\n"
     ]
    }
   ],
   "source": [
    "for id, row in tqdm(data.iterrows()):\n",
    "    assert(len(row['labels']) == len(row['content'].split()))"
   ]
  },
  {
   "cell_type": "markdown",
   "metadata": {},
   "source": [
    "Finally, save the preprocessed dataset."
   ]
  },
  {
   "cell_type": "code",
   "execution_count": 13,
   "metadata": {},
   "outputs": [],
   "source": [
    "data.to_csv('../dataset.csv')"
   ]
  }
 ],
 "metadata": {
  "kernelspec": {
   "display_name": "torch",
   "language": "python",
   "name": "python3"
  },
  "language_info": {
   "codemirror_mode": {
    "name": "ipython",
    "version": 3
   },
   "file_extension": ".py",
   "mimetype": "text/x-python",
   "name": "python",
   "nbconvert_exporter": "python",
   "pygments_lexer": "ipython3",
   "version": "3.10.11"
  }
 },
 "nbformat": 4,
 "nbformat_minor": 2
}
