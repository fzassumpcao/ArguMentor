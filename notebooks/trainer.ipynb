{
 "cells": [
  {
   "cell_type": "markdown",
   "metadata": {},
   "source": [
    "# Imports"
   ]
  },
  {
   "cell_type": "code",
   "execution_count": 2,
   "metadata": {},
   "outputs": [
    {
     "name": "stderr",
     "output_type": "stream",
     "text": [
      "2023-12-15 12:02:46.311903: I tensorflow/core/platform/cpu_feature_guard.cc:193] This TensorFlow binary is optimized with oneAPI Deep Neural Network Library (oneDNN) to use the following CPU instructions in performance-critical operations:  SSE4.1 SSE4.2 AVX AVX2 AVX_VNNI FMA\n",
      "To enable them in other operations, rebuild TensorFlow with the appropriate compiler flags.\n"
     ]
    }
   ],
   "source": [
    "# General imports.\n",
    "from tqdm import tqdm\n",
    "import pandas as pd\n",
    "import numpy as np\n",
    "import time\n",
    "import os\n",
    "\n",
    "# ML-specific imports.\n",
    "from transformers import AutoConfig, AutoTokenizer, AutoModelForTokenClassification, Trainer, TrainingArguments\n",
    "from torch.utils.data import Dataset, DataLoader\n",
    "from sklearn.model_selection import train_test_split\n",
    "import torch\n",
    "import evaluate\n",
    "import wandb"
   ]
  },
  {
   "cell_type": "markdown",
   "metadata": {},
   "source": [
    "# Configs"
   ]
  },
  {
   "cell_type": "code",
   "execution_count": 2,
   "metadata": {},
   "outputs": [
    {
     "name": "stderr",
     "output_type": "stream",
     "text": [
      "Failed to detect the name of this notebook, you can set it manually with the WANDB_NOTEBOOK_NAME environment variable to enable code saving.\n",
      "\u001b[34m\u001b[1mwandb\u001b[0m: Currently logged in as: \u001b[33mrafael_piacsek\u001b[0m. Use \u001b[1m`wandb login --relogin`\u001b[0m to force relogin\n"
     ]
    },
    {
     "data": {
      "text/html": [
       "Tracking run with wandb version 0.16.1"
      ],
      "text/plain": [
       "<IPython.core.display.HTML object>"
      ]
     },
     "metadata": {},
     "output_type": "display_data"
    },
    {
     "data": {
      "text/html": [
       "Run data is saved locally in <code>/home/rafaelpiacsek/Documents/College/Courses/Semester_7/CS_410/FinalProject/ArguMentor/notebooks/wandb/run-20231215_035257-ltlf9n7k</code>"
      ],
      "text/plain": [
       "<IPython.core.display.HTML object>"
      ]
     },
     "metadata": {},
     "output_type": "display_data"
    },
    {
     "data": {
      "text/html": [
       "Syncing run <strong><a href='https://wandb.ai/rafael_piacsek/ArguMentor/runs/ltlf9n7k' target=\"_blank\">celestial-snow-9</a></strong> to <a href='https://wandb.ai/rafael_piacsek/ArguMentor' target=\"_blank\">Weights & Biases</a> (<a href='https://wandb.me/run' target=\"_blank\">docs</a>)<br/>"
      ],
      "text/plain": [
       "<IPython.core.display.HTML object>"
      ]
     },
     "metadata": {},
     "output_type": "display_data"
    },
    {
     "data": {
      "text/html": [
       " View project at <a href='https://wandb.ai/rafael_piacsek/ArguMentor' target=\"_blank\">https://wandb.ai/rafael_piacsek/ArguMentor</a>"
      ],
      "text/plain": [
       "<IPython.core.display.HTML object>"
      ]
     },
     "metadata": {},
     "output_type": "display_data"
    },
    {
     "data": {
      "text/html": [
       " View run at <a href='https://wandb.ai/rafael_piacsek/ArguMentor/runs/ltlf9n7k' target=\"_blank\">https://wandb.ai/rafael_piacsek/ArguMentor/runs/ltlf9n7k</a>"
      ],
      "text/plain": [
       "<IPython.core.display.HTML object>"
      ]
     },
     "metadata": {},
     "output_type": "display_data"
    },
    {
     "data": {
      "text/html": [
       "<button onClick=\"this.nextSibling.style.display='block';this.style.display='none';\">Display W&B run</button><iframe src='https://wandb.ai/rafael_piacsek/ArguMentor/runs/ltlf9n7k?jupyter=true' style='border:none;width:100%;height:420px;display:none;'></iframe>"
      ],
      "text/plain": [
       "<wandb.sdk.wandb_run.Run at 0x7f582a84dc90>"
      ]
     },
     "execution_count": 2,
     "metadata": {},
     "output_type": "execute_result"
    }
   ],
   "source": [
    "wandb.init(project=\"ArguMentor\")"
   ]
  },
  {
   "cell_type": "code",
   "execution_count": 3,
   "metadata": {},
   "outputs": [],
   "source": [
    "id2label = {\n",
    "  0:  'Unnanotated',\n",
    "  1:  'B-Lead',\n",
    "  2:  'I-Lead',\n",
    "  3:  'B-Position',\n",
    "  4:  'I-Position',\n",
    "  5:  'B-Evidence',\n",
    "  6:  'I-Evidence',\n",
    "  7:  'B-Claim',\n",
    "  8:  'I-Claim',\n",
    "  9:  'B-Concluding_Statement',\n",
    "  10: 'I-Concluding_Statement',\n",
    "  11: 'B-Counterclaim',\n",
    "  12: 'I-Counterclaim',\n",
    "  13: 'B-Rebuttal',\n",
    "  14: 'I-Rebuttal'\n",
    "}\n",
    "\n",
    "label2id = {v: k for k, v in id2label.items()}"
   ]
  },
  {
   "cell_type": "code",
   "execution_count": 4,
   "metadata": {},
   "outputs": [],
   "source": [
    "config = {\n",
    "    'model_name': 'google/bigbird-roberta-base',\n",
    "    'output_dir': './model_test/',\n",
    "    'validation_split': .15,\n",
    "    'seed': 3,\n",
    "    'max_length': 1024,\n",
    "    'device': 'cuda' if torch.cuda.is_available()\n",
    "                        else 'mps'\n",
    "                     if torch.backends.mps.is_available()\n",
    "                        else 'cpu' # Added support for Apple Metal acceleration.\n",
    "}\n",
    "\n",
    "run_name = f\"{config['model_name'].replace('/', '-')}-{time.strftime('%Y-%m-%d_%H:%M:%S')}\"\n",
    "\n",
    "training_args = TrainingArguments(\n",
    "    output_dir=config['output_dir'],\n",
    "    overwrite_output_dir=False, # If True, overwrite the content of the output directory. Use this to continue training if output_dir points to a checkpoint directory.\n",
    "    learning_rate=2.5e-5, # TODO: lr decay.\n",
    "    per_device_train_batch_size=4,\n",
    "    per_device_eval_batch_size=4,\n",
    "    max_grad_norm=10,\n",
    "    num_train_epochs=15,\n",
    "    save_strategy='steps',\n",
    "    save_steps=1000,\n",
    "    evaluation_strategy='steps',\n",
    "    eval_steps=500,\n",
    "    save_total_limit=3,\n",
    "    load_best_model_at_end=True,\n",
    "    metric_for_best_model='f1',\n",
    "    greater_is_better=True, # Relates to metric_for_best_model.\n",
    "    seed=config['seed'],\n",
    "    data_seed=config['seed'],\n",
    "    tf32=True, # Enable the TF32 mode, available in Ampere and newer GPU architectures.\n",
    "    run_name=run_name,\n",
    "    label_names=[\"labels\"],\n",
    "    optim='adamw_torch',\n",
    "    report_to='wandb',\n",
    "    logging_steps=250,\n",
    ")"
   ]
  },
  {
   "cell_type": "markdown",
   "metadata": {},
   "source": [
    "# Helper functions"
   ]
  },
  {
   "cell_type": "code",
   "execution_count": 5,
   "metadata": {},
   "outputs": [],
   "source": [
    "def make_dir(dir):\n",
    "    if not os.path.exists(dir):\n",
    "        os.mkdir(dir)\n",
    "\n",
    "accuracy_metric = evaluate.load('accuracy')\n",
    "recall_metric = evaluate.load('recall')\n",
    "f1_metric = evaluate.load('f1')\n",
    "precision_metric = evaluate.load('precision')\n",
    "\n",
    "\n",
    "def compute_metrics(eval_pred):\n",
    "    logits, labels = eval_pred\n",
    "    preds = np.argmax(logits, axis=-1).flatten()\n",
    "    refs = labels.flatten()\n",
    "    return {\n",
    "        'accuracy': accuracy_metric.compute(predictions=preds, references=refs)['accuracy'],\n",
    "        'f1': f1_metric.compute(predictions=preds, references=refs, average='micro')['f1'],\n",
    "        'recall': recall_metric.compute(predictions=preds, references=refs, average='micro')['recall'],\n",
    "        'precision': precision_metric.compute(predictions=preds, references=refs, average='micro')['precision'],\n",
    "    }"
   ]
  },
  {
   "cell_type": "markdown",
   "metadata": {},
   "source": [
    "# Model"
   ]
  },
  {
   "cell_type": "code",
   "execution_count": 6,
   "metadata": {},
   "outputs": [
    {
     "name": "stderr",
     "output_type": "stream",
     "text": [
      "Some weights of BigBirdForTokenClassification were not initialized from the model checkpoint at google/bigbird-roberta-base and are newly initialized: ['classifier.bias', 'classifier.weight']\n",
      "You should probably TRAIN this model on a down-stream task to be able to use it for predictions and inference.\n"
     ]
    }
   ],
   "source": [
    "make_dir(config['output_dir'])\n",
    "\n",
    "tokenizer = AutoTokenizer.from_pretrained(config['model_name'], add_prefix_space=True, id2label=id2label)\n",
    "\n",
    "config_model = AutoConfig.from_pretrained(config['model_name']) \n",
    "config_model.num_labels = len(label2id)\n",
    "\n",
    "model = AutoModelForTokenClassification.from_pretrained(config['model_name'],\n",
    "                                                        config=config_model).to(config['device'])"
   ]
  },
  {
   "cell_type": "markdown",
   "metadata": {},
   "source": [
    "# Dataset and Dataloader"
   ]
  },
  {
   "cell_type": "code",
   "execution_count": 7,
   "metadata": {},
   "outputs": [
    {
     "data": {
      "text/html": [
       "<div>\n",
       "<style scoped>\n",
       "    .dataframe tbody tr th:only-of-type {\n",
       "        vertical-align: middle;\n",
       "    }\n",
       "\n",
       "    .dataframe tbody tr th {\n",
       "        vertical-align: top;\n",
       "    }\n",
       "\n",
       "    .dataframe thead th {\n",
       "        text-align: right;\n",
       "    }\n",
       "</style>\n",
       "<table border=\"1\" class=\"dataframe\">\n",
       "  <thead>\n",
       "    <tr style=\"text-align: right;\">\n",
       "      <th></th>\n",
       "      <th>content</th>\n",
       "      <th>labels</th>\n",
       "    </tr>\n",
       "    <tr>\n",
       "      <th>id</th>\n",
       "      <th></th>\n",
       "      <th></th>\n",
       "    </tr>\n",
       "  </thead>\n",
       "  <tbody>\n",
       "    <tr>\n",
       "      <th>73DC1D49FAD5</th>\n",
       "      <td>eletoral college can be a very good thing caus...</td>\n",
       "      <td>[3, 4, 4, 4, 4, 4, 4, 4, 4, 4, 4, 4, 4, 4, 4, ...</td>\n",
       "    </tr>\n",
       "    <tr>\n",
       "      <th>D840AC3957E5</th>\n",
       "      <td>STUDENT_NAME\\n\\nADDRESS_NAME\\n\\nFebruary 22, 2...</td>\n",
       "      <td>[0, 0, 0, 0, 0, 0, 0, 3, 4, 4, 4, 4, 4, 4, 4, ...</td>\n",
       "    </tr>\n",
       "    <tr>\n",
       "      <th>753E320B186B</th>\n",
       "      <td>In my opinion as a student: I don't agree at t...</td>\n",
       "      <td>[1, 2, 2, 2, 2, 2, 2, 2, 2, 2, 2, 2, 2, 2, 2, ...</td>\n",
       "    </tr>\n",
       "    <tr>\n",
       "      <th>C2ABDAC2BC2C</th>\n",
       "      <td>When it comes to at home learning and attendin...</td>\n",
       "      <td>[3, 4, 4, 4, 4, 4, 4, 4, 4, 4, 4, 4, 4, 4, 4, ...</td>\n",
       "    </tr>\n",
       "    <tr>\n",
       "      <th>B2DDBAAC084C</th>\n",
       "      <td>Y\\n\\nou can ask many different people for advi...</td>\n",
       "      <td>[3, 4, 4, 4, 4, 4, 4, 4, 4, 4, 4, 4, 4, 4, 4, ...</td>\n",
       "    </tr>\n",
       "  </tbody>\n",
       "</table>\n",
       "</div>"
      ],
      "text/plain": [
       "                                                        content  \\\n",
       "id                                                                \n",
       "73DC1D49FAD5  eletoral college can be a very good thing caus...   \n",
       "D840AC3957E5  STUDENT_NAME\\n\\nADDRESS_NAME\\n\\nFebruary 22, 2...   \n",
       "753E320B186B  In my opinion as a student: I don't agree at t...   \n",
       "C2ABDAC2BC2C  When it comes to at home learning and attendin...   \n",
       "B2DDBAAC084C  Y\\n\\nou can ask many different people for advi...   \n",
       "\n",
       "                                                         labels  \n",
       "id                                                               \n",
       "73DC1D49FAD5  [3, 4, 4, 4, 4, 4, 4, 4, 4, 4, 4, 4, 4, 4, 4, ...  \n",
       "D840AC3957E5  [0, 0, 0, 0, 0, 0, 0, 3, 4, 4, 4, 4, 4, 4, 4, ...  \n",
       "753E320B186B  [1, 2, 2, 2, 2, 2, 2, 2, 2, 2, 2, 2, 2, 2, 2, ...  \n",
       "C2ABDAC2BC2C  [3, 4, 4, 4, 4, 4, 4, 4, 4, 4, 4, 4, 4, 4, 4, ...  \n",
       "B2DDBAAC084C  [3, 4, 4, 4, 4, 4, 4, 4, 4, 4, 4, 4, 4, 4, 4, ...  "
      ]
     },
     "execution_count": 7,
     "metadata": {},
     "output_type": "execute_result"
    }
   ],
   "source": [
    "full_df = pd.read_pickle('../dataset.csv')\n",
    "full_df.head()"
   ]
  },
  {
   "cell_type": "code",
   "execution_count": 8,
   "metadata": {},
   "outputs": [
    {
     "name": "stdout",
     "output_type": "stream",
     "text": [
      "train_df shape:  (13254, 2)\n",
      "val_df shape:  (2340, 2)\n"
     ]
    }
   ],
   "source": [
    "train_df, val_df = train_test_split(full_df, test_size=config['validation_split'], random_state=config['seed'])\n",
    "\n",
    "# Drop id column from train dataframe\n",
    "train_df = train_df[['content', 'labels']]\n",
    "\n",
    "train_df.reset_index(drop=True, inplace=True)\n",
    "val_df.reset_index(drop=True, inplace=True)\n",
    "\n",
    "print(\"train_df shape: \", train_df.shape)\n",
    "print(\"val_df shape: \", val_df.shape)"
   ]
  },
  {
   "cell_type": "code",
   "execution_count": 9,
   "metadata": {},
   "outputs": [],
   "source": [
    "class EssayDataset(Dataset):\n",
    "  def __init__(self, df, tokenizer, max_len=config['max_length']):\n",
    "        self.len = len(df)\n",
    "        self.df = df\n",
    "        self.tokenizer = tokenizer\n",
    "        self.max_len = max_len\n",
    "\n",
    "  def __getitem__(self, index):\n",
    "        essay_words = self.df.content[index].split() # Split essay by words before tokenizing.\n",
    "\n",
    "        # Makes a dict with keys: input_ids, attention_mask.\n",
    "        tokens = self.tokenizer(essay_words,\n",
    "                                is_split_into_words=True, # Necessary to keep correspondance between words and labels contructed previously.\n",
    "                                padding='max_length',\n",
    "                                truncation=True,\n",
    "                                max_length=self.max_len)\n",
    "        \"\"\"\n",
    "        From Tokenizer's docs about word_ids:\n",
    "            A list indicating the word corresponding to each token. Special tokens added by the tokenizer are mapped to None and other tokens\n",
    "            are mapped to the index of their corresponding word (several tokens will be mapped to the same word index if they are parts of that word).\n",
    "\n",
    "        This is needed to match the correct labels with the tokens, which may not have a 1:1 correspondence with the original words.\n",
    "        \"\"\"\n",
    "        word_ids = tokens.word_ids()\n",
    "        word_labels = None\n",
    "\n",
    "\n",
    "        # Get original word label array for this essay.\n",
    "        word_labels = self.df.labels[index]\n",
    "        label_ids = []\n",
    "\n",
    "        # Correct for tokenization mismatch.\n",
    "        for word_idx in word_ids:\n",
    "            # 'None' means that this is a special/reserved token, mark as -100 to be ignored later in training.\n",
    "            if word_idx is None:\n",
    "                label_ids.append(-100) # Magic number, automatically ignored by CrossEntropyLoss.\n",
    "            else:\n",
    "                label_ids.append(word_labels[word_idx])\n",
    "\n",
    "        tokens['labels'] = label_ids\n",
    "\n",
    "\n",
    "        word_ids2 = [w if w is not None else -1 for w in word_ids]\n",
    "        tokens['word_ids'] = torch.as_tensor(word_ids2)\n",
    "\n",
    "        return {k: torch.as_tensor(v) for k, v in tokens.items()}\n",
    "\n",
    "  def __len__(self):\n",
    "        return self.len"
   ]
  },
  {
   "cell_type": "code",
   "execution_count": 10,
   "metadata": {},
   "outputs": [],
   "source": [
    "training_set = EssayDataset(df=train_df, tokenizer=tokenizer)\n",
    "testing_set = EssayDataset(df=val_df, tokenizer=tokenizer)"
   ]
  },
  {
   "cell_type": "code",
   "execution_count": 11,
   "metadata": {},
   "outputs": [
    {
     "data": {
      "text/plain": [
       "{'input_ids': tensor([  65, 4751, 4367,  ..., 1694, 1422,   66]),\n",
       " 'attention_mask': tensor([1, 1, 1,  ..., 1, 1, 1]),\n",
       " 'labels': tensor([-100,    1,    2,  ...,    6,    6, -100]),\n",
       " 'word_ids': tensor([ -1,   0,   1,  ..., 940, 941,  -1])}"
      ]
     },
     "execution_count": 11,
     "metadata": {},
     "output_type": "execute_result"
    }
   ],
   "source": [
    "training_set[0]"
   ]
  },
  {
   "cell_type": "markdown",
   "metadata": {},
   "source": [
    "# HuggingFace Trainer Setup"
   ]
  },
  {
   "cell_type": "code",
   "execution_count": 12,
   "metadata": {},
   "outputs": [],
   "source": [
    "trainer = Trainer(\n",
    "    model=model,\n",
    "    args=training_args,\n",
    "    train_dataset=training_set,\n",
    "    eval_dataset=testing_set,\n",
    "    compute_metrics=compute_metrics,\n",
    "    tokenizer=tokenizer,\n",
    ")"
   ]
  },
  {
   "cell_type": "markdown",
   "metadata": {},
   "source": [
    "# Training"
   ]
  },
  {
   "cell_type": "code",
   "execution_count": 13,
   "metadata": {},
   "outputs": [
    {
     "name": "stderr",
     "output_type": "stream",
     "text": [
      "You're using a BigBirdTokenizerFast tokenizer. Please note that with a fast tokenizer, using the `__call__` method is faster than using a method to encode the text followed by a call to the `pad` method to get a padded encoding.\n"
     ]
    },
    {
     "name": "stdout",
     "output_type": "stream",
     "text": [
      "dict_keys(['input_ids', 'attention_mask', 'labels'])\n"
     ]
    }
   ],
   "source": [
    "for batch in trainer.get_eval_dataloader(testing_set):\n",
    "    print(batch.keys())\n",
    "    break"
   ]
  },
  {
   "cell_type": "code",
   "execution_count": 14,
   "metadata": {},
   "outputs": [
    {
     "data": {
      "application/vnd.jupyter.widget-view+json": {
       "model_id": "d5dc704ca5d9410ca6f1cbd1c2fdb6fb",
       "version_major": 2,
       "version_minor": 0
      },
      "text/plain": [
       "  0%|          | 0/49710 [00:00<?, ?it/s]"
      ]
     },
     "metadata": {},
     "output_type": "display_data"
    },
    {
     "name": "stdout",
     "output_type": "stream",
     "text": [
      "{'loss': 1.163, 'learning_rate': 2.487427077046872e-05, 'epoch': 0.08}\n"
     ]
    },
    {
     "data": {
      "application/vnd.jupyter.widget-view+json": {
       "model_id": "a7086410a50b468b9d9ef889552634e2",
       "version_major": 2,
       "version_minor": 0
      },
      "text/plain": [
       "  0%|          | 0/585 [00:00<?, ?it/s]"
      ]
     },
     "metadata": {},
     "output_type": "display_data"
    },
    {
     "name": "stdout",
     "output_type": "stream",
     "text": [
      "{'eval_loss': 0.9586074352264404, 'eval_accuracy': 0.32908779046474357, 'eval_f1': 0.32908779046474357, 'eval_recall': 0.32908779046474357, 'eval_precision': 0.32908779046474357, 'eval_runtime': 73.2124, 'eval_samples_per_second': 31.962, 'eval_steps_per_second': 7.99, 'epoch': 0.08}\n",
      "{'loss': 0.8942, 'learning_rate': 2.474854154093744e-05, 'epoch': 0.15}\n"
     ]
    },
    {
     "data": {
      "application/vnd.jupyter.widget-view+json": {
       "model_id": "c421e49df0ef4cafb8f0004928843164",
       "version_major": 2,
       "version_minor": 0
      },
      "text/plain": [
       "  0%|          | 0/585 [00:00<?, ?it/s]"
      ]
     },
     "metadata": {},
     "output_type": "display_data"
    },
    {
     "name": "stdout",
     "output_type": "stream",
     "text": [
      "{'eval_loss': 0.9105457067489624, 'eval_accuracy': 0.3310500968215812, 'eval_f1': 0.3310500968215812, 'eval_recall': 0.3310500968215812, 'eval_precision': 0.3310500968215812, 'eval_runtime': 73.066, 'eval_samples_per_second': 32.026, 'eval_steps_per_second': 8.006, 'epoch': 0.15}\n",
      "{'loss': 0.8103, 'learning_rate': 2.4622812311406158e-05, 'epoch': 0.23}\n"
     ]
    },
    {
     "data": {
      "application/vnd.jupyter.widget-view+json": {
       "model_id": "81fa92f6ba94413caaaac3430fa176cf",
       "version_major": 2,
       "version_minor": 0
      },
      "text/plain": [
       "  0%|          | 0/585 [00:00<?, ?it/s]"
      ]
     },
     "metadata": {},
     "output_type": "display_data"
    },
    {
     "name": "stdout",
     "output_type": "stream",
     "text": [
      "{'eval_loss': 0.8042985796928406, 'eval_accuracy': 0.3466250166933761, 'eval_f1': 0.3466250166933761, 'eval_recall': 0.3466250166933761, 'eval_precision': 0.3466250166933761, 'eval_runtime': 72.9713, 'eval_samples_per_second': 32.067, 'eval_steps_per_second': 8.017, 'epoch': 0.23}\n",
      "{'loss': 0.744, 'learning_rate': 2.4497083081874875e-05, 'epoch': 0.3}\n"
     ]
    },
    {
     "data": {
      "application/vnd.jupyter.widget-view+json": {
       "model_id": "750e97f9a863441e88bbbfc2899b2bc7",
       "version_major": 2,
       "version_minor": 0
      },
      "text/plain": [
       "  0%|          | 0/585 [00:00<?, ?it/s]"
      ]
     },
     "metadata": {},
     "output_type": "display_data"
    },
    {
     "name": "stdout",
     "output_type": "stream",
     "text": [
      "{'eval_loss': 0.8046467304229736, 'eval_accuracy': 0.34595728165064105, 'eval_f1': 0.34595728165064105, 'eval_recall': 0.34595728165064105, 'eval_precision': 0.34595728165064105, 'eval_runtime': 73.6236, 'eval_samples_per_second': 31.783, 'eval_steps_per_second': 7.946, 'epoch': 0.3}\n",
      "{'loss': 0.7611, 'learning_rate': 2.4371353852343596e-05, 'epoch': 0.38}\n"
     ]
    },
    {
     "data": {
      "application/vnd.jupyter.widget-view+json": {
       "model_id": "18e890a3146e49ef803f0faa78e8b629",
       "version_major": 2,
       "version_minor": 0
      },
      "text/plain": [
       "  0%|          | 0/585 [00:00<?, ?it/s]"
      ]
     },
     "metadata": {},
     "output_type": "display_data"
    },
    {
     "name": "stdout",
     "output_type": "stream",
     "text": [
      "{'eval_loss': 0.7944734692573547, 'eval_accuracy': 0.3470557057959402, 'eval_f1': 0.3470557057959402, 'eval_recall': 0.3470557057959402, 'eval_precision': 0.3470557057959402, 'eval_runtime': 73.5259, 'eval_samples_per_second': 31.826, 'eval_steps_per_second': 7.956, 'epoch': 0.38}\n",
      "{'loss': 0.6926, 'learning_rate': 2.4245624622812314e-05, 'epoch': 0.45}\n"
     ]
    },
    {
     "data": {
      "application/vnd.jupyter.widget-view+json": {
       "model_id": "d0e507e0922b4457b97da78c67ec4933",
       "version_major": 2,
       "version_minor": 0
      },
      "text/plain": [
       "  0%|          | 0/585 [00:00<?, ?it/s]"
      ]
     },
     "metadata": {},
     "output_type": "display_data"
    },
    {
     "name": "stdout",
     "output_type": "stream",
     "text": [
      "{'eval_loss': 0.7466182112693787, 'eval_accuracy': 0.35415414663461536, 'eval_f1': 0.3541541466346154, 'eval_recall': 0.35415414663461536, 'eval_precision': 0.35415414663461536, 'eval_runtime': 73.736, 'eval_samples_per_second': 31.735, 'eval_steps_per_second': 7.934, 'epoch': 0.45}\n",
      "{'loss': 0.6828, 'learning_rate': 2.4119895393281032e-05, 'epoch': 0.53}\n"
     ]
    },
    {
     "data": {
      "application/vnd.jupyter.widget-view+json": {
       "model_id": "45fbfa2f7a8244b7b3cdca41f2b0ec54",
       "version_major": 2,
       "version_minor": 0
      },
      "text/plain": [
       "  0%|          | 0/585 [00:00<?, ?it/s]"
      ]
     },
     "metadata": {},
     "output_type": "display_data"
    },
    {
     "name": "stdout",
     "output_type": "stream",
     "text": [
      "{'eval_loss': 0.747643768787384, 'eval_accuracy': 0.3536792200854701, 'eval_f1': 0.3536792200854701, 'eval_recall': 0.3536792200854701, 'eval_precision': 0.3536792200854701, 'eval_runtime': 73.7387, 'eval_samples_per_second': 31.734, 'eval_steps_per_second': 7.933, 'epoch': 0.53}\n",
      "{'loss': 0.6748, 'learning_rate': 2.399416616374975e-05, 'epoch': 0.6}\n"
     ]
    },
    {
     "data": {
      "application/vnd.jupyter.widget-view+json": {
       "model_id": "4d9fbd696e7141f199f7522d159ef962",
       "version_major": 2,
       "version_minor": 0
      },
      "text/plain": [
       "  0%|          | 0/585 [00:00<?, ?it/s]"
      ]
     },
     "metadata": {},
     "output_type": "display_data"
    },
    {
     "name": "stdout",
     "output_type": "stream",
     "text": [
      "{'eval_loss': 0.7596333026885986, 'eval_accuracy': 0.35170689770299146, 'eval_f1': 0.35170689770299146, 'eval_recall': 0.35170689770299146, 'eval_precision': 0.35170689770299146, 'eval_runtime': 73.5819, 'eval_samples_per_second': 31.801, 'eval_steps_per_second': 7.95, 'epoch': 0.6}\n",
      "{'loss': 0.6678, 'learning_rate': 2.3868436934218467e-05, 'epoch': 0.68}\n"
     ]
    },
    {
     "data": {
      "application/vnd.jupyter.widget-view+json": {
       "model_id": "ebab85c7b10e47e889deef3c01cab700",
       "version_major": 2,
       "version_minor": 0
      },
      "text/plain": [
       "  0%|          | 0/585 [00:00<?, ?it/s]"
      ]
     },
     "metadata": {},
     "output_type": "display_data"
    },
    {
     "name": "stdout",
     "output_type": "stream",
     "text": [
      "{'eval_loss': 0.7440617680549622, 'eval_accuracy': 0.35228448851495725, 'eval_f1': 0.35228448851495725, 'eval_recall': 0.35228448851495725, 'eval_precision': 0.35228448851495725, 'eval_runtime': 73.6133, 'eval_samples_per_second': 31.788, 'eval_steps_per_second': 7.947, 'epoch': 0.68}\n",
      "{'loss': 0.6808, 'learning_rate': 2.3742707704687188e-05, 'epoch': 0.75}\n"
     ]
    },
    {
     "data": {
      "application/vnd.jupyter.widget-view+json": {
       "model_id": "f39c7d688c004603bc0588e8a98df8b4",
       "version_major": 2,
       "version_minor": 0
      },
      "text/plain": [
       "  0%|          | 0/585 [00:00<?, ?it/s]"
      ]
     },
     "metadata": {},
     "output_type": "display_data"
    },
    {
     "name": "stdout",
     "output_type": "stream",
     "text": [
      "{'eval_loss': 0.7403448820114136, 'eval_accuracy': 0.35398387419871796, 'eval_f1': 0.353983874198718, 'eval_recall': 0.35398387419871796, 'eval_precision': 0.35398387419871796, 'eval_runtime': 73.3966, 'eval_samples_per_second': 31.882, 'eval_steps_per_second': 7.97, 'epoch': 0.75}\n",
      "{'loss': 0.6658, 'learning_rate': 2.3616978475155906e-05, 'epoch': 0.83}\n"
     ]
    },
    {
     "data": {
      "application/vnd.jupyter.widget-view+json": {
       "model_id": "f4b2c12b20334e76a171a583a467bcb5",
       "version_major": 2,
       "version_minor": 0
      },
      "text/plain": [
       "  0%|          | 0/585 [00:00<?, ?it/s]"
      ]
     },
     "metadata": {},
     "output_type": "display_data"
    },
    {
     "name": "stdout",
     "output_type": "stream",
     "text": [
      "{'eval_loss': 0.7134039998054504, 'eval_accuracy': 0.35716437967414527, 'eval_f1': 0.3571643796741452, 'eval_recall': 0.35716437967414527, 'eval_precision': 0.35716437967414527, 'eval_runtime': 73.4858, 'eval_samples_per_second': 31.843, 'eval_steps_per_second': 7.961, 'epoch': 0.83}\n",
      "{'loss': 0.6618, 'learning_rate': 2.3491249245624624e-05, 'epoch': 0.91}\n"
     ]
    },
    {
     "data": {
      "application/vnd.jupyter.widget-view+json": {
       "model_id": "00d0807675134baebaccc56ab55d29c8",
       "version_major": 2,
       "version_minor": 0
      },
      "text/plain": [
       "  0%|          | 0/585 [00:00<?, ?it/s]"
      ]
     },
     "metadata": {},
     "output_type": "display_data"
    },
    {
     "name": "stdout",
     "output_type": "stream",
     "text": [
      "{'eval_loss': 0.7037357687950134, 'eval_accuracy': 0.3578216813568376, 'eval_f1': 0.3578216813568376, 'eval_recall': 0.3578216813568376, 'eval_precision': 0.3578216813568376, 'eval_runtime': 73.0247, 'eval_samples_per_second': 32.044, 'eval_steps_per_second': 8.011, 'epoch': 0.91}\n",
      "{'loss': 0.6796, 'learning_rate': 2.336552001609334e-05, 'epoch': 0.98}\n"
     ]
    },
    {
     "data": {
      "application/vnd.jupyter.widget-view+json": {
       "model_id": "08e48c0c33704edab2ff90e989744d61",
       "version_major": 2,
       "version_minor": 0
      },
      "text/plain": [
       "  0%|          | 0/585 [00:00<?, ?it/s]"
      ]
     },
     "metadata": {},
     "output_type": "display_data"
    },
    {
     "name": "stdout",
     "output_type": "stream",
     "text": [
      "{'eval_loss': 0.7270587086677551, 'eval_accuracy': 0.3544124766292735, 'eval_f1': 0.35441247662927344, 'eval_recall': 0.3544124766292735, 'eval_precision': 0.3544124766292735, 'eval_runtime': 73.1026, 'eval_samples_per_second': 32.01, 'eval_steps_per_second': 8.002, 'epoch': 0.98}\n",
      "{'loss': 0.6072, 'learning_rate': 2.323979078656206e-05, 'epoch': 1.06}\n"
     ]
    },
    {
     "data": {
      "application/vnd.jupyter.widget-view+json": {
       "model_id": "c937edc14319402a8b396c0b8358f3b5",
       "version_major": 2,
       "version_minor": 0
      },
      "text/plain": [
       "  0%|          | 0/585 [00:00<?, ?it/s]"
      ]
     },
     "metadata": {},
     "output_type": "display_data"
    },
    {
     "name": "stdout",
     "output_type": "stream",
     "text": [
      "{'eval_loss': 0.711837649345398, 'eval_accuracy': 0.3576163528311966, 'eval_f1': 0.3576163528311966, 'eval_recall': 0.3576163528311966, 'eval_precision': 0.3576163528311966, 'eval_runtime': 72.9742, 'eval_samples_per_second': 32.066, 'eval_steps_per_second': 8.017, 'epoch': 1.06}\n",
      "{'loss': 0.5704, 'learning_rate': 2.311406155703078e-05, 'epoch': 1.13}\n"
     ]
    },
    {
     "data": {
      "application/vnd.jupyter.widget-view+json": {
       "model_id": "ce46afa096e04309b8f89a781f91a1e0",
       "version_major": 2,
       "version_minor": 0
      },
      "text/plain": [
       "  0%|          | 0/585 [00:00<?, ?it/s]"
      ]
     },
     "metadata": {},
     "output_type": "display_data"
    },
    {
     "name": "stdout",
     "output_type": "stream",
     "text": [
      "{'eval_loss': 0.6984347105026245, 'eval_accuracy': 0.35830787593482905, 'eval_f1': 0.35830787593482905, 'eval_recall': 0.35830787593482905, 'eval_precision': 0.35830787593482905, 'eval_runtime': 72.5884, 'eval_samples_per_second': 32.237, 'eval_steps_per_second': 8.059, 'epoch': 1.13}\n",
      "{'loss': 0.5786, 'learning_rate': 2.2988332327499498e-05, 'epoch': 1.21}\n"
     ]
    },
    {
     "data": {
      "application/vnd.jupyter.widget-view+json": {
       "model_id": "03f2dac19e4945f79f20b3198a85d7a9",
       "version_major": 2,
       "version_minor": 0
      },
      "text/plain": [
       "  0%|          | 0/585 [00:00<?, ?it/s]"
      ]
     },
     "metadata": {},
     "output_type": "display_data"
    },
    {
     "name": "stdout",
     "output_type": "stream",
     "text": [
      "{'eval_loss': 0.7269288301467896, 'eval_accuracy': 0.35288294604700854, 'eval_f1': 0.35288294604700854, 'eval_recall': 0.35288294604700854, 'eval_precision': 0.35288294604700854, 'eval_runtime': 73.126, 'eval_samples_per_second': 32.0, 'eval_steps_per_second': 8.0, 'epoch': 1.21}\n",
      "{'loss': 0.5727, 'learning_rate': 2.2862603097968215e-05, 'epoch': 1.28}\n"
     ]
    },
    {
     "data": {
      "application/vnd.jupyter.widget-view+json": {
       "model_id": "a7ea8abc6a024146ac022a171a08fe9c",
       "version_major": 2,
       "version_minor": 0
      },
      "text/plain": [
       "  0%|          | 0/585 [00:00<?, ?it/s]"
      ]
     },
     "metadata": {},
     "output_type": "display_data"
    },
    {
     "name": "stdout",
     "output_type": "stream",
     "text": [
      "{'eval_loss': 0.7344460487365723, 'eval_accuracy': 0.3541683360042735, 'eval_f1': 0.3541683360042735, 'eval_recall': 0.3541683360042735, 'eval_precision': 0.3541683360042735, 'eval_runtime': 73.1457, 'eval_samples_per_second': 31.991, 'eval_steps_per_second': 7.998, 'epoch': 1.28}\n",
      "{'loss': 0.5724, 'learning_rate': 2.2736873868436936e-05, 'epoch': 1.36}\n"
     ]
    },
    {
     "data": {
      "application/vnd.jupyter.widget-view+json": {
       "model_id": "1a3d168fdba94f609a43e350ab082c75",
       "version_major": 2,
       "version_minor": 0
      },
      "text/plain": [
       "  0%|          | 0/585 [00:00<?, ?it/s]"
      ]
     },
     "metadata": {},
     "output_type": "display_data"
    },
    {
     "name": "stdout",
     "output_type": "stream",
     "text": [
      "{'eval_loss': 0.7207505702972412, 'eval_accuracy': 0.35510358239850426, 'eval_f1': 0.35510358239850426, 'eval_recall': 0.35510358239850426, 'eval_precision': 0.35510358239850426, 'eval_runtime': 72.8927, 'eval_samples_per_second': 32.102, 'eval_steps_per_second': 8.025, 'epoch': 1.36}\n",
      "{'loss': 0.5867, 'learning_rate': 2.2611144638905654e-05, 'epoch': 1.43}\n"
     ]
    },
    {
     "data": {
      "application/vnd.jupyter.widget-view+json": {
       "model_id": "9d5c1ef5ef844b90acbd8e720fdc6a72",
       "version_major": 2,
       "version_minor": 0
      },
      "text/plain": [
       "  0%|          | 0/585 [00:00<?, ?it/s]"
      ]
     },
     "metadata": {},
     "output_type": "display_data"
    },
    {
     "name": "stdout",
     "output_type": "stream",
     "text": [
      "{'eval_loss': 0.6896581053733826, 'eval_accuracy': 0.3594780815972222, 'eval_f1': 0.3594780815972222, 'eval_recall': 0.3594780815972222, 'eval_precision': 0.3594780815972222, 'eval_runtime': 73.1584, 'eval_samples_per_second': 31.985, 'eval_steps_per_second': 7.996, 'epoch': 1.43}\n",
      "{'loss': 0.5834, 'learning_rate': 2.2485415409374372e-05, 'epoch': 1.51}\n"
     ]
    },
    {
     "data": {
      "application/vnd.jupyter.widget-view+json": {
       "model_id": "8f7adfc798b94d518074722837155cfd",
       "version_major": 2,
       "version_minor": 0
      },
      "text/plain": [
       "  0%|          | 0/585 [00:00<?, ?it/s]"
      ]
     },
     "metadata": {},
     "output_type": "display_data"
    },
    {
     "name": "stdout",
     "output_type": "stream",
     "text": [
      "{'eval_loss': 0.7031875848770142, 'eval_accuracy': 0.3584263989049145, 'eval_f1': 0.35842639890491446, 'eval_recall': 0.3584263989049145, 'eval_precision': 0.3584263989049145, 'eval_runtime': 73.0276, 'eval_samples_per_second': 32.043, 'eval_steps_per_second': 8.011, 'epoch': 1.51}\n",
      "{'loss': 0.5579, 'learning_rate': 2.2359686179843093e-05, 'epoch': 1.58}\n"
     ]
    },
    {
     "data": {
      "application/vnd.jupyter.widget-view+json": {
       "model_id": "7c7b615ffaa54515905dbbaf9bc9f5b2",
       "version_major": 2,
       "version_minor": 0
      },
      "text/plain": [
       "  0%|          | 0/585 [00:00<?, ?it/s]"
      ]
     },
     "metadata": {},
     "output_type": "display_data"
    },
    {
     "name": "stdout",
     "output_type": "stream",
     "text": [
      "{'eval_loss': 0.7188944220542908, 'eval_accuracy': 0.356666499732906, 'eval_f1': 0.35666649973290604, 'eval_recall': 0.356666499732906, 'eval_precision': 0.356666499732906, 'eval_runtime': 72.8276, 'eval_samples_per_second': 32.131, 'eval_steps_per_second': 8.033, 'epoch': 1.58}\n",
      "{'loss': 0.5654, 'learning_rate': 2.223395695031181e-05, 'epoch': 1.66}\n"
     ]
    },
    {
     "data": {
      "application/vnd.jupyter.widget-view+json": {
       "model_id": "9a9df6a59f9a4ad9822cdbdbcbcad7c3",
       "version_major": 2,
       "version_minor": 0
      },
      "text/plain": [
       "  0%|          | 0/585 [00:00<?, ?it/s]"
      ]
     },
     "metadata": {},
     "output_type": "display_data"
    },
    {
     "name": "stdout",
     "output_type": "stream",
     "text": [
      "{'eval_loss': 0.6936993598937988, 'eval_accuracy': 0.3595310830662393, 'eval_f1': 0.3595310830662393, 'eval_recall': 0.3595310830662393, 'eval_precision': 0.3595310830662393, 'eval_runtime': 72.8879, 'eval_samples_per_second': 32.104, 'eval_steps_per_second': 8.026, 'epoch': 1.66}\n",
      "{'loss': 0.5774, 'learning_rate': 2.2108227720780528e-05, 'epoch': 1.74}\n"
     ]
    },
    {
     "data": {
      "application/vnd.jupyter.widget-view+json": {
       "model_id": "3ff3a7a3591b4c4687fad1c8bcdc6074",
       "version_major": 2,
       "version_minor": 0
      },
      "text/plain": [
       "  0%|          | 0/585 [00:00<?, ?it/s]"
      ]
     },
     "metadata": {},
     "output_type": "display_data"
    },
    {
     "name": "stdout",
     "output_type": "stream",
     "text": [
      "{'eval_loss': 0.7040699124336243, 'eval_accuracy': 0.35767978766025643, 'eval_f1': 0.35767978766025643, 'eval_recall': 0.35767978766025643, 'eval_precision': 0.35767978766025643, 'eval_runtime': 72.6114, 'eval_samples_per_second': 32.226, 'eval_steps_per_second': 8.057, 'epoch': 1.74}\n",
      "{'loss': 0.5647, 'learning_rate': 2.1982498491249246e-05, 'epoch': 1.81}\n"
     ]
    },
    {
     "data": {
      "application/vnd.jupyter.widget-view+json": {
       "model_id": "206764635af446269078c3b25fe2b260",
       "version_major": 2,
       "version_minor": 0
      },
      "text/plain": [
       "  0%|          | 0/585 [00:00<?, ?it/s]"
      ]
     },
     "metadata": {},
     "output_type": "display_data"
    },
    {
     "name": "stdout",
     "output_type": "stream",
     "text": [
      "{'eval_loss': 0.6939553022384644, 'eval_accuracy': 0.36118330996260684, 'eval_f1': 0.36118330996260684, 'eval_recall': 0.36118330996260684, 'eval_precision': 0.36118330996260684, 'eval_runtime': 72.8388, 'eval_samples_per_second': 32.126, 'eval_steps_per_second': 8.031, 'epoch': 1.81}\n",
      "{'loss': 0.5769, 'learning_rate': 2.1856769261717967e-05, 'epoch': 1.89}\n"
     ]
    },
    {
     "data": {
      "application/vnd.jupyter.widget-view+json": {
       "model_id": "b524aa6a929a48299d610453689186b9",
       "version_major": 2,
       "version_minor": 0
      },
      "text/plain": [
       "  0%|          | 0/585 [00:00<?, ?it/s]"
      ]
     },
     "metadata": {},
     "output_type": "display_data"
    },
    {
     "name": "stdout",
     "output_type": "stream",
     "text": [
      "{'eval_loss': 0.6784608364105225, 'eval_accuracy': 0.36103724292200856, 'eval_f1': 0.36103724292200856, 'eval_recall': 0.36103724292200856, 'eval_precision': 0.36103724292200856, 'eval_runtime': 72.9026, 'eval_samples_per_second': 32.098, 'eval_steps_per_second': 8.024, 'epoch': 1.89}\n",
      "{'loss': 0.5671, 'learning_rate': 2.1731040032186685e-05, 'epoch': 1.96}\n"
     ]
    },
    {
     "data": {
      "application/vnd.jupyter.widget-view+json": {
       "model_id": "767c414f4004409f81040452ba90706f",
       "version_major": 2,
       "version_minor": 0
      },
      "text/plain": [
       "  0%|          | 0/585 [00:00<?, ?it/s]"
      ]
     },
     "metadata": {},
     "output_type": "display_data"
    },
    {
     "name": "stdout",
     "output_type": "stream",
     "text": [
      "{'eval_loss': 0.6799605488777161, 'eval_accuracy': 0.36164029113247864, 'eval_f1': 0.36164029113247864, 'eval_recall': 0.36164029113247864, 'eval_precision': 0.36164029113247864, 'eval_runtime': 73.3688, 'eval_samples_per_second': 31.894, 'eval_steps_per_second': 7.973, 'epoch': 1.96}\n",
      "{'loss': 0.5324, 'learning_rate': 2.1605310802655402e-05, 'epoch': 2.04}\n"
     ]
    },
    {
     "data": {
      "application/vnd.jupyter.widget-view+json": {
       "model_id": "5fb447f61d1f4f59b26b3646d35ec778",
       "version_major": 2,
       "version_minor": 0
      },
      "text/plain": [
       "  0%|          | 0/585 [00:00<?, ?it/s]"
      ]
     },
     "metadata": {},
     "output_type": "display_data"
    },
    {
     "name": "stdout",
     "output_type": "stream",
     "text": [
      "{'eval_loss': 0.7178347110748291, 'eval_accuracy': 0.352454343616453, 'eval_f1': 0.352454343616453, 'eval_recall': 0.352454343616453, 'eval_precision': 0.352454343616453, 'eval_runtime': 72.8589, 'eval_samples_per_second': 32.117, 'eval_steps_per_second': 8.029, 'epoch': 2.04}\n",
      "{'loss': 0.4655, 'learning_rate': 2.1479581573124123e-05, 'epoch': 2.11}\n"
     ]
    },
    {
     "data": {
      "application/vnd.jupyter.widget-view+json": {
       "model_id": "bdf30f7c64b24b7b9735e39a9094a58a",
       "version_major": 2,
       "version_minor": 0
      },
      "text/plain": [
       "  0%|          | 0/585 [00:00<?, ?it/s]"
      ]
     },
     "metadata": {},
     "output_type": "display_data"
    },
    {
     "name": "stdout",
     "output_type": "stream",
     "text": [
      "{'eval_loss': 0.6934775710105896, 'eval_accuracy': 0.3596988514957265, 'eval_f1': 0.3596988514957265, 'eval_recall': 0.3596988514957265, 'eval_precision': 0.3596988514957265, 'eval_runtime': 72.7905, 'eval_samples_per_second': 32.147, 'eval_steps_per_second': 8.037, 'epoch': 2.11}\n",
      "{'loss': 0.4649, 'learning_rate': 2.135385234359284e-05, 'epoch': 2.19}\n"
     ]
    },
    {
     "data": {
      "application/vnd.jupyter.widget-view+json": {
       "model_id": "0e872e7a9ce242c188e82260a80390bf",
       "version_major": 2,
       "version_minor": 0
      },
      "text/plain": [
       "  0%|          | 0/585 [00:00<?, ?it/s]"
      ]
     },
     "metadata": {},
     "output_type": "display_data"
    },
    {
     "name": "stdout",
     "output_type": "stream",
     "text": [
      "{'eval_loss': 0.7042339444160461, 'eval_accuracy': 0.35887252938034186, 'eval_f1': 0.3588725293803419, 'eval_recall': 0.35887252938034186, 'eval_precision': 0.35887252938034186, 'eval_runtime': 73.066, 'eval_samples_per_second': 32.026, 'eval_steps_per_second': 8.006, 'epoch': 2.19}\n",
      "{'loss': 0.4683, 'learning_rate': 2.122812311406156e-05, 'epoch': 2.26}\n"
     ]
    },
    {
     "data": {
      "application/vnd.jupyter.widget-view+json": {
       "model_id": "3ce046b68f654fd5bc5f6073595e5d48",
       "version_major": 2,
       "version_minor": 0
      },
      "text/plain": [
       "  0%|          | 0/585 [00:00<?, ?it/s]"
      ]
     },
     "metadata": {},
     "output_type": "display_data"
    },
    {
     "name": "stdout",
     "output_type": "stream",
     "text": [
      "{'eval_loss': 0.6910664439201355, 'eval_accuracy': 0.3600289630074786, 'eval_f1': 0.3600289630074786, 'eval_recall': 0.3600289630074786, 'eval_precision': 0.3600289630074786, 'eval_runtime': 73.1166, 'eval_samples_per_second': 32.004, 'eval_steps_per_second': 8.001, 'epoch': 2.26}\n",
      "{'loss': 0.4573, 'learning_rate': 2.1102393884530277e-05, 'epoch': 2.34}\n"
     ]
    },
    {
     "data": {
      "application/vnd.jupyter.widget-view+json": {
       "model_id": "163cfd504ca44eaba3db556e835245d3",
       "version_major": 2,
       "version_minor": 0
      },
      "text/plain": [
       "  0%|          | 0/585 [00:00<?, ?it/s]"
      ]
     },
     "metadata": {},
     "output_type": "display_data"
    },
    {
     "name": "stdout",
     "output_type": "stream",
     "text": [
      "{'eval_loss': 0.7384594082832336, 'eval_accuracy': 0.3520787426549145, 'eval_f1': 0.3520787426549145, 'eval_recall': 0.3520787426549145, 'eval_precision': 0.3520787426549145, 'eval_runtime': 72.9232, 'eval_samples_per_second': 32.089, 'eval_steps_per_second': 8.022, 'epoch': 2.34}\n",
      "{'loss': 0.4783, 'learning_rate': 2.0976664654998994e-05, 'epoch': 2.41}\n"
     ]
    },
    {
     "data": {
      "application/vnd.jupyter.widget-view+json": {
       "model_id": "e0dfcca0d99440ae8a40292fd1d7e867",
       "version_major": 2,
       "version_minor": 0
      },
      "text/plain": [
       "  0%|          | 0/585 [00:00<?, ?it/s]"
      ]
     },
     "metadata": {},
     "output_type": "display_data"
    },
    {
     "name": "stdout",
     "output_type": "stream",
     "text": [
      "{'eval_loss': 0.7061854004859924, 'eval_accuracy': 0.3602221888354701, 'eval_f1': 0.36022218883547014, 'eval_recall': 0.3602221888354701, 'eval_precision': 0.3602221888354701, 'eval_runtime': 73.3562, 'eval_samples_per_second': 31.899, 'eval_steps_per_second': 7.975, 'epoch': 2.41}\n",
      "{'loss': 0.4639, 'learning_rate': 2.0850935425467712e-05, 'epoch': 2.49}\n"
     ]
    },
    {
     "data": {
      "application/vnd.jupyter.widget-view+json": {
       "model_id": "509174a06b0a426fa905af786fc4122f",
       "version_major": 2,
       "version_minor": 0
      },
      "text/plain": [
       "  0%|          | 0/585 [00:00<?, ?it/s]"
      ]
     },
     "metadata": {},
     "output_type": "display_data"
    },
    {
     "name": "stdout",
     "output_type": "stream",
     "text": [
      "{'eval_loss': 0.7053827047348022, 'eval_accuracy': 0.3573939135950855, 'eval_f1': 0.3573939135950855, 'eval_recall': 0.3573939135950855, 'eval_precision': 0.3573939135950855, 'eval_runtime': 72.896, 'eval_samples_per_second': 32.101, 'eval_steps_per_second': 8.025, 'epoch': 2.49}\n",
      "{'loss': 0.4843, 'learning_rate': 2.0725206195936433e-05, 'epoch': 2.56}\n"
     ]
    },
    {
     "data": {
      "application/vnd.jupyter.widget-view+json": {
       "model_id": "88a393d02fff455d9d0427fe9e17357a",
       "version_major": 2,
       "version_minor": 0
      },
      "text/plain": [
       "  0%|          | 0/585 [00:00<?, ?it/s]"
      ]
     },
     "metadata": {},
     "output_type": "display_data"
    },
    {
     "name": "stdout",
     "output_type": "stream",
     "text": [
      "{'eval_loss': 0.701378583908081, 'eval_accuracy': 0.35716396233974357, 'eval_f1': 0.3571639623397436, 'eval_recall': 0.35716396233974357, 'eval_precision': 0.35716396233974357, 'eval_runtime': 72.6109, 'eval_samples_per_second': 32.227, 'eval_steps_per_second': 8.057, 'epoch': 2.56}\n",
      "{'loss': 0.4717, 'learning_rate': 2.059947696640515e-05, 'epoch': 2.64}\n"
     ]
    },
    {
     "data": {
      "application/vnd.jupyter.widget-view+json": {
       "model_id": "6d2341e98bc34727877e3bd2bacbacd7",
       "version_major": 2,
       "version_minor": 0
      },
      "text/plain": [
       "  0%|          | 0/585 [00:00<?, ?it/s]"
      ]
     },
     "metadata": {},
     "output_type": "display_data"
    },
    {
     "name": "stdout",
     "output_type": "stream",
     "text": [
      "{'eval_loss': 0.7192420363426208, 'eval_accuracy': 0.3567783453525641, 'eval_f1': 0.3567783453525641, 'eval_recall': 0.3567783453525641, 'eval_precision': 0.3567783453525641, 'eval_runtime': 73.0859, 'eval_samples_per_second': 32.017, 'eval_steps_per_second': 8.004, 'epoch': 2.64}\n",
      "{'loss': 0.4904, 'learning_rate': 2.047374773687387e-05, 'epoch': 2.72}\n"
     ]
    },
    {
     "data": {
      "application/vnd.jupyter.widget-view+json": {
       "model_id": "506b8f2bb7974c6c81fc7b98be7821e3",
       "version_major": 2,
       "version_minor": 0
      },
      "text/plain": [
       "  0%|          | 0/585 [00:00<?, ?it/s]"
      ]
     },
     "metadata": {},
     "output_type": "display_data"
    },
    {
     "name": "stdout",
     "output_type": "stream",
     "text": [
      "{'eval_loss': 0.6990467309951782, 'eval_accuracy': 0.3592957064636752, 'eval_f1': 0.35929570646367526, 'eval_recall': 0.3592957064636752, 'eval_precision': 0.3592957064636752, 'eval_runtime': 73.4598, 'eval_samples_per_second': 31.854, 'eval_steps_per_second': 7.964, 'epoch': 2.72}\n",
      "{'loss': 0.4876, 'learning_rate': 2.0348018507342586e-05, 'epoch': 2.79}\n"
     ]
    },
    {
     "data": {
      "application/vnd.jupyter.widget-view+json": {
       "model_id": "d4fe8e8333a04a29b51097e5cba3af8d",
       "version_major": 2,
       "version_minor": 0
      },
      "text/plain": [
       "  0%|          | 0/585 [00:00<?, ?it/s]"
      ]
     },
     "metadata": {},
     "output_type": "display_data"
    },
    {
     "name": "stdout",
     "output_type": "stream",
     "text": [
      "{'eval_loss': 0.7010219097137451, 'eval_accuracy': 0.3599972455929487, 'eval_f1': 0.3599972455929487, 'eval_recall': 0.3599972455929487, 'eval_precision': 0.3599972455929487, 'eval_runtime': 72.8412, 'eval_samples_per_second': 32.125, 'eval_steps_per_second': 8.031, 'epoch': 2.79}\n",
      "{'loss': 0.4935, 'learning_rate': 2.0222289277811307e-05, 'epoch': 2.87}\n"
     ]
    },
    {
     "data": {
      "application/vnd.jupyter.widget-view+json": {
       "model_id": "f1c5f06383864faa94ea1804f170808e",
       "version_major": 2,
       "version_minor": 0
      },
      "text/plain": [
       "  0%|          | 0/585 [00:00<?, ?it/s]"
      ]
     },
     "metadata": {},
     "output_type": "display_data"
    },
    {
     "name": "stdout",
     "output_type": "stream",
     "text": [
      "{'eval_loss': 0.7072455286979675, 'eval_accuracy': 0.36113531650641023, 'eval_f1': 0.36113531650641023, 'eval_recall': 0.36113531650641023, 'eval_precision': 0.36113531650641023, 'eval_runtime': 72.8217, 'eval_samples_per_second': 32.133, 'eval_steps_per_second': 8.033, 'epoch': 2.87}\n",
      "{'loss': 0.4635, 'learning_rate': 2.0096560048280025e-05, 'epoch': 2.94}\n"
     ]
    },
    {
     "data": {
      "application/vnd.jupyter.widget-view+json": {
       "model_id": "57528a3d784a4213b95c2d5d82b86f00",
       "version_major": 2,
       "version_minor": 0
      },
      "text/plain": [
       "  0%|          | 0/585 [00:00<?, ?it/s]"
      ]
     },
     "metadata": {},
     "output_type": "display_data"
    },
    {
     "name": "stdout",
     "output_type": "stream",
     "text": [
      "{'eval_loss': 0.6791037917137146, 'eval_accuracy': 0.36294362646901707, 'eval_f1': 0.36294362646901707, 'eval_recall': 0.36294362646901707, 'eval_precision': 0.36294362646901707, 'eval_runtime': 72.8858, 'eval_samples_per_second': 32.105, 'eval_steps_per_second': 8.026, 'epoch': 2.94}\n",
      "{'loss': 0.4494, 'learning_rate': 1.9970830818748742e-05, 'epoch': 3.02}\n"
     ]
    },
    {
     "data": {
      "application/vnd.jupyter.widget-view+json": {
       "model_id": "ad2d608578ae4197923da2581226993d",
       "version_major": 2,
       "version_minor": 0
      },
      "text/plain": [
       "  0%|          | 0/585 [00:00<?, ?it/s]"
      ]
     },
     "metadata": {},
     "output_type": "display_data"
    },
    {
     "name": "stdout",
     "output_type": "stream",
     "text": [
      "{'eval_loss': 0.7181031107902527, 'eval_accuracy': 0.357337156116453, 'eval_f1': 0.357337156116453, 'eval_recall': 0.357337156116453, 'eval_precision': 0.357337156116453, 'eval_runtime': 73.1623, 'eval_samples_per_second': 31.984, 'eval_steps_per_second': 7.996, 'epoch': 3.02}\n",
      "{'loss': 0.3615, 'learning_rate': 1.9845101589217464e-05, 'epoch': 3.09}\n"
     ]
    },
    {
     "data": {
      "application/vnd.jupyter.widget-view+json": {
       "model_id": "c09d8a08f3eb40418cb7e07c008cb163",
       "version_major": 2,
       "version_minor": 0
      },
      "text/plain": [
       "  0%|          | 0/585 [00:00<?, ?it/s]"
      ]
     },
     "metadata": {},
     "output_type": "display_data"
    },
    {
     "name": "stdout",
     "output_type": "stream",
     "text": [
      "{'eval_loss': 0.7453338503837585, 'eval_accuracy': 0.3555668235844017, 'eval_f1': 0.35556682358440167, 'eval_recall': 0.3555668235844017, 'eval_precision': 0.3555668235844017, 'eval_runtime': 73.7269, 'eval_samples_per_second': 31.739, 'eval_steps_per_second': 7.935, 'epoch': 3.09}\n",
      "{'loss': 0.3833, 'learning_rate': 1.971937235968618e-05, 'epoch': 3.17}\n"
     ]
    },
    {
     "data": {
      "application/vnd.jupyter.widget-view+json": {
       "model_id": "7b6febfa71bd4320b30272df9ca61d4b",
       "version_major": 2,
       "version_minor": 0
      },
      "text/plain": [
       "  0%|          | 0/585 [00:00<?, ?it/s]"
      ]
     },
     "metadata": {},
     "output_type": "display_data"
    },
    {
     "name": "stdout",
     "output_type": "stream",
     "text": [
      "{'eval_loss': 0.7711067199707031, 'eval_accuracy': 0.35642987112713675, 'eval_f1': 0.35642987112713675, 'eval_recall': 0.35642987112713675, 'eval_precision': 0.35642987112713675, 'eval_runtime': 72.8419, 'eval_samples_per_second': 32.124, 'eval_steps_per_second': 8.031, 'epoch': 3.17}\n",
      "{'loss': 0.3711, 'learning_rate': 1.95936431301549e-05, 'epoch': 3.24}\n"
     ]
    },
    {
     "data": {
      "application/vnd.jupyter.widget-view+json": {
       "model_id": "0fb8fbd7c91645b782993b36420a1eee",
       "version_major": 2,
       "version_minor": 0
      },
      "text/plain": [
       "  0%|          | 0/585 [00:00<?, ?it/s]"
      ]
     },
     "metadata": {},
     "output_type": "display_data"
    },
    {
     "name": "stdout",
     "output_type": "stream",
     "text": [
      "{'eval_loss': 0.7313233613967896, 'eval_accuracy': 0.3589626736111111, 'eval_f1': 0.3589626736111111, 'eval_recall': 0.3589626736111111, 'eval_precision': 0.3589626736111111, 'eval_runtime': 72.6194, 'eval_samples_per_second': 32.223, 'eval_steps_per_second': 8.056, 'epoch': 3.24}\n",
      "{'loss': 0.3829, 'learning_rate': 1.946791390062362e-05, 'epoch': 3.32}\n"
     ]
    },
    {
     "data": {
      "application/vnd.jupyter.widget-view+json": {
       "model_id": "2a9ec4b8b4194061b98c9b47e6e12ede",
       "version_major": 2,
       "version_minor": 0
      },
      "text/plain": [
       "  0%|          | 0/585 [00:00<?, ?it/s]"
      ]
     },
     "metadata": {},
     "output_type": "display_data"
    },
    {
     "name": "stdout",
     "output_type": "stream",
     "text": [
      "{'eval_loss': 0.7744523286819458, 'eval_accuracy': 0.3547283987713675, 'eval_f1': 0.3547283987713675, 'eval_recall': 0.3547283987713675, 'eval_precision': 0.3547283987713675, 'eval_runtime': 72.8164, 'eval_samples_per_second': 32.136, 'eval_steps_per_second': 8.034, 'epoch': 3.32}\n",
      "{'loss': 0.3823, 'learning_rate': 1.9342184671092338e-05, 'epoch': 3.39}\n"
     ]
    },
    {
     "data": {
      "application/vnd.jupyter.widget-view+json": {
       "model_id": "19a6901644644712ac27d33cd408dfb8",
       "version_major": 2,
       "version_minor": 0
      },
      "text/plain": [
       "  0%|          | 0/585 [00:00<?, ?it/s]"
      ]
     },
     "metadata": {},
     "output_type": "display_data"
    },
    {
     "name": "stdout",
     "output_type": "stream",
     "text": [
      "{'eval_loss': 0.7229037880897522, 'eval_accuracy': 0.3578300280448718, 'eval_f1': 0.3578300280448718, 'eval_recall': 0.3578300280448718, 'eval_precision': 0.3578300280448718, 'eval_runtime': 73.0726, 'eval_samples_per_second': 32.023, 'eval_steps_per_second': 8.006, 'epoch': 3.39}\n",
      "{'loss': 0.372, 'learning_rate': 1.9216455441561055e-05, 'epoch': 3.47}\n"
     ]
    },
    {
     "data": {
      "application/vnd.jupyter.widget-view+json": {
       "model_id": "57d4320d9184487c86e9d910911dd5f1",
       "version_major": 2,
       "version_minor": 0
      },
      "text/plain": [
       "  0%|          | 0/585 [00:00<?, ?it/s]"
      ]
     },
     "metadata": {},
     "output_type": "display_data"
    },
    {
     "name": "stdout",
     "output_type": "stream",
     "text": [
      "{'eval_loss': 0.7405529022216797, 'eval_accuracy': 0.3547805655715812, 'eval_f1': 0.3547805655715812, 'eval_recall': 0.3547805655715812, 'eval_precision': 0.3547805655715812, 'eval_runtime': 73.0089, 'eval_samples_per_second': 32.051, 'eval_steps_per_second': 8.013, 'epoch': 3.47}\n",
      "{'loss': 0.3819, 'learning_rate': 1.9090726212029776e-05, 'epoch': 3.55}\n"
     ]
    },
    {
     "data": {
      "application/vnd.jupyter.widget-view+json": {
       "model_id": "6d84f5dfe1ee4da98f5088487c133ce2",
       "version_major": 2,
       "version_minor": 0
      },
      "text/plain": [
       "  0%|          | 0/585 [00:00<?, ?it/s]"
      ]
     },
     "metadata": {},
     "output_type": "display_data"
    },
    {
     "name": "stdout",
     "output_type": "stream",
     "text": [
      "{'eval_loss': 0.7586023211479187, 'eval_accuracy': 0.3539008246527778, 'eval_f1': 0.3539008246527778, 'eval_recall': 0.3539008246527778, 'eval_precision': 0.3539008246527778, 'eval_runtime': 72.6778, 'eval_samples_per_second': 32.197, 'eval_steps_per_second': 8.049, 'epoch': 3.55}\n",
      "{'loss': 0.3921, 'learning_rate': 1.8964996982498494e-05, 'epoch': 3.62}\n"
     ]
    },
    {
     "data": {
      "application/vnd.jupyter.widget-view+json": {
       "model_id": "77e4a9c0fef74ae1873313c64738e550",
       "version_major": 2,
       "version_minor": 0
      },
      "text/plain": [
       "  0%|          | 0/585 [00:00<?, ?it/s]"
      ]
     },
     "metadata": {},
     "output_type": "display_data"
    },
    {
     "name": "stdout",
     "output_type": "stream",
     "text": [
      "{'eval_loss': 0.7509793639183044, 'eval_accuracy': 0.3530565571581197, 'eval_f1': 0.3530565571581197, 'eval_recall': 0.3530565571581197, 'eval_precision': 0.3530565571581197, 'eval_runtime': 72.8489, 'eval_samples_per_second': 32.121, 'eval_steps_per_second': 8.03, 'epoch': 3.62}\n",
      "{'loss': 0.3837, 'learning_rate': 1.8839267752967212e-05, 'epoch': 3.7}\n"
     ]
    },
    {
     "data": {
      "application/vnd.jupyter.widget-view+json": {
       "model_id": "a11c7f580b58409b95bf15dc3b946255",
       "version_major": 2,
       "version_minor": 0
      },
      "text/plain": [
       "  0%|          | 0/585 [00:00<?, ?it/s]"
      ]
     },
     "metadata": {},
     "output_type": "display_data"
    },
    {
     "name": "stdout",
     "output_type": "stream",
     "text": [
      "{'eval_loss': 0.756458580493927, 'eval_accuracy': 0.3568280081463675, 'eval_f1': 0.3568280081463675, 'eval_recall': 0.3568280081463675, 'eval_precision': 0.3568280081463675, 'eval_runtime': 72.9921, 'eval_samples_per_second': 32.058, 'eval_steps_per_second': 8.015, 'epoch': 3.7}\n",
      "{'loss': 0.3903, 'learning_rate': 1.871353852343593e-05, 'epoch': 3.77}\n"
     ]
    },
    {
     "data": {
      "application/vnd.jupyter.widget-view+json": {
       "model_id": "79a36edf4b4f440686455c09e5905742",
       "version_major": 2,
       "version_minor": 0
      },
      "text/plain": [
       "  0%|          | 0/585 [00:00<?, ?it/s]"
      ]
     },
     "metadata": {},
     "output_type": "display_data"
    },
    {
     "name": "stdout",
     "output_type": "stream",
     "text": [
      "{'eval_loss': 0.7489288449287415, 'eval_accuracy': 0.35499215411324786, 'eval_f1': 0.3549921541132479, 'eval_recall': 0.35499215411324786, 'eval_precision': 0.35499215411324786, 'eval_runtime': 73.1036, 'eval_samples_per_second': 32.009, 'eval_steps_per_second': 8.002, 'epoch': 3.77}\n",
      "{'loss': 0.3913, 'learning_rate': 1.8587809293904647e-05, 'epoch': 3.85}\n"
     ]
    },
    {
     "data": {
      "application/vnd.jupyter.widget-view+json": {
       "model_id": "3c03921c1a844bf6bd45edd173ee8978",
       "version_major": 2,
       "version_minor": 0
      },
      "text/plain": [
       "  0%|          | 0/585 [00:00<?, ?it/s]"
      ]
     },
     "metadata": {},
     "output_type": "display_data"
    },
    {
     "name": "stdout",
     "output_type": "stream",
     "text": [
      "{'eval_loss': 0.7446305751800537, 'eval_accuracy': 0.36020382612179486, 'eval_f1': 0.36020382612179486, 'eval_recall': 0.36020382612179486, 'eval_precision': 0.36020382612179486, 'eval_runtime': 73.2622, 'eval_samples_per_second': 31.94, 'eval_steps_per_second': 7.985, 'epoch': 3.85}\n",
      "{'loss': 0.3849, 'learning_rate': 1.8462080064373365e-05, 'epoch': 3.92}\n"
     ]
    },
    {
     "data": {
      "application/vnd.jupyter.widget-view+json": {
       "model_id": "974b2e3b44a7493e9e8a49ee2c7df60e",
       "version_major": 2,
       "version_minor": 0
      },
      "text/plain": [
       "  0%|          | 0/585 [00:00<?, ?it/s]"
      ]
     },
     "metadata": {},
     "output_type": "display_data"
    },
    {
     "name": "stdout",
     "output_type": "stream",
     "text": [
      "{'eval_loss': 0.7172488570213318, 'eval_accuracy': 0.3597702156784188, 'eval_f1': 0.3597702156784188, 'eval_recall': 0.3597702156784188, 'eval_precision': 0.3597702156784188, 'eval_runtime': 72.9971, 'eval_samples_per_second': 32.056, 'eval_steps_per_second': 8.014, 'epoch': 3.92}\n",
      "{'loss': 0.3694, 'learning_rate': 1.8336350834842083e-05, 'epoch': 4.0}\n"
     ]
    },
    {
     "data": {
      "application/vnd.jupyter.widget-view+json": {
       "model_id": "72622ce69d9944c8929c340a78654772",
       "version_major": 2,
       "version_minor": 0
      },
      "text/plain": [
       "  0%|          | 0/585 [00:00<?, ?it/s]"
      ]
     },
     "metadata": {},
     "output_type": "display_data"
    },
    {
     "name": "stdout",
     "output_type": "stream",
     "text": [
      "{'eval_loss': 0.7766046524047852, 'eval_accuracy': 0.3560338207799145, 'eval_f1': 0.35603382077991447, 'eval_recall': 0.3560338207799145, 'eval_precision': 0.3560338207799145, 'eval_runtime': 73.065, 'eval_samples_per_second': 32.026, 'eval_steps_per_second': 8.007, 'epoch': 4.0}\n",
      "{'loss': 0.3031, 'learning_rate': 1.8210621605310804e-05, 'epoch': 4.07}\n"
     ]
    },
    {
     "data": {
      "application/vnd.jupyter.widget-view+json": {
       "model_id": "7d74d0d85ce04385bda0ee8652023ca3",
       "version_major": 2,
       "version_minor": 0
      },
      "text/plain": [
       "  0%|          | 0/585 [00:00<?, ?it/s]"
      ]
     },
     "metadata": {},
     "output_type": "display_data"
    },
    {
     "name": "stdout",
     "output_type": "stream",
     "text": [
      "{'eval_loss': 0.8096473217010498, 'eval_accuracy': 0.35211379874465815, 'eval_f1': 0.35211379874465815, 'eval_recall': 0.35211379874465815, 'eval_precision': 0.35211379874465815, 'eval_runtime': 72.9551, 'eval_samples_per_second': 32.075, 'eval_steps_per_second': 8.019, 'epoch': 4.07}\n",
      "{'loss': 0.2908, 'learning_rate': 1.808489237577952e-05, 'epoch': 4.15}\n"
     ]
    },
    {
     "data": {
      "application/vnd.jupyter.widget-view+json": {
       "model_id": "c03233afb12640f5bc47dbb0b726e2ea",
       "version_major": 2,
       "version_minor": 0
      },
      "text/plain": [
       "  0%|          | 0/585 [00:00<?, ?it/s]"
      ]
     },
     "metadata": {},
     "output_type": "display_data"
    },
    {
     "name": "stdout",
     "output_type": "stream",
     "text": [
      "{'eval_loss': 0.8234766125679016, 'eval_accuracy': 0.35434486845619656, 'eval_f1': 0.35434486845619656, 'eval_recall': 0.35434486845619656, 'eval_precision': 0.35434486845619656, 'eval_runtime': 72.9611, 'eval_samples_per_second': 32.072, 'eval_steps_per_second': 8.018, 'epoch': 4.15}\n",
      "{'loss': 0.2959, 'learning_rate': 1.795916314624824e-05, 'epoch': 4.22}\n"
     ]
    },
    {
     "data": {
      "application/vnd.jupyter.widget-view+json": {
       "model_id": "b506e6fb2fa5414c8a9da4dcd469d204",
       "version_major": 2,
       "version_minor": 0
      },
      "text/plain": [
       "  0%|          | 0/585 [00:00<?, ?it/s]"
      ]
     },
     "metadata": {},
     "output_type": "display_data"
    },
    {
     "name": "stdout",
     "output_type": "stream",
     "text": [
      "{'eval_loss': 0.8110107183456421, 'eval_accuracy': 0.35037935697115385, 'eval_f1': 0.35037935697115385, 'eval_recall': 0.35037935697115385, 'eval_precision': 0.35037935697115385, 'eval_runtime': 73.1896, 'eval_samples_per_second': 31.972, 'eval_steps_per_second': 7.993, 'epoch': 4.22}\n",
      "{'loss': 0.305, 'learning_rate': 1.783343391671696e-05, 'epoch': 4.3}\n"
     ]
    },
    {
     "data": {
      "application/vnd.jupyter.widget-view+json": {
       "model_id": "ccf85f7ce8b34f1d8958951c7bd20168",
       "version_major": 2,
       "version_minor": 0
      },
      "text/plain": [
       "  0%|          | 0/585 [00:00<?, ?it/s]"
      ]
     },
     "metadata": {},
     "output_type": "display_data"
    },
    {
     "name": "stdout",
     "output_type": "stream",
     "text": [
      "{'eval_loss': 0.8305358290672302, 'eval_accuracy': 0.3554391192574786, 'eval_f1': 0.3554391192574786, 'eval_recall': 0.3554391192574786, 'eval_precision': 0.3554391192574786, 'eval_runtime': 72.8768, 'eval_samples_per_second': 32.109, 'eval_steps_per_second': 8.027, 'epoch': 4.3}\n",
      "{'loss': 0.3002, 'learning_rate': 1.7707704687185678e-05, 'epoch': 4.38}\n"
     ]
    },
    {
     "data": {
      "application/vnd.jupyter.widget-view+json": {
       "model_id": "aaf9d30904f04d52beb381a1bb973bea",
       "version_major": 2,
       "version_minor": 0
      },
      "text/plain": [
       "  0%|          | 0/585 [00:00<?, ?it/s]"
      ]
     },
     "metadata": {},
     "output_type": "display_data"
    },
    {
     "name": "stdout",
     "output_type": "stream",
     "text": [
      "{'eval_loss': 0.8097981810569763, 'eval_accuracy': 0.354818125667735, 'eval_f1': 0.354818125667735, 'eval_recall': 0.354818125667735, 'eval_precision': 0.354818125667735, 'eval_runtime': 72.7858, 'eval_samples_per_second': 32.149, 'eval_steps_per_second': 8.037, 'epoch': 4.38}\n",
      "{'loss': 0.3051, 'learning_rate': 1.7581975457654395e-05, 'epoch': 4.45}\n"
     ]
    },
    {
     "data": {
      "application/vnd.jupyter.widget-view+json": {
       "model_id": "31545171bddb42a5a90d38a309deb604",
       "version_major": 2,
       "version_minor": 0
      },
      "text/plain": [
       "  0%|          | 0/585 [00:00<?, ?it/s]"
      ]
     },
     "metadata": {},
     "output_type": "display_data"
    },
    {
     "name": "stdout",
     "output_type": "stream",
     "text": [
      "{'eval_loss': 0.7874986529350281, 'eval_accuracy': 0.3546082064636752, 'eval_f1': 0.3546082064636752, 'eval_recall': 0.3546082064636752, 'eval_precision': 0.3546082064636752, 'eval_runtime': 72.7503, 'eval_samples_per_second': 32.165, 'eval_steps_per_second': 8.041, 'epoch': 4.45}\n",
      "{'loss': 0.2966, 'learning_rate': 1.7456246228123116e-05, 'epoch': 4.53}\n"
     ]
    },
    {
     "data": {
      "application/vnd.jupyter.widget-view+json": {
       "model_id": "73260e1aaa074bca84c16f0b789529f6",
       "version_major": 2,
       "version_minor": 0
      },
      "text/plain": [
       "  0%|          | 0/585 [00:00<?, ?it/s]"
      ]
     },
     "metadata": {},
     "output_type": "display_data"
    },
    {
     "name": "stdout",
     "output_type": "stream",
     "text": [
      "{'eval_loss': 0.8444930911064148, 'eval_accuracy': 0.35581179887820513, 'eval_f1': 0.35581179887820513, 'eval_recall': 0.35581179887820513, 'eval_precision': 0.35581179887820513, 'eval_runtime': 73.0328, 'eval_samples_per_second': 32.04, 'eval_steps_per_second': 8.01, 'epoch': 4.53}\n",
      "{'loss': 0.3129, 'learning_rate': 1.7330516998591834e-05, 'epoch': 4.6}\n"
     ]
    },
    {
     "data": {
      "application/vnd.jupyter.widget-view+json": {
       "model_id": "2ae5deedd70c4258b1504ba9fdff3f69",
       "version_major": 2,
       "version_minor": 0
      },
      "text/plain": [
       "  0%|          | 0/585 [00:00<?, ?it/s]"
      ]
     },
     "metadata": {},
     "output_type": "display_data"
    },
    {
     "name": "stdout",
     "output_type": "stream",
     "text": [
      "{'eval_loss': 0.8340205550193787, 'eval_accuracy': 0.3549979967948718, 'eval_f1': 0.3549979967948719, 'eval_recall': 0.3549979967948718, 'eval_precision': 0.3549979967948718, 'eval_runtime': 72.9981, 'eval_samples_per_second': 32.056, 'eval_steps_per_second': 8.014, 'epoch': 4.6}\n",
      "{'loss': 0.2997, 'learning_rate': 1.7204787769060552e-05, 'epoch': 4.68}\n"
     ]
    },
    {
     "data": {
      "application/vnd.jupyter.widget-view+json": {
       "model_id": "62517a00657c41aea18e58e8a120c651",
       "version_major": 2,
       "version_minor": 0
      },
      "text/plain": [
       "  0%|          | 0/585 [00:00<?, ?it/s]"
      ]
     },
     "metadata": {},
     "output_type": "display_data"
    },
    {
     "name": "stdout",
     "output_type": "stream",
     "text": [
      "{'eval_loss': 0.8055925965309143, 'eval_accuracy': 0.3563931456997863, 'eval_f1': 0.35639314569978625, 'eval_recall': 0.3563931456997863, 'eval_precision': 0.3563931456997863, 'eval_runtime': 73.0527, 'eval_samples_per_second': 32.032, 'eval_steps_per_second': 8.008, 'epoch': 4.68}\n",
      "{'loss': 0.3099, 'learning_rate': 1.7079058539529273e-05, 'epoch': 4.75}\n"
     ]
    },
    {
     "data": {
      "application/vnd.jupyter.widget-view+json": {
       "model_id": "bb160b07f56c41e69af7d42b0618eace",
       "version_major": 2,
       "version_minor": 0
      },
      "text/plain": [
       "  0%|          | 0/585 [00:00<?, ?it/s]"
      ]
     },
     "metadata": {},
     "output_type": "display_data"
    },
    {
     "name": "stdout",
     "output_type": "stream",
     "text": [
      "{'eval_loss': 0.833756685256958, 'eval_accuracy': 0.3520524505876068, 'eval_f1': 0.3520524505876068, 'eval_recall': 0.3520524505876068, 'eval_precision': 0.3520524505876068, 'eval_runtime': 73.3161, 'eval_samples_per_second': 31.917, 'eval_steps_per_second': 7.979, 'epoch': 4.75}\n",
      "{'loss': 0.3061, 'learning_rate': 1.695332930999799e-05, 'epoch': 4.83}\n"
     ]
    },
    {
     "data": {
      "application/vnd.jupyter.widget-view+json": {
       "model_id": "24d6183648cb4e719337ec5258da109a",
       "version_major": 2,
       "version_minor": 0
      },
      "text/plain": [
       "  0%|          | 0/585 [00:00<?, ?it/s]"
      ]
     },
     "metadata": {},
     "output_type": "display_data"
    },
    {
     "name": "stdout",
     "output_type": "stream",
     "text": [
      "{'eval_loss': 0.8279000520706177, 'eval_accuracy': 0.3498092781784188, 'eval_f1': 0.3498092781784188, 'eval_recall': 0.3498092781784188, 'eval_precision': 0.3498092781784188, 'eval_runtime': 72.9941, 'eval_samples_per_second': 32.057, 'eval_steps_per_second': 8.014, 'epoch': 4.83}\n",
      "{'loss': 0.2966, 'learning_rate': 1.6827600080466708e-05, 'epoch': 4.9}\n"
     ]
    },
    {
     "data": {
      "application/vnd.jupyter.widget-view+json": {
       "model_id": "0ae884b8c0d349bea52c101fe1d745d1",
       "version_major": 2,
       "version_minor": 0
      },
      "text/plain": [
       "  0%|          | 0/585 [00:00<?, ?it/s]"
      ]
     },
     "metadata": {},
     "output_type": "display_data"
    },
    {
     "name": "stdout",
     "output_type": "stream",
     "text": [
      "{'eval_loss': 0.7978740930557251, 'eval_accuracy': 0.35280323517628204, 'eval_f1': 0.35280323517628204, 'eval_recall': 0.35280323517628204, 'eval_precision': 0.35280323517628204, 'eval_runtime': 73.4347, 'eval_samples_per_second': 31.865, 'eval_steps_per_second': 7.966, 'epoch': 4.9}\n",
      "{'loss': 0.2985, 'learning_rate': 1.6701870850935426e-05, 'epoch': 4.98}\n"
     ]
    },
    {
     "data": {
      "application/vnd.jupyter.widget-view+json": {
       "model_id": "d0a5c54e01864281b475903a38fbdbba",
       "version_major": 2,
       "version_minor": 0
      },
      "text/plain": [
       "  0%|          | 0/585 [00:00<?, ?it/s]"
      ]
     },
     "metadata": {},
     "output_type": "display_data"
    },
    {
     "name": "stdout",
     "output_type": "stream",
     "text": [
      "{'eval_loss': 0.8063808083534241, 'eval_accuracy': 0.35327816172542736, 'eval_f1': 0.35327816172542736, 'eval_recall': 0.35327816172542736, 'eval_precision': 0.35327816172542736, 'eval_runtime': 73.0437, 'eval_samples_per_second': 32.036, 'eval_steps_per_second': 8.009, 'epoch': 4.98}\n",
      "{'loss': 0.2525, 'learning_rate': 1.6576141621404147e-05, 'epoch': 5.05}\n"
     ]
    },
    {
     "data": {
      "application/vnd.jupyter.widget-view+json": {
       "model_id": "76ed8e32c93445b38879352dfb942279",
       "version_major": 2,
       "version_minor": 0
      },
      "text/plain": [
       "  0%|          | 0/585 [00:00<?, ?it/s]"
      ]
     },
     "metadata": {},
     "output_type": "display_data"
    },
    {
     "name": "stdout",
     "output_type": "stream",
     "text": [
      "{'eval_loss': 0.8790929317474365, 'eval_accuracy': 0.3533749833066239, 'eval_f1': 0.3533749833066239, 'eval_recall': 0.3533749833066239, 'eval_precision': 0.3533749833066239, 'eval_runtime': 72.9525, 'eval_samples_per_second': 32.076, 'eval_steps_per_second': 8.019, 'epoch': 5.05}\n",
      "{'loss': 0.237, 'learning_rate': 1.6450412391872865e-05, 'epoch': 5.13}\n"
     ]
    },
    {
     "data": {
      "application/vnd.jupyter.widget-view+json": {
       "model_id": "875cd328efb7447886297089ef8bd1f5",
       "version_major": 2,
       "version_minor": 0
      },
      "text/plain": [
       "  0%|          | 0/585 [00:00<?, ?it/s]"
      ]
     },
     "metadata": {},
     "output_type": "display_data"
    },
    {
     "name": "stdout",
     "output_type": "stream",
     "text": [
      "{'eval_loss': 0.9091549515724182, 'eval_accuracy': 0.3504219250801282, 'eval_f1': 0.3504219250801282, 'eval_recall': 0.3504219250801282, 'eval_precision': 0.3504219250801282, 'eval_runtime': 73.2206, 'eval_samples_per_second': 31.958, 'eval_steps_per_second': 7.99, 'epoch': 5.13}\n",
      "{'loss': 0.2297, 'learning_rate': 1.6324683162341582e-05, 'epoch': 5.21}\n"
     ]
    },
    {
     "data": {
      "application/vnd.jupyter.widget-view+json": {
       "model_id": "a0e66cce015d4ef0ab391bdf4f7b5f95",
       "version_major": 2,
       "version_minor": 0
      },
      "text/plain": [
       "  0%|          | 0/585 [00:00<?, ?it/s]"
      ]
     },
     "metadata": {},
     "output_type": "display_data"
    },
    {
     "name": "stdout",
     "output_type": "stream",
     "text": [
      "{'eval_loss': 0.891165018081665, 'eval_accuracy': 0.34970410990918804, 'eval_f1': 0.34970410990918804, 'eval_recall': 0.34970410990918804, 'eval_precision': 0.34970410990918804, 'eval_runtime': 73.1038, 'eval_samples_per_second': 32.009, 'eval_steps_per_second': 8.002, 'epoch': 5.21}\n",
      "{'loss': 0.2262, 'learning_rate': 1.61989539328103e-05, 'epoch': 5.28}\n"
     ]
    },
    {
     "data": {
      "application/vnd.jupyter.widget-view+json": {
       "model_id": "cf73ea482967414b81a78ad568770a92",
       "version_major": 2,
       "version_minor": 0
      },
      "text/plain": [
       "  0%|          | 0/585 [00:00<?, ?it/s]"
      ]
     },
     "metadata": {},
     "output_type": "display_data"
    },
    {
     "name": "stdout",
     "output_type": "stream",
     "text": [
      "{'eval_loss': 0.8800178170204163, 'eval_accuracy': 0.3564469818376068, 'eval_f1': 0.3564469818376068, 'eval_recall': 0.3564469818376068, 'eval_precision': 0.3564469818376068, 'eval_runtime': 72.6675, 'eval_samples_per_second': 32.201, 'eval_steps_per_second': 8.05, 'epoch': 5.28}\n",
      "{'loss': 0.2369, 'learning_rate': 1.6073224703279018e-05, 'epoch': 5.36}\n"
     ]
    },
    {
     "data": {
      "application/vnd.jupyter.widget-view+json": {
       "model_id": "20dc736a2fc3447ab9e6cbcc4f38ff69",
       "version_major": 2,
       "version_minor": 0
      },
      "text/plain": [
       "  0%|          | 0/585 [00:00<?, ?it/s]"
      ]
     },
     "metadata": {},
     "output_type": "display_data"
    },
    {
     "name": "stdout",
     "output_type": "stream",
     "text": [
      "{'eval_loss': 0.8809781074523926, 'eval_accuracy': 0.35494165665064104, 'eval_f1': 0.354941656650641, 'eval_recall': 0.35494165665064104, 'eval_precision': 0.35494165665064104, 'eval_runtime': 73.0467, 'eval_samples_per_second': 32.034, 'eval_steps_per_second': 8.009, 'epoch': 5.36}\n",
      "{'loss': 0.2363, 'learning_rate': 1.5947495473747735e-05, 'epoch': 5.43}\n"
     ]
    },
    {
     "data": {
      "application/vnd.jupyter.widget-view+json": {
       "model_id": "cad89b5410fb48ad8b6de6f464711b70",
       "version_major": 2,
       "version_minor": 0
      },
      "text/plain": [
       "  0%|          | 0/585 [00:00<?, ?it/s]"
      ]
     },
     "metadata": {},
     "output_type": "display_data"
    },
    {
     "name": "stdout",
     "output_type": "stream",
     "text": [
      "{'eval_loss': 0.8751105666160583, 'eval_accuracy': 0.35150282118055554, 'eval_f1': 0.35150282118055554, 'eval_recall': 0.35150282118055554, 'eval_precision': 0.35150282118055554, 'eval_runtime': 72.7167, 'eval_samples_per_second': 32.18, 'eval_steps_per_second': 8.045, 'epoch': 5.43}\n",
      "{'loss': 0.2452, 'learning_rate': 1.5821766244216457e-05, 'epoch': 5.51}\n"
     ]
    },
    {
     "data": {
      "application/vnd.jupyter.widget-view+json": {
       "model_id": "c1168bc12e7e45689c31da28ebf5fa2b",
       "version_major": 2,
       "version_minor": 0
      },
      "text/plain": [
       "  0%|          | 0/585 [00:00<?, ?it/s]"
      ]
     },
     "metadata": {},
     "output_type": "display_data"
    },
    {
     "name": "stdout",
     "output_type": "stream",
     "text": [
      "{'eval_loss': 0.8815817832946777, 'eval_accuracy': 0.34796799879807694, 'eval_f1': 0.34796799879807694, 'eval_recall': 0.34796799879807694, 'eval_precision': 0.34796799879807694, 'eval_runtime': 73.1233, 'eval_samples_per_second': 32.001, 'eval_steps_per_second': 8.0, 'epoch': 5.51}\n",
      "{'loss': 0.2553, 'learning_rate': 1.5696037014685174e-05, 'epoch': 5.58}\n"
     ]
    },
    {
     "data": {
      "application/vnd.jupyter.widget-view+json": {
       "model_id": "c0c30d2023d04c1fb5d8d1e7769b2df6",
       "version_major": 2,
       "version_minor": 0
      },
      "text/plain": [
       "  0%|          | 0/585 [00:00<?, ?it/s]"
      ]
     },
     "metadata": {},
     "output_type": "display_data"
    },
    {
     "name": "stdout",
     "output_type": "stream",
     "text": [
      "{'eval_loss': 0.8794673681259155, 'eval_accuracy': 0.34992738381410254, 'eval_f1': 0.34992738381410254, 'eval_recall': 0.34992738381410254, 'eval_precision': 0.34992738381410254, 'eval_runtime': 73.2716, 'eval_samples_per_second': 31.936, 'eval_steps_per_second': 7.984, 'epoch': 5.58}\n",
      "{'loss': 0.2253, 'learning_rate': 1.5570307785153892e-05, 'epoch': 5.66}\n"
     ]
    },
    {
     "data": {
      "application/vnd.jupyter.widget-view+json": {
       "model_id": "a4caaf4fc05f4625b0823f6827dcc110",
       "version_major": 2,
       "version_minor": 0
      },
      "text/plain": [
       "  0%|          | 0/585 [00:00<?, ?it/s]"
      ]
     },
     "metadata": {},
     "output_type": "display_data"
    },
    {
     "name": "stdout",
     "output_type": "stream",
     "text": [
      "{'eval_loss': 0.8901969194412231, 'eval_accuracy': 0.3517523871527778, 'eval_f1': 0.3517523871527778, 'eval_recall': 0.3517523871527778, 'eval_precision': 0.3517523871527778, 'eval_runtime': 72.9293, 'eval_samples_per_second': 32.086, 'eval_steps_per_second': 8.021, 'epoch': 5.66}\n",
      "{'loss': 0.2247, 'learning_rate': 1.5444578555622613e-05, 'epoch': 5.73}\n"
     ]
    },
    {
     "data": {
      "application/vnd.jupyter.widget-view+json": {
       "model_id": "862090443b194aea9d050b3b0416468e",
       "version_major": 2,
       "version_minor": 0
      },
      "text/plain": [
       "  0%|          | 0/585 [00:00<?, ?it/s]"
      ]
     },
     "metadata": {},
     "output_type": "display_data"
    },
    {
     "name": "stdout",
     "output_type": "stream",
     "text": [
      "{'eval_loss': 0.8539014458656311, 'eval_accuracy': 0.3549241286057692, 'eval_f1': 0.3549241286057692, 'eval_recall': 0.3549241286057692, 'eval_precision': 0.3549241286057692, 'eval_runtime': 72.7351, 'eval_samples_per_second': 32.172, 'eval_steps_per_second': 8.043, 'epoch': 5.73}\n",
      "{'loss': 0.2475, 'learning_rate': 1.531884932609133e-05, 'epoch': 5.81}\n"
     ]
    },
    {
     "data": {
      "application/vnd.jupyter.widget-view+json": {
       "model_id": "838e23bbdec8498ba9a9e147a92f4d62",
       "version_major": 2,
       "version_minor": 0
      },
      "text/plain": [
       "  0%|          | 0/585 [00:00<?, ?it/s]"
      ]
     },
     "metadata": {},
     "output_type": "display_data"
    },
    {
     "name": "stdout",
     "output_type": "stream",
     "text": [
      "{'eval_loss': 0.8856177926063538, 'eval_accuracy': 0.35206789196047006, 'eval_f1': 0.35206789196047006, 'eval_recall': 0.35206789196047006, 'eval_precision': 0.35206789196047006, 'eval_runtime': 72.7873, 'eval_samples_per_second': 32.148, 'eval_steps_per_second': 8.037, 'epoch': 5.81}\n",
      "{'loss': 0.2403, 'learning_rate': 1.5193120096560048e-05, 'epoch': 5.88}\n"
     ]
    },
    {
     "data": {
      "application/vnd.jupyter.widget-view+json": {
       "model_id": "15f92da9e2d144cbb9329897e9bffd81",
       "version_major": 2,
       "version_minor": 0
      },
      "text/plain": [
       "  0%|          | 0/585 [00:00<?, ?it/s]"
      ]
     },
     "metadata": {},
     "output_type": "display_data"
    },
    {
     "name": "stdout",
     "output_type": "stream",
     "text": [
      "{'eval_loss': 0.8920164704322815, 'eval_accuracy': 0.3530815972222222, 'eval_f1': 0.3530815972222222, 'eval_recall': 0.3530815972222222, 'eval_precision': 0.3530815972222222, 'eval_runtime': 73.3233, 'eval_samples_per_second': 31.913, 'eval_steps_per_second': 7.978, 'epoch': 5.88}\n",
      "{'loss': 0.2501, 'learning_rate': 1.506739086702877e-05, 'epoch': 5.96}\n"
     ]
    },
    {
     "data": {
      "application/vnd.jupyter.widget-view+json": {
       "model_id": "c69812066a1d4b5b9f953cc5b7d3c8ea",
       "version_major": 2,
       "version_minor": 0
      },
      "text/plain": [
       "  0%|          | 0/585 [00:00<?, ?it/s]"
      ]
     },
     "metadata": {},
     "output_type": "display_data"
    },
    {
     "name": "stdout",
     "output_type": "stream",
     "text": [
      "{'eval_loss': 0.8903850317001343, 'eval_accuracy': 0.3525336371527778, 'eval_f1': 0.3525336371527778, 'eval_recall': 0.3525336371527778, 'eval_precision': 0.3525336371527778, 'eval_runtime': 72.8939, 'eval_samples_per_second': 32.101, 'eval_steps_per_second': 8.025, 'epoch': 5.96}\n",
      "{'loss': 0.2134, 'learning_rate': 1.4941661637497487e-05, 'epoch': 6.04}\n"
     ]
    },
    {
     "data": {
      "application/vnd.jupyter.widget-view+json": {
       "model_id": "c3d9229ab26b4dcb9efb7c833dbb8679",
       "version_major": 2,
       "version_minor": 0
      },
      "text/plain": [
       "  0%|          | 0/585 [00:00<?, ?it/s]"
      ]
     },
     "metadata": {},
     "output_type": "display_data"
    },
    {
     "name": "stdout",
     "output_type": "stream",
     "text": [
      "{'eval_loss': 0.9323089718818665, 'eval_accuracy': 0.3487926515758547, 'eval_f1': 0.3487926515758547, 'eval_recall': 0.3487926515758547, 'eval_precision': 0.3487926515758547, 'eval_runtime': 73.0312, 'eval_samples_per_second': 32.041, 'eval_steps_per_second': 8.01, 'epoch': 6.04}\n",
      "{'loss': 0.1768, 'learning_rate': 1.4815932407966205e-05, 'epoch': 6.11}\n"
     ]
    },
    {
     "data": {
      "application/vnd.jupyter.widget-view+json": {
       "model_id": "0f154dba7f6147e299cbd36321613f33",
       "version_major": 2,
       "version_minor": 0
      },
      "text/plain": [
       "  0%|          | 0/585 [00:00<?, ?it/s]"
      ]
     },
     "metadata": {},
     "output_type": "display_data"
    },
    {
     "name": "stdout",
     "output_type": "stream",
     "text": [
      "{'eval_loss': 0.9504002332687378, 'eval_accuracy': 0.3475794604700855, 'eval_f1': 0.3475794604700855, 'eval_recall': 0.3475794604700855, 'eval_precision': 0.3475794604700855, 'eval_runtime': 72.8915, 'eval_samples_per_second': 32.103, 'eval_steps_per_second': 8.026, 'epoch': 6.11}\n",
      "{'loss': 0.1785, 'learning_rate': 1.4690203178434922e-05, 'epoch': 6.19}\n"
     ]
    },
    {
     "data": {
      "application/vnd.jupyter.widget-view+json": {
       "model_id": "f131ee48cf114a81a65341e4c9b4071c",
       "version_major": 2,
       "version_minor": 0
      },
      "text/plain": [
       "  0%|          | 0/585 [00:00<?, ?it/s]"
      ]
     },
     "metadata": {},
     "output_type": "display_data"
    },
    {
     "name": "stdout",
     "output_type": "stream",
     "text": [
      "{'eval_loss': 0.9652692079544067, 'eval_accuracy': 0.3414200220352564, 'eval_f1': 0.3414200220352564, 'eval_recall': 0.3414200220352564, 'eval_precision': 0.3414200220352564, 'eval_runtime': 72.5238, 'eval_samples_per_second': 32.265, 'eval_steps_per_second': 8.066, 'epoch': 6.19}\n",
      "{'loss': 0.1842, 'learning_rate': 1.4564473948903642e-05, 'epoch': 6.26}\n"
     ]
    },
    {
     "data": {
      "application/vnd.jupyter.widget-view+json": {
       "model_id": "59dd4995d83f4588af2f5fa2fc7682b1",
       "version_major": 2,
       "version_minor": 0
      },
      "text/plain": [
       "  0%|          | 0/585 [00:00<?, ?it/s]"
      ]
     },
     "metadata": {},
     "output_type": "display_data"
    },
    {
     "name": "stdout",
     "output_type": "stream",
     "text": [
      "{'eval_loss': 0.9436731934547424, 'eval_accuracy': 0.352623781383547, 'eval_f1': 0.352623781383547, 'eval_recall': 0.352623781383547, 'eval_precision': 0.352623781383547, 'eval_runtime': 73.1103, 'eval_samples_per_second': 32.006, 'eval_steps_per_second': 8.002, 'epoch': 6.26}\n",
      "{'loss': 0.1867, 'learning_rate': 1.443874471937236e-05, 'epoch': 6.34}\n"
     ]
    },
    {
     "data": {
      "application/vnd.jupyter.widget-view+json": {
       "model_id": "c5510be4776d427f926ad358e98e331f",
       "version_major": 2,
       "version_minor": 0
      },
      "text/plain": [
       "  0%|          | 0/585 [00:00<?, ?it/s]"
      ]
     },
     "metadata": {},
     "output_type": "display_data"
    },
    {
     "name": "stdout",
     "output_type": "stream",
     "text": [
      "{'eval_loss': 0.9757908582687378, 'eval_accuracy': 0.3517515524839744, 'eval_f1': 0.3517515524839744, 'eval_recall': 0.3517515524839744, 'eval_precision': 0.3517515524839744, 'eval_runtime': 72.6085, 'eval_samples_per_second': 32.228, 'eval_steps_per_second': 8.057, 'epoch': 6.34}\n",
      "{'loss': 0.1875, 'learning_rate': 1.4313015489841077e-05, 'epoch': 6.41}\n"
     ]
    },
    {
     "data": {
      "application/vnd.jupyter.widget-view+json": {
       "model_id": "c4542a082df34360b7e082f6680584f8",
       "version_major": 2,
       "version_minor": 0
      },
      "text/plain": [
       "  0%|          | 0/585 [00:00<?, ?it/s]"
      ]
     },
     "metadata": {},
     "output_type": "display_data"
    },
    {
     "name": "stdout",
     "output_type": "stream",
     "text": [
      "{'eval_loss': 0.9489345550537109, 'eval_accuracy': 0.3530765892094017, 'eval_f1': 0.3530765892094017, 'eval_recall': 0.3530765892094017, 'eval_precision': 0.3530765892094017, 'eval_runtime': 73.1827, 'eval_samples_per_second': 31.975, 'eval_steps_per_second': 7.994, 'epoch': 6.41}\n",
      "{'loss': 0.1931, 'learning_rate': 1.4187286260309798e-05, 'epoch': 6.49}\n"
     ]
    },
    {
     "data": {
      "application/vnd.jupyter.widget-view+json": {
       "model_id": "d270bc8e7d6940b092a9217f5cb3cf01",
       "version_major": 2,
       "version_minor": 0
      },
      "text/plain": [
       "  0%|          | 0/585 [00:00<?, ?it/s]"
      ]
     },
     "metadata": {},
     "output_type": "display_data"
    },
    {
     "name": "stdout",
     "output_type": "stream",
     "text": [
      "{'eval_loss': 0.9316906929016113, 'eval_accuracy': 0.3502842047275641, 'eval_f1': 0.3502842047275641, 'eval_recall': 0.3502842047275641, 'eval_precision': 0.3502842047275641, 'eval_runtime': 73.0893, 'eval_samples_per_second': 32.016, 'eval_steps_per_second': 8.004, 'epoch': 6.49}\n",
      "{'loss': 0.1818, 'learning_rate': 1.4061557030778516e-05, 'epoch': 6.56}\n"
     ]
    },
    {
     "data": {
      "application/vnd.jupyter.widget-view+json": {
       "model_id": "4fa15212360e418d9686eaaa481da6fb",
       "version_major": 2,
       "version_minor": 0
      },
      "text/plain": [
       "  0%|          | 0/585 [00:00<?, ?it/s]"
      ]
     },
     "metadata": {},
     "output_type": "display_data"
    },
    {
     "name": "stdout",
     "output_type": "stream",
     "text": [
      "{'eval_loss': 0.9460831880569458, 'eval_accuracy': 0.3527594150641026, 'eval_f1': 0.3527594150641026, 'eval_recall': 0.3527594150641026, 'eval_precision': 0.3527594150641026, 'eval_runtime': 73.1385, 'eval_samples_per_second': 31.994, 'eval_steps_per_second': 7.999, 'epoch': 6.56}\n",
      "{'loss': 0.1921, 'learning_rate': 1.3935827801247234e-05, 'epoch': 6.64}\n"
     ]
    },
    {
     "data": {
      "application/vnd.jupyter.widget-view+json": {
       "model_id": "7b41d62bc59d40d68c9f93b6c5170086",
       "version_major": 2,
       "version_minor": 0
      },
      "text/plain": [
       "  0%|          | 0/585 [00:00<?, ?it/s]"
      ]
     },
     "metadata": {},
     "output_type": "display_data"
    },
    {
     "name": "stdout",
     "output_type": "stream",
     "text": [
      "{'eval_loss': 1.0068758726119995, 'eval_accuracy': 0.34837740384615384, 'eval_f1': 0.34837740384615384, 'eval_recall': 0.34837740384615384, 'eval_precision': 0.34837740384615384, 'eval_runtime': 72.8358, 'eval_samples_per_second': 32.127, 'eval_steps_per_second': 8.032, 'epoch': 6.64}\n",
      "{'loss': 0.1986, 'learning_rate': 1.3810098571715955e-05, 'epoch': 6.71}\n"
     ]
    },
    {
     "data": {
      "application/vnd.jupyter.widget-view+json": {
       "model_id": "66dbf5f649f84e03b7af18c3819d5110",
       "version_major": 2,
       "version_minor": 0
      },
      "text/plain": [
       "  0%|          | 0/585 [00:00<?, ?it/s]"
      ]
     },
     "metadata": {},
     "output_type": "display_data"
    },
    {
     "name": "stdout",
     "output_type": "stream",
     "text": [
      "{'eval_loss': 0.9778820872306824, 'eval_accuracy': 0.3524338942307692, 'eval_f1': 0.3524338942307692, 'eval_recall': 0.3524338942307692, 'eval_precision': 0.3524338942307692, 'eval_runtime': 73.2806, 'eval_samples_per_second': 31.932, 'eval_steps_per_second': 7.983, 'epoch': 6.71}\n",
      "{'loss': 0.1894, 'learning_rate': 1.3684369342184672e-05, 'epoch': 6.79}\n"
     ]
    },
    {
     "data": {
      "application/vnd.jupyter.widget-view+json": {
       "model_id": "71edab3385a94df0aed823046869b0d2",
       "version_major": 2,
       "version_minor": 0
      },
      "text/plain": [
       "  0%|          | 0/585 [00:00<?, ?it/s]"
      ]
     },
     "metadata": {},
     "output_type": "display_data"
    },
    {
     "name": "stdout",
     "output_type": "stream",
     "text": [
      "{'eval_loss': 0.9526795148849487, 'eval_accuracy': 0.34872879941239315, 'eval_f1': 0.34872879941239315, 'eval_recall': 0.34872879941239315, 'eval_precision': 0.34872879941239315, 'eval_runtime': 73.2907, 'eval_samples_per_second': 31.928, 'eval_steps_per_second': 7.982, 'epoch': 6.79}\n",
      "{'loss': 0.1954, 'learning_rate': 1.355864011265339e-05, 'epoch': 6.86}\n"
     ]
    },
    {
     "data": {
      "application/vnd.jupyter.widget-view+json": {
       "model_id": "2f68154eee9c4880aa27fb4fec7e4619",
       "version_major": 2,
       "version_minor": 0
      },
      "text/plain": [
       "  0%|          | 0/585 [00:00<?, ?it/s]"
      ]
     },
     "metadata": {},
     "output_type": "display_data"
    },
    {
     "name": "stdout",
     "output_type": "stream",
     "text": [
      "{'eval_loss': 0.9537496566772461, 'eval_accuracy': 0.34812867254273505, 'eval_f1': 0.34812867254273505, 'eval_recall': 0.34812867254273505, 'eval_precision': 0.34812867254273505, 'eval_runtime': 73.111, 'eval_samples_per_second': 32.006, 'eval_steps_per_second': 8.002, 'epoch': 6.86}\n",
      "{'loss': 0.1907, 'learning_rate': 1.343291088312211e-05, 'epoch': 6.94}\n"
     ]
    },
    {
     "data": {
      "application/vnd.jupyter.widget-view+json": {
       "model_id": "3a446332f73d457e8582041c57d9e1ca",
       "version_major": 2,
       "version_minor": 0
      },
      "text/plain": [
       "  0%|          | 0/585 [00:00<?, ?it/s]"
      ]
     },
     "metadata": {},
     "output_type": "display_data"
    },
    {
     "name": "stdout",
     "output_type": "stream",
     "text": [
      "{'eval_loss': 0.9487196207046509, 'eval_accuracy': 0.3506739950587607, 'eval_f1': 0.3506739950587607, 'eval_recall': 0.3506739950587607, 'eval_precision': 0.3506739950587607, 'eval_runtime': 72.479, 'eval_samples_per_second': 32.285, 'eval_steps_per_second': 8.071, 'epoch': 6.94}\n",
      "{'loss': 0.1812, 'learning_rate': 1.3307181653590827e-05, 'epoch': 7.02}\n"
     ]
    },
    {
     "data": {
      "application/vnd.jupyter.widget-view+json": {
       "model_id": "a6fcca7b33264430b5fd46ae91f75588",
       "version_major": 2,
       "version_minor": 0
      },
      "text/plain": [
       "  0%|          | 0/585 [00:00<?, ?it/s]"
      ]
     },
     "metadata": {},
     "output_type": "display_data"
    },
    {
     "name": "stdout",
     "output_type": "stream",
     "text": [
      "{'eval_loss': 0.9886366128921509, 'eval_accuracy': 0.3495250734508547, 'eval_f1': 0.3495250734508547, 'eval_recall': 0.3495250734508547, 'eval_precision': 0.3495250734508547, 'eval_runtime': 73.0223, 'eval_samples_per_second': 32.045, 'eval_steps_per_second': 8.011, 'epoch': 7.02}\n",
      "{'loss': 0.1411, 'learning_rate': 1.3181452424059545e-05, 'epoch': 7.09}\n"
     ]
    },
    {
     "data": {
      "application/vnd.jupyter.widget-view+json": {
       "model_id": "5a71edcd284f4ddeb585262503964a36",
       "version_major": 2,
       "version_minor": 0
      },
      "text/plain": [
       "  0%|          | 0/585 [00:00<?, ?it/s]"
      ]
     },
     "metadata": {},
     "output_type": "display_data"
    },
    {
     "name": "stdout",
     "output_type": "stream",
     "text": [
      "{'eval_loss': 1.018411636352539, 'eval_accuracy': 0.35016442975427353, 'eval_f1': 0.35016442975427353, 'eval_recall': 0.35016442975427353, 'eval_precision': 0.35016442975427353, 'eval_runtime': 72.8608, 'eval_samples_per_second': 32.116, 'eval_steps_per_second': 8.029, 'epoch': 7.09}\n",
      "{'loss': 0.1428, 'learning_rate': 1.3055723194528263e-05, 'epoch': 7.17}\n"
     ]
    },
    {
     "data": {
      "application/vnd.jupyter.widget-view+json": {
       "model_id": "defc44f69d214d88a04a532c960d8633",
       "version_major": 2,
       "version_minor": 0
      },
      "text/plain": [
       "  0%|          | 0/585 [00:00<?, ?it/s]"
      ]
     },
     "metadata": {},
     "output_type": "display_data"
    },
    {
     "name": "stdout",
     "output_type": "stream",
     "text": [
      "{'eval_loss': 1.0205717086791992, 'eval_accuracy': 0.3507240751869658, 'eval_f1': 0.3507240751869658, 'eval_recall': 0.3507240751869658, 'eval_precision': 0.3507240751869658, 'eval_runtime': 73.3469, 'eval_samples_per_second': 31.903, 'eval_steps_per_second': 7.976, 'epoch': 7.17}\n",
      "{'loss': 0.1437, 'learning_rate': 1.2929993964996984e-05, 'epoch': 7.24}\n"
     ]
    },
    {
     "data": {
      "application/vnd.jupyter.widget-view+json": {
       "model_id": "823320b207d846a0be0054c3495f361c",
       "version_major": 2,
       "version_minor": 0
      },
      "text/plain": [
       "  0%|          | 0/585 [00:00<?, ?it/s]"
      ]
     },
     "metadata": {},
     "output_type": "display_data"
    },
    {
     "name": "stdout",
     "output_type": "stream",
     "text": [
      "{'eval_loss': 0.9974212646484375, 'eval_accuracy': 0.34913403111645297, 'eval_f1': 0.34913403111645297, 'eval_recall': 0.34913403111645297, 'eval_precision': 0.34913403111645297, 'eval_runtime': 72.9697, 'eval_samples_per_second': 32.068, 'eval_steps_per_second': 8.017, 'epoch': 7.24}\n",
      "{'loss': 0.1517, 'learning_rate': 1.2804264735465701e-05, 'epoch': 7.32}\n"
     ]
    },
    {
     "data": {
      "application/vnd.jupyter.widget-view+json": {
       "model_id": "a97786ff0ed5468e8b040c8974ba84cd",
       "version_major": 2,
       "version_minor": 0
      },
      "text/plain": [
       "  0%|          | 0/585 [00:00<?, ?it/s]"
      ]
     },
     "metadata": {},
     "output_type": "display_data"
    },
    {
     "name": "stdout",
     "output_type": "stream",
     "text": [
      "{'eval_loss': 1.0131222009658813, 'eval_accuracy': 0.3507958567040598, 'eval_f1': 0.3507958567040598, 'eval_recall': 0.3507958567040598, 'eval_precision': 0.3507958567040598, 'eval_runtime': 72.8914, 'eval_samples_per_second': 32.103, 'eval_steps_per_second': 8.026, 'epoch': 7.32}\n",
      "{'loss': 0.1464, 'learning_rate': 1.2678535505934419e-05, 'epoch': 7.39}\n"
     ]
    },
    {
     "data": {
      "application/vnd.jupyter.widget-view+json": {
       "model_id": "96b09659acec41af9cc00f53c0860887",
       "version_major": 2,
       "version_minor": 0
      },
      "text/plain": [
       "  0%|          | 0/585 [00:00<?, ?it/s]"
      ]
     },
     "metadata": {},
     "output_type": "display_data"
    },
    {
     "name": "stdout",
     "output_type": "stream",
     "text": [
      "{'eval_loss': 0.9823351502418518, 'eval_accuracy': 0.35231578859508544, 'eval_f1': 0.35231578859508544, 'eval_recall': 0.35231578859508544, 'eval_precision': 0.35231578859508544, 'eval_runtime': 72.9188, 'eval_samples_per_second': 32.09, 'eval_steps_per_second': 8.023, 'epoch': 7.39}\n",
      "{'loss': 0.1597, 'learning_rate': 1.255280627640314e-05, 'epoch': 7.47}\n"
     ]
    },
    {
     "data": {
      "application/vnd.jupyter.widget-view+json": {
       "model_id": "b74f659abba244a4b1601e46bf9d793f",
       "version_major": 2,
       "version_minor": 0
      },
      "text/plain": [
       "  0%|          | 0/585 [00:00<?, ?it/s]"
      ]
     },
     "metadata": {},
     "output_type": "display_data"
    },
    {
     "name": "stdout",
     "output_type": "stream",
     "text": [
      "{'eval_loss': 0.9837401509284973, 'eval_accuracy': 0.3517987112713675, 'eval_f1': 0.3517987112713675, 'eval_recall': 0.3517987112713675, 'eval_precision': 0.3517987112713675, 'eval_runtime': 73.1259, 'eval_samples_per_second': 32.0, 'eval_steps_per_second': 8.0, 'epoch': 7.47}\n",
      "{'loss': 0.1484, 'learning_rate': 1.2427077046871858e-05, 'epoch': 7.54}\n"
     ]
    },
    {
     "data": {
      "application/vnd.jupyter.widget-view+json": {
       "model_id": "d08ae0c735c947ea951e2d73c334ee1b",
       "version_major": 2,
       "version_minor": 0
      },
      "text/plain": [
       "  0%|          | 0/585 [00:00<?, ?it/s]"
      ]
     },
     "metadata": {},
     "output_type": "display_data"
    },
    {
     "name": "stdout",
     "output_type": "stream",
     "text": [
      "{'eval_loss': 1.0314198732376099, 'eval_accuracy': 0.34900799612713673, 'eval_f1': 0.34900799612713673, 'eval_recall': 0.34900799612713673, 'eval_precision': 0.34900799612713673, 'eval_runtime': 72.6945, 'eval_samples_per_second': 32.19, 'eval_steps_per_second': 8.047, 'epoch': 7.54}\n",
      "{'loss': 0.1622, 'learning_rate': 1.2301347817340577e-05, 'epoch': 7.62}\n"
     ]
    },
    {
     "data": {
      "application/vnd.jupyter.widget-view+json": {
       "model_id": "cffd3b49a7574325895a3a9f7de5bf7e",
       "version_major": 2,
       "version_minor": 0
      },
      "text/plain": [
       "  0%|          | 0/585 [00:00<?, ?it/s]"
      ]
     },
     "metadata": {},
     "output_type": "display_data"
    },
    {
     "name": "stdout",
     "output_type": "stream",
     "text": [
      "{'eval_loss': 1.01170015335083, 'eval_accuracy': 0.35084468482905984, 'eval_f1': 0.35084468482905984, 'eval_recall': 0.35084468482905984, 'eval_precision': 0.35084468482905984, 'eval_runtime': 73.3335, 'eval_samples_per_second': 31.909, 'eval_steps_per_second': 7.977, 'epoch': 7.62}\n",
      "{'loss': 0.151, 'learning_rate': 1.2175618587809295e-05, 'epoch': 7.69}\n"
     ]
    },
    {
     "data": {
      "application/vnd.jupyter.widget-view+json": {
       "model_id": "bb380e7b99284848b209be2f262dd2bf",
       "version_major": 2,
       "version_minor": 0
      },
      "text/plain": [
       "  0%|          | 0/585 [00:00<?, ?it/s]"
      ]
     },
     "metadata": {},
     "output_type": "display_data"
    },
    {
     "name": "stdout",
     "output_type": "stream",
     "text": [
      "{'eval_loss': 1.0292574167251587, 'eval_accuracy': 0.35412701989850426, 'eval_f1': 0.3541270198985043, 'eval_recall': 0.35412701989850426, 'eval_precision': 0.35412701989850426, 'eval_runtime': 72.7418, 'eval_samples_per_second': 32.169, 'eval_steps_per_second': 8.042, 'epoch': 7.69}\n",
      "{'loss': 0.1546, 'learning_rate': 1.2049889358278012e-05, 'epoch': 7.77}\n"
     ]
    },
    {
     "data": {
      "application/vnd.jupyter.widget-view+json": {
       "model_id": "773cf8d6ea9644ccb2dfabcad8d213d8",
       "version_major": 2,
       "version_minor": 0
      },
      "text/plain": [
       "  0%|          | 0/585 [00:00<?, ?it/s]"
      ]
     },
     "metadata": {},
     "output_type": "display_data"
    },
    {
     "name": "stdout",
     "output_type": "stream",
     "text": [
      "{'eval_loss': 1.0066510438919067, 'eval_accuracy': 0.3517048110309829, 'eval_f1': 0.3517048110309829, 'eval_recall': 0.3517048110309829, 'eval_precision': 0.3517048110309829, 'eval_runtime': 73.0829, 'eval_samples_per_second': 32.018, 'eval_steps_per_second': 8.005, 'epoch': 7.77}\n",
      "{'loss': 0.1473, 'learning_rate': 1.1924160128746732e-05, 'epoch': 7.85}\n"
     ]
    },
    {
     "data": {
      "application/vnd.jupyter.widget-view+json": {
       "model_id": "36354a0067f34839b802b0bd695e5ddf",
       "version_major": 2,
       "version_minor": 0
      },
      "text/plain": [
       "  0%|          | 0/585 [00:00<?, ?it/s]"
      ]
     },
     "metadata": {},
     "output_type": "display_data"
    },
    {
     "name": "stdout",
     "output_type": "stream",
     "text": [
      "{'eval_loss': 1.0426238775253296, 'eval_accuracy': 0.350393546340812, 'eval_f1': 0.350393546340812, 'eval_recall': 0.350393546340812, 'eval_precision': 0.350393546340812, 'eval_runtime': 73.0848, 'eval_samples_per_second': 32.018, 'eval_steps_per_second': 8.004, 'epoch': 7.85}\n",
      "{'loss': 0.1581, 'learning_rate': 1.179843089921545e-05, 'epoch': 7.92}\n"
     ]
    },
    {
     "data": {
      "application/vnd.jupyter.widget-view+json": {
       "model_id": "467b5a54aaa64764930d939719078e25",
       "version_major": 2,
       "version_minor": 0
      },
      "text/plain": [
       "  0%|          | 0/585 [00:00<?, ?it/s]"
      ]
     },
     "metadata": {},
     "output_type": "display_data"
    },
    {
     "name": "stdout",
     "output_type": "stream",
     "text": [
      "{'eval_loss': 1.060827374458313, 'eval_accuracy': 0.34708992721688037, 'eval_f1': 0.34708992721688037, 'eval_recall': 0.34708992721688037, 'eval_precision': 0.34708992721688037, 'eval_runtime': 73.0655, 'eval_samples_per_second': 32.026, 'eval_steps_per_second': 8.007, 'epoch': 7.92}\n",
      "{'loss': 0.1514, 'learning_rate': 1.1672701669684169e-05, 'epoch': 8.0}\n"
     ]
    },
    {
     "data": {
      "application/vnd.jupyter.widget-view+json": {
       "model_id": "3263c774026d47d1b42850175f31d3e8",
       "version_major": 2,
       "version_minor": 0
      },
      "text/plain": [
       "  0%|          | 0/585 [00:00<?, ?it/s]"
      ]
     },
     "metadata": {},
     "output_type": "display_data"
    },
    {
     "name": "stdout",
     "output_type": "stream",
     "text": [
      "{'eval_loss': 1.014815092086792, 'eval_accuracy': 0.3497871594551282, 'eval_f1': 0.3497871594551282, 'eval_recall': 0.3497871594551282, 'eval_precision': 0.3497871594551282, 'eval_runtime': 73.0645, 'eval_samples_per_second': 32.026, 'eval_steps_per_second': 8.007, 'epoch': 8.0}\n",
      "{'loss': 0.1236, 'learning_rate': 1.1546972440152887e-05, 'epoch': 8.07}\n"
     ]
    },
    {
     "data": {
      "application/vnd.jupyter.widget-view+json": {
       "model_id": "217d84cb57704d838c7576056282339a",
       "version_major": 2,
       "version_minor": 0
      },
      "text/plain": [
       "  0%|          | 0/585 [00:00<?, ?it/s]"
      ]
     },
     "metadata": {},
     "output_type": "display_data"
    },
    {
     "name": "stdout",
     "output_type": "stream",
     "text": [
      "{'eval_loss': 1.080483317375183, 'eval_accuracy': 0.3529659955929487, 'eval_f1': 0.3529659955929487, 'eval_recall': 0.3529659955929487, 'eval_precision': 0.3529659955929487, 'eval_runtime': 73.0326, 'eval_samples_per_second': 32.04, 'eval_steps_per_second': 8.01, 'epoch': 8.07}\n",
      "{'loss': 0.1201, 'learning_rate': 1.1421243210621606e-05, 'epoch': 8.15}\n"
     ]
    },
    {
     "data": {
      "application/vnd.jupyter.widget-view+json": {
       "model_id": "027111c13d704e1dbd6c0eb0bdc14ef7",
       "version_major": 2,
       "version_minor": 0
      },
      "text/plain": [
       "  0%|          | 0/585 [00:00<?, ?it/s]"
      ]
     },
     "metadata": {},
     "output_type": "display_data"
    },
    {
     "name": "stdout",
     "output_type": "stream",
     "text": [
      "{'eval_loss': 1.0939189195632935, 'eval_accuracy': 0.3499891493055556, 'eval_f1': 0.3499891493055556, 'eval_recall': 0.3499891493055556, 'eval_precision': 0.3499891493055556, 'eval_runtime': 72.9929, 'eval_samples_per_second': 32.058, 'eval_steps_per_second': 8.014, 'epoch': 8.15}\n",
      "{'loss': 0.1148, 'learning_rate': 1.1295513981090325e-05, 'epoch': 8.22}\n"
     ]
    },
    {
     "data": {
      "application/vnd.jupyter.widget-view+json": {
       "model_id": "578cdad1d3bb4675b665ea7cef38a30b",
       "version_major": 2,
       "version_minor": 0
      },
      "text/plain": [
       "  0%|          | 0/585 [00:00<?, ?it/s]"
      ]
     },
     "metadata": {},
     "output_type": "display_data"
    },
    {
     "name": "stdout",
     "output_type": "stream",
     "text": [
      "{'eval_loss': 1.1260265111923218, 'eval_accuracy': 0.35008346688034186, 'eval_f1': 0.35008346688034186, 'eval_recall': 0.35008346688034186, 'eval_precision': 0.35008346688034186, 'eval_runtime': 72.7309, 'eval_samples_per_second': 32.173, 'eval_steps_per_second': 8.043, 'epoch': 8.22}\n",
      "{'loss': 0.1252, 'learning_rate': 1.1169784751559043e-05, 'epoch': 8.3}\n"
     ]
    },
    {
     "data": {
      "application/vnd.jupyter.widget-view+json": {
       "model_id": "fad00f7e648147498bf35f8979628d06",
       "version_major": 2,
       "version_minor": 0
      },
      "text/plain": [
       "  0%|          | 0/585 [00:00<?, ?it/s]"
      ]
     },
     "metadata": {},
     "output_type": "display_data"
    },
    {
     "name": "stdout",
     "output_type": "stream",
     "text": [
      "{'eval_loss': 1.0908565521240234, 'eval_accuracy': 0.3512603498931624, 'eval_f1': 0.3512603498931624, 'eval_recall': 0.3512603498931624, 'eval_precision': 0.3512603498931624, 'eval_runtime': 72.5998, 'eval_samples_per_second': 32.231, 'eval_steps_per_second': 8.058, 'epoch': 8.3}\n",
      "{'loss': 0.1253, 'learning_rate': 1.1044055522027762e-05, 'epoch': 8.37}\n"
     ]
    },
    {
     "data": {
      "application/vnd.jupyter.widget-view+json": {
       "model_id": "0a379c6974b24684ba5730762caf7a2c",
       "version_major": 2,
       "version_minor": 0
      },
      "text/plain": [
       "  0%|          | 0/585 [00:00<?, ?it/s]"
      ]
     },
     "metadata": {},
     "output_type": "display_data"
    },
    {
     "name": "stdout",
     "output_type": "stream",
     "text": [
      "{'eval_loss': 1.0556634664535522, 'eval_accuracy': 0.35288169404380343, 'eval_f1': 0.35288169404380343, 'eval_recall': 0.35288169404380343, 'eval_precision': 0.35288169404380343, 'eval_runtime': 73.1663, 'eval_samples_per_second': 31.982, 'eval_steps_per_second': 7.995, 'epoch': 8.37}\n",
      "{'loss': 0.1217, 'learning_rate': 1.091832629249648e-05, 'epoch': 8.45}\n"
     ]
    },
    {
     "data": {
      "application/vnd.jupyter.widget-view+json": {
       "model_id": "3341a9d63d374972bd571ffdf201b302",
       "version_major": 2,
       "version_minor": 0
      },
      "text/plain": [
       "  0%|          | 0/585 [00:00<?, ?it/s]"
      ]
     },
     "metadata": {},
     "output_type": "display_data"
    },
    {
     "name": "stdout",
     "output_type": "stream",
     "text": [
      "{'eval_loss': 1.043328046798706, 'eval_accuracy': 0.3532130575587607, 'eval_f1': 0.3532130575587607, 'eval_recall': 0.3532130575587607, 'eval_precision': 0.3532130575587607, 'eval_runtime': 73.2205, 'eval_samples_per_second': 31.958, 'eval_steps_per_second': 7.99, 'epoch': 8.45}\n",
      "{'loss': 0.1251, 'learning_rate': 1.0792597062965198e-05, 'epoch': 8.52}\n"
     ]
    },
    {
     "data": {
      "application/vnd.jupyter.widget-view+json": {
       "model_id": "c72a0f44cacc45428d997cbe22b8794b",
       "version_major": 2,
       "version_minor": 0
      },
      "text/plain": [
       "  0%|          | 0/585 [00:00<?, ?it/s]"
      ]
     },
     "metadata": {},
     "output_type": "display_data"
    },
    {
     "name": "stdout",
     "output_type": "stream",
     "text": [
      "{'eval_loss': 1.0639792680740356, 'eval_accuracy': 0.3542760082799145, 'eval_f1': 0.3542760082799145, 'eval_recall': 0.3542760082799145, 'eval_precision': 0.3542760082799145, 'eval_runtime': 72.9373, 'eval_samples_per_second': 32.082, 'eval_steps_per_second': 8.021, 'epoch': 8.52}\n",
      "{'loss': 0.1171, 'learning_rate': 1.0666867833433917e-05, 'epoch': 8.6}\n"
     ]
    },
    {
     "data": {
      "application/vnd.jupyter.widget-view+json": {
       "model_id": "5ddde3f2a119490f976f2f301c170e82",
       "version_major": 2,
       "version_minor": 0
      },
      "text/plain": [
       "  0%|          | 0/585 [00:00<?, ?it/s]"
      ]
     },
     "metadata": {},
     "output_type": "display_data"
    },
    {
     "name": "stdout",
     "output_type": "stream",
     "text": [
      "{'eval_loss': 1.039636254310608, 'eval_accuracy': 0.352184328258547, 'eval_f1': 0.352184328258547, 'eval_recall': 0.352184328258547, 'eval_precision': 0.352184328258547, 'eval_runtime': 72.8824, 'eval_samples_per_second': 32.107, 'eval_steps_per_second': 8.027, 'epoch': 8.6}\n",
      "{'loss': 0.1287, 'learning_rate': 1.0541138603902635e-05, 'epoch': 8.68}\n"
     ]
    },
    {
     "data": {
      "application/vnd.jupyter.widget-view+json": {
       "model_id": "8e4fa940696c49219dcc64d36b3ad9b9",
       "version_major": 2,
       "version_minor": 0
      },
      "text/plain": [
       "  0%|          | 0/585 [00:00<?, ?it/s]"
      ]
     },
     "metadata": {},
     "output_type": "display_data"
    },
    {
     "name": "stdout",
     "output_type": "stream",
     "text": [
      "{'eval_loss': 1.0653040409088135, 'eval_accuracy': 0.352297843215812, 'eval_f1': 0.352297843215812, 'eval_recall': 0.352297843215812, 'eval_precision': 0.352297843215812, 'eval_runtime': 72.763, 'eval_samples_per_second': 32.159, 'eval_steps_per_second': 8.04, 'epoch': 8.68}\n",
      "{'loss': 0.1306, 'learning_rate': 1.0415409374371354e-05, 'epoch': 8.75}\n"
     ]
    },
    {
     "data": {
      "application/vnd.jupyter.widget-view+json": {
       "model_id": "e272cde27b994c72965ce9842b86f6a1",
       "version_major": 2,
       "version_minor": 0
      },
      "text/plain": [
       "  0%|          | 0/585 [00:00<?, ?it/s]"
      ]
     },
     "metadata": {},
     "output_type": "display_data"
    },
    {
     "name": "stdout",
     "output_type": "stream",
     "text": [
      "{'eval_loss': 1.0791904926300049, 'eval_accuracy': 0.3470360910790598, 'eval_f1': 0.3470360910790598, 'eval_recall': 0.3470360910790598, 'eval_precision': 0.3470360910790598, 'eval_runtime': 72.9326, 'eval_samples_per_second': 32.084, 'eval_steps_per_second': 8.021, 'epoch': 8.75}\n",
      "{'loss': 0.1282, 'learning_rate': 1.0289680144840074e-05, 'epoch': 8.83}\n"
     ]
    },
    {
     "data": {
      "application/vnd.jupyter.widget-view+json": {
       "model_id": "744f1dd7409443088115b74a559abe69",
       "version_major": 2,
       "version_minor": 0
      },
      "text/plain": [
       "  0%|          | 0/585 [00:00<?, ?it/s]"
      ]
     },
     "metadata": {},
     "output_type": "display_data"
    },
    {
     "name": "stdout",
     "output_type": "stream",
     "text": [
      "{'eval_loss': 1.0725829601287842, 'eval_accuracy': 0.35027335403311965, 'eval_f1': 0.35027335403311965, 'eval_recall': 0.35027335403311965, 'eval_precision': 0.35027335403311965, 'eval_runtime': 72.9645, 'eval_samples_per_second': 32.07, 'eval_steps_per_second': 8.018, 'epoch': 8.83}\n",
      "{'loss': 0.1187, 'learning_rate': 1.0163950915308791e-05, 'epoch': 8.9}\n"
     ]
    },
    {
     "data": {
      "application/vnd.jupyter.widget-view+json": {
       "model_id": "f029e08dcfe9461a815e1ee495294916",
       "version_major": 2,
       "version_minor": 0
      },
      "text/plain": [
       "  0%|          | 0/585 [00:00<?, ?it/s]"
      ]
     },
     "metadata": {},
     "output_type": "display_data"
    },
    {
     "name": "stdout",
     "output_type": "stream",
     "text": [
      "{'eval_loss': 1.1291662454605103, 'eval_accuracy': 0.35220060430021366, 'eval_f1': 0.35220060430021366, 'eval_recall': 0.35220060430021366, 'eval_precision': 0.35220060430021366, 'eval_runtime': 72.9727, 'eval_samples_per_second': 32.067, 'eval_steps_per_second': 8.017, 'epoch': 8.9}\n",
      "{'loss': 0.1153, 'learning_rate': 1.003822168577751e-05, 'epoch': 8.98}\n"
     ]
    },
    {
     "data": {
      "application/vnd.jupyter.widget-view+json": {
       "model_id": "fef7c7318b2e44419f4e30639524b875",
       "version_major": 2,
       "version_minor": 0
      },
      "text/plain": [
       "  0%|          | 0/585 [00:00<?, ?it/s]"
      ]
     },
     "metadata": {},
     "output_type": "display_data"
    },
    {
     "name": "stdout",
     "output_type": "stream",
     "text": [
      "{'eval_loss': 1.1065673828125, 'eval_accuracy': 0.352317875267094, 'eval_f1': 0.352317875267094, 'eval_recall': 0.352317875267094, 'eval_precision': 0.352317875267094, 'eval_runtime': 72.9891, 'eval_samples_per_second': 32.06, 'eval_steps_per_second': 8.015, 'epoch': 8.98}\n",
      "{'loss': 0.1088, 'learning_rate': 9.912492456246228e-06, 'epoch': 9.05}\n"
     ]
    },
    {
     "data": {
      "application/vnd.jupyter.widget-view+json": {
       "model_id": "d7014c49d9fd437fa20bf0eeb1222bad",
       "version_major": 2,
       "version_minor": 0
      },
      "text/plain": [
       "  0%|          | 0/585 [00:00<?, ?it/s]"
      ]
     },
     "metadata": {},
     "output_type": "display_data"
    },
    {
     "name": "stdout",
     "output_type": "stream",
     "text": [
      "{'eval_loss': 1.1154762506484985, 'eval_accuracy': 0.3497988448183761, 'eval_f1': 0.3497988448183761, 'eval_recall': 0.3497988448183761, 'eval_precision': 0.3497988448183761, 'eval_runtime': 72.9746, 'eval_samples_per_second': 32.066, 'eval_steps_per_second': 8.016, 'epoch': 9.05}\n",
      "{'loss': 0.1021, 'learning_rate': 9.786763226714948e-06, 'epoch': 9.13}\n"
     ]
    },
    {
     "data": {
      "application/vnd.jupyter.widget-view+json": {
       "model_id": "041424cd2ca2489095a802f9ceff5acd",
       "version_major": 2,
       "version_minor": 0
      },
      "text/plain": [
       "  0%|          | 0/585 [00:00<?, ?it/s]"
      ]
     },
     "metadata": {},
     "output_type": "display_data"
    },
    {
     "name": "stdout",
     "output_type": "stream",
     "text": [
      "{'eval_loss': 1.1090648174285889, 'eval_accuracy': 0.35132921006944445, 'eval_f1': 0.35132921006944445, 'eval_recall': 0.35132921006944445, 'eval_precision': 0.35132921006944445, 'eval_runtime': 73.6894, 'eval_samples_per_second': 31.755, 'eval_steps_per_second': 7.939, 'epoch': 9.13}\n",
      "{'loss': 0.1019, 'learning_rate': 9.661033997183665e-06, 'epoch': 9.2}\n"
     ]
    },
    {
     "data": {
      "application/vnd.jupyter.widget-view+json": {
       "model_id": "2e530b6a69d04bcbae47c22e11661e44",
       "version_major": 2,
       "version_minor": 0
      },
      "text/plain": [
       "  0%|          | 0/585 [00:00<?, ?it/s]"
      ]
     },
     "metadata": {},
     "output_type": "display_data"
    },
    {
     "name": "stdout",
     "output_type": "stream",
     "text": [
      "{'eval_loss': 1.1370302438735962, 'eval_accuracy': 0.35290965544871794, 'eval_f1': 0.35290965544871794, 'eval_recall': 0.35290965544871794, 'eval_precision': 0.35290965544871794, 'eval_runtime': 72.8505, 'eval_samples_per_second': 32.121, 'eval_steps_per_second': 8.03, 'epoch': 9.2}\n",
      "{'loss': 0.1027, 'learning_rate': 9.535304767652383e-06, 'epoch': 9.28}\n"
     ]
    },
    {
     "data": {
      "application/vnd.jupyter.widget-view+json": {
       "model_id": "e9fadc00469f4e618941d784098868f8",
       "version_major": 2,
       "version_minor": 0
      },
      "text/plain": [
       "  0%|          | 0/585 [00:00<?, ?it/s]"
      ]
     },
     "metadata": {},
     "output_type": "display_data"
    },
    {
     "name": "stdout",
     "output_type": "stream",
     "text": [
      "{'eval_loss': 1.1516457796096802, 'eval_accuracy': 0.354222172142094, 'eval_f1': 0.354222172142094, 'eval_recall': 0.354222172142094, 'eval_precision': 0.354222172142094, 'eval_runtime': 72.9659, 'eval_samples_per_second': 32.07, 'eval_steps_per_second': 8.017, 'epoch': 9.28}\n",
      "{'loss': 0.102, 'learning_rate': 9.409575538121102e-06, 'epoch': 9.35}\n"
     ]
    },
    {
     "data": {
      "application/vnd.jupyter.widget-view+json": {
       "model_id": "e6ab759fb0794cbfb9f5273b3148fcd3",
       "version_major": 2,
       "version_minor": 0
      },
      "text/plain": [
       "  0%|          | 0/585 [00:00<?, ?it/s]"
      ]
     },
     "metadata": {},
     "output_type": "display_data"
    },
    {
     "name": "stdout",
     "output_type": "stream",
     "text": [
      "{'eval_loss': 1.121048092842102, 'eval_accuracy': 0.3518596420940171, 'eval_f1': 0.3518596420940171, 'eval_recall': 0.3518596420940171, 'eval_precision': 0.3518596420940171, 'eval_runtime': 72.7326, 'eval_samples_per_second': 32.173, 'eval_steps_per_second': 8.043, 'epoch': 9.35}\n",
      "{'loss': 0.0986, 'learning_rate': 9.283846308589822e-06, 'epoch': 9.43}\n"
     ]
    },
    {
     "data": {
      "application/vnd.jupyter.widget-view+json": {
       "model_id": "d6e08904c0a241fa951bc7831194c529",
       "version_major": 2,
       "version_minor": 0
      },
      "text/plain": [
       "  0%|          | 0/585 [00:00<?, ?it/s]"
      ]
     },
     "metadata": {},
     "output_type": "display_data"
    },
    {
     "name": "stdout",
     "output_type": "stream",
     "text": [
      "{'eval_loss': 1.1428987979888916, 'eval_accuracy': 0.3477130074786325, 'eval_f1': 0.3477130074786325, 'eval_recall': 0.3477130074786325, 'eval_precision': 0.3477130074786325, 'eval_runtime': 72.9973, 'eval_samples_per_second': 32.056, 'eval_steps_per_second': 8.014, 'epoch': 9.43}\n",
      "{'loss': 0.1021, 'learning_rate': 9.15811707905854e-06, 'epoch': 9.51}\n"
     ]
    },
    {
     "data": {
      "application/vnd.jupyter.widget-view+json": {
       "model_id": "e0daffa58f6c4f8788c833cb587011d9",
       "version_major": 2,
       "version_minor": 0
      },
      "text/plain": [
       "  0%|          | 0/585 [00:00<?, ?it/s]"
      ]
     },
     "metadata": {},
     "output_type": "display_data"
    },
    {
     "name": "stdout",
     "output_type": "stream",
     "text": [
      "{'eval_loss': 1.1332337856292725, 'eval_accuracy': 0.34899881477029915, 'eval_f1': 0.34899881477029915, 'eval_recall': 0.34899881477029915, 'eval_precision': 0.34899881477029915, 'eval_runtime': 73.1147, 'eval_samples_per_second': 32.005, 'eval_steps_per_second': 8.001, 'epoch': 9.51}\n",
      "{'loss': 0.0992, 'learning_rate': 9.032387849527259e-06, 'epoch': 9.58}\n"
     ]
    },
    {
     "data": {
      "application/vnd.jupyter.widget-view+json": {
       "model_id": "107587da249d47e8a251287a21f977e7",
       "version_major": 2,
       "version_minor": 0
      },
      "text/plain": [
       "  0%|          | 0/585 [00:00<?, ?it/s]"
      ]
     },
     "metadata": {},
     "output_type": "display_data"
    },
    {
     "name": "stdout",
     "output_type": "stream",
     "text": [
      "{'eval_loss': 1.160942554473877, 'eval_accuracy': 0.35041023971688035, 'eval_f1': 0.35041023971688035, 'eval_recall': 0.35041023971688035, 'eval_precision': 0.35041023971688035, 'eval_runtime': 72.9991, 'eval_samples_per_second': 32.055, 'eval_steps_per_second': 8.014, 'epoch': 9.58}\n",
      "{'loss': 0.1005, 'learning_rate': 8.906658619995977e-06, 'epoch': 9.66}\n"
     ]
    },
    {
     "data": {
      "application/vnd.jupyter.widget-view+json": {
       "model_id": "0e465f3961e94b20a9e7c53018bdd4c2",
       "version_major": 2,
       "version_minor": 0
      },
      "text/plain": [
       "  0%|          | 0/585 [00:00<?, ?it/s]"
      ]
     },
     "metadata": {},
     "output_type": "display_data"
    },
    {
     "name": "stdout",
     "output_type": "stream",
     "text": [
      "{'eval_loss': 1.1654843091964722, 'eval_accuracy': 0.35062600160256413, 'eval_f1': 0.35062600160256413, 'eval_recall': 0.35062600160256413, 'eval_precision': 0.35062600160256413, 'eval_runtime': 72.7403, 'eval_samples_per_second': 32.169, 'eval_steps_per_second': 8.042, 'epoch': 9.66}\n",
      "{'loss': 0.0963, 'learning_rate': 8.780929390464696e-06, 'epoch': 9.73}\n"
     ]
    },
    {
     "data": {
      "application/vnd.jupyter.widget-view+json": {
       "model_id": "91985599527c4baeae361087b0b2aed4",
       "version_major": 2,
       "version_minor": 0
      },
      "text/plain": [
       "  0%|          | 0/585 [00:00<?, ?it/s]"
      ]
     },
     "metadata": {},
     "output_type": "display_data"
    },
    {
     "name": "stdout",
     "output_type": "stream",
     "text": [
      "{'eval_loss': 1.1321451663970947, 'eval_accuracy': 0.349146968482906, 'eval_f1': 0.349146968482906, 'eval_recall': 0.349146968482906, 'eval_precision': 0.349146968482906, 'eval_runtime': 72.8371, 'eval_samples_per_second': 32.126, 'eval_steps_per_second': 8.032, 'epoch': 9.73}\n",
      "{'loss': 0.1055, 'learning_rate': 8.655200160933415e-06, 'epoch': 9.81}\n"
     ]
    },
    {
     "data": {
      "application/vnd.jupyter.widget-view+json": {
       "model_id": "2b31ac2d5910466ca51364d4371824a9",
       "version_major": 2,
       "version_minor": 0
      },
      "text/plain": [
       "  0%|          | 0/585 [00:00<?, ?it/s]"
      ]
     },
     "metadata": {},
     "output_type": "display_data"
    },
    {
     "name": "stdout",
     "output_type": "stream",
     "text": [
      "{'eval_loss': 1.1482949256896973, 'eval_accuracy': 0.34965069110576924, 'eval_f1': 0.34965069110576924, 'eval_recall': 0.34965069110576924, 'eval_precision': 0.34965069110576924, 'eval_runtime': 72.8075, 'eval_samples_per_second': 32.14, 'eval_steps_per_second': 8.035, 'epoch': 9.81}\n",
      "{'loss': 0.0958, 'learning_rate': 8.529470931402133e-06, 'epoch': 9.88}\n"
     ]
    },
    {
     "data": {
      "application/vnd.jupyter.widget-view+json": {
       "model_id": "5f02dd570cea4e94a697af7a2abbdebb",
       "version_major": 2,
       "version_minor": 0
      },
      "text/plain": [
       "  0%|          | 0/585 [00:00<?, ?it/s]"
      ]
     },
     "metadata": {},
     "output_type": "display_data"
    },
    {
     "name": "stdout",
     "output_type": "stream",
     "text": [
      "{'eval_loss': 1.1238950490951538, 'eval_accuracy': 0.3534100393963675, 'eval_f1': 0.3534100393963675, 'eval_recall': 0.3534100393963675, 'eval_precision': 0.3534100393963675, 'eval_runtime': 72.8485, 'eval_samples_per_second': 32.121, 'eval_steps_per_second': 8.03, 'epoch': 9.88}\n",
      "{'loss': 0.0974, 'learning_rate': 8.40374170187085e-06, 'epoch': 9.96}\n"
     ]
    },
    {
     "data": {
      "application/vnd.jupyter.widget-view+json": {
       "model_id": "fa2489c803b8495b9c8cde987daf3929",
       "version_major": 2,
       "version_minor": 0
      },
      "text/plain": [
       "  0%|          | 0/585 [00:00<?, ?it/s]"
      ]
     },
     "metadata": {},
     "output_type": "display_data"
    },
    {
     "name": "stdout",
     "output_type": "stream",
     "text": [
      "{'eval_loss': 1.1897591352462769, 'eval_accuracy': 0.349336438301282, 'eval_f1': 0.349336438301282, 'eval_recall': 0.349336438301282, 'eval_precision': 0.349336438301282, 'eval_runtime': 72.9705, 'eval_samples_per_second': 32.068, 'eval_steps_per_second': 8.017, 'epoch': 9.96}\n",
      "{'loss': 0.0918, 'learning_rate': 8.27801247233957e-06, 'epoch': 10.03}\n"
     ]
    },
    {
     "data": {
      "application/vnd.jupyter.widget-view+json": {
       "model_id": "d3d9db71b8884aac957d501dbab9b97e",
       "version_major": 2,
       "version_minor": 0
      },
      "text/plain": [
       "  0%|          | 0/585 [00:00<?, ?it/s]"
      ]
     },
     "metadata": {},
     "output_type": "display_data"
    },
    {
     "name": "stdout",
     "output_type": "stream",
     "text": [
      "{'eval_loss': 1.1749643087387085, 'eval_accuracy': 0.3526738615117521, 'eval_f1': 0.3526738615117521, 'eval_recall': 0.3526738615117521, 'eval_precision': 0.3526738615117521, 'eval_runtime': 73.0663, 'eval_samples_per_second': 32.026, 'eval_steps_per_second': 8.006, 'epoch': 10.03}\n",
      "{'loss': 0.0858, 'learning_rate': 8.152283242808288e-06, 'epoch': 10.11}\n"
     ]
    },
    {
     "data": {
      "application/vnd.jupyter.widget-view+json": {
       "model_id": "b8f157cee63c46a09be7c00be218bfd0",
       "version_major": 2,
       "version_minor": 0
      },
      "text/plain": [
       "  0%|          | 0/585 [00:00<?, ?it/s]"
      ]
     },
     "metadata": {},
     "output_type": "display_data"
    },
    {
     "name": "stdout",
     "output_type": "stream",
     "text": [
      "{'eval_loss': 1.199588418006897, 'eval_accuracy': 0.34930472088675213, 'eval_f1': 0.34930472088675213, 'eval_recall': 0.34930472088675213, 'eval_precision': 0.34930472088675213, 'eval_runtime': 72.5075, 'eval_samples_per_second': 32.273, 'eval_steps_per_second': 8.068, 'epoch': 10.11}\n",
      "{'loss': 0.0809, 'learning_rate': 8.026554013277007e-06, 'epoch': 10.18}\n"
     ]
    },
    {
     "data": {
      "application/vnd.jupyter.widget-view+json": {
       "model_id": "47b7078dc9b94cdcbe6d2a09406c79c9",
       "version_major": 2,
       "version_minor": 0
      },
      "text/plain": [
       "  0%|          | 0/585 [00:00<?, ?it/s]"
      ]
     },
     "metadata": {},
     "output_type": "display_data"
    },
    {
     "name": "stdout",
     "output_type": "stream",
     "text": [
      "{'eval_loss': 1.1706968545913696, 'eval_accuracy': 0.35087890625, 'eval_f1': 0.35087890625, 'eval_recall': 0.35087890625, 'eval_precision': 0.35087890625, 'eval_runtime': 73.218, 'eval_samples_per_second': 31.959, 'eval_steps_per_second': 7.99, 'epoch': 10.18}\n",
      "{'loss': 0.0895, 'learning_rate': 7.900824783745725e-06, 'epoch': 10.26}\n"
     ]
    },
    {
     "data": {
      "application/vnd.jupyter.widget-view+json": {
       "model_id": "9466546873144c1e948fb1718c3b61c7",
       "version_major": 2,
       "version_minor": 0
      },
      "text/plain": [
       "  0%|          | 0/585 [00:00<?, ?it/s]"
      ]
     },
     "metadata": {},
     "output_type": "display_data"
    },
    {
     "name": "stdout",
     "output_type": "stream",
     "text": [
      "{'eval_loss': 1.1765609979629517, 'eval_accuracy': 0.3510157919337607, 'eval_f1': 0.3510157919337607, 'eval_recall': 0.3510157919337607, 'eval_precision': 0.3510157919337607, 'eval_runtime': 72.9599, 'eval_samples_per_second': 32.072, 'eval_steps_per_second': 8.018, 'epoch': 10.26}\n",
      "{'loss': 0.081, 'learning_rate': 7.775095554214444e-06, 'epoch': 10.33}\n"
     ]
    },
    {
     "data": {
      "application/vnd.jupyter.widget-view+json": {
       "model_id": "cfcf6f1ec8e64b36a4bedb060f002b05",
       "version_major": 2,
       "version_minor": 0
      },
      "text/plain": [
       "  0%|          | 0/585 [00:00<?, ?it/s]"
      ]
     },
     "metadata": {},
     "output_type": "display_data"
    },
    {
     "name": "stdout",
     "output_type": "stream",
     "text": [
      "{'eval_loss': 1.2092700004577637, 'eval_accuracy': 0.34981428619123933, 'eval_f1': 0.34981428619123933, 'eval_recall': 0.34981428619123933, 'eval_precision': 0.34981428619123933, 'eval_runtime': 72.6924, 'eval_samples_per_second': 32.19, 'eval_steps_per_second': 8.048, 'epoch': 10.33}\n",
      "{'loss': 0.0776, 'learning_rate': 7.649366324683164e-06, 'epoch': 10.41}\n"
     ]
    },
    {
     "data": {
      "application/vnd.jupyter.widget-view+json": {
       "model_id": "5379b5c0d1df4e0db68a9b764689b16d",
       "version_major": 2,
       "version_minor": 0
      },
      "text/plain": [
       "  0%|          | 0/585 [00:00<?, ?it/s]"
      ]
     },
     "metadata": {},
     "output_type": "display_data"
    },
    {
     "name": "stdout",
     "output_type": "stream",
     "text": [
      "{'eval_loss': 1.1986392736434937, 'eval_accuracy': 0.35276317107371796, 'eval_f1': 0.35276317107371796, 'eval_recall': 0.35276317107371796, 'eval_precision': 0.35276317107371796, 'eval_runtime': 73.0604, 'eval_samples_per_second': 32.028, 'eval_steps_per_second': 8.007, 'epoch': 10.41}\n",
      "{'loss': 0.0876, 'learning_rate': 7.5236370951518805e-06, 'epoch': 10.49}\n"
     ]
    },
    {
     "data": {
      "application/vnd.jupyter.widget-view+json": {
       "model_id": "79e58573adf048c897796570b55b8a08",
       "version_major": 2,
       "version_minor": 0
      },
      "text/plain": [
       "  0%|          | 0/585 [00:00<?, ?it/s]"
      ]
     },
     "metadata": {},
     "output_type": "display_data"
    },
    {
     "name": "stdout",
     "output_type": "stream",
     "text": [
      "{'eval_loss': 1.1564744710922241, 'eval_accuracy': 0.3543048043536325, 'eval_f1': 0.35430480435363254, 'eval_recall': 0.3543048043536325, 'eval_precision': 0.3543048043536325, 'eval_runtime': 73.0325, 'eval_samples_per_second': 32.041, 'eval_steps_per_second': 8.01, 'epoch': 10.49}\n",
      "{'loss': 0.0809, 'learning_rate': 7.3979078656206e-06, 'epoch': 10.56}\n"
     ]
    },
    {
     "data": {
      "application/vnd.jupyter.widget-view+json": {
       "model_id": "f504338a84804c12a04b5408d83aba77",
       "version_major": 2,
       "version_minor": 0
      },
      "text/plain": [
       "  0%|          | 0/585 [00:00<?, ?it/s]"
      ]
     },
     "metadata": {},
     "output_type": "display_data"
    },
    {
     "name": "stdout",
     "output_type": "stream",
     "text": [
      "{'eval_loss': 1.202714443206787, 'eval_accuracy': 0.3511005108173077, 'eval_f1': 0.3511005108173077, 'eval_recall': 0.3511005108173077, 'eval_precision': 0.3511005108173077, 'eval_runtime': 73.0602, 'eval_samples_per_second': 32.028, 'eval_steps_per_second': 8.007, 'epoch': 10.56}\n",
      "{'loss': 0.0874, 'learning_rate': 7.272178636089319e-06, 'epoch': 10.64}\n"
     ]
    },
    {
     "data": {
      "application/vnd.jupyter.widget-view+json": {
       "model_id": "cfb19181dc444701a41427b93698679e",
       "version_major": 2,
       "version_minor": 0
      },
      "text/plain": [
       "  0%|          | 0/585 [00:00<?, ?it/s]"
      ]
     },
     "metadata": {},
     "output_type": "display_data"
    },
    {
     "name": "stdout",
     "output_type": "stream",
     "text": [
      "{'eval_loss': 1.1614397764205933, 'eval_accuracy': 0.35274230435363246, 'eval_f1': 0.35274230435363246, 'eval_recall': 0.35274230435363246, 'eval_precision': 0.35274230435363246, 'eval_runtime': 72.7138, 'eval_samples_per_second': 32.181, 'eval_steps_per_second': 8.045, 'epoch': 10.64}\n",
      "{'loss': 0.0794, 'learning_rate': 7.146449406558037e-06, 'epoch': 10.71}\n"
     ]
    },
    {
     "data": {
      "application/vnd.jupyter.widget-view+json": {
       "model_id": "d7073fbf513c43d885a975979ef7ca2d",
       "version_major": 2,
       "version_minor": 0
      },
      "text/plain": [
       "  0%|          | 0/585 [00:00<?, ?it/s]"
      ]
     },
     "metadata": {},
     "output_type": "display_data"
    },
    {
     "name": "stdout",
     "output_type": "stream",
     "text": [
      "{'eval_loss': 1.188820481300354, 'eval_accuracy': 0.3535456730769231, 'eval_f1': 0.3535456730769231, 'eval_recall': 0.3535456730769231, 'eval_precision': 0.3535456730769231, 'eval_runtime': 72.791, 'eval_samples_per_second': 32.147, 'eval_steps_per_second': 8.037, 'epoch': 10.71}\n",
      "{'loss': 0.0845, 'learning_rate': 7.0207201770267554e-06, 'epoch': 10.79}\n"
     ]
    },
    {
     "data": {
      "application/vnd.jupyter.widget-view+json": {
       "model_id": "03dcd6f00ab34bc89d1481e87d5381e6",
       "version_major": 2,
       "version_minor": 0
      },
      "text/plain": [
       "  0%|          | 0/585 [00:00<?, ?it/s]"
      ]
     },
     "metadata": {},
     "output_type": "display_data"
    },
    {
     "name": "stdout",
     "output_type": "stream",
     "text": [
      "{'eval_loss': 1.196546196937561, 'eval_accuracy': 0.3500692775106838, 'eval_f1': 0.3500692775106838, 'eval_recall': 0.3500692775106838, 'eval_precision': 0.3500692775106838, 'eval_runtime': 72.8534, 'eval_samples_per_second': 32.119, 'eval_steps_per_second': 8.03, 'epoch': 10.79}\n",
      "{'loss': 0.0806, 'learning_rate': 6.894990947495473e-06, 'epoch': 10.86}\n"
     ]
    },
    {
     "data": {
      "application/vnd.jupyter.widget-view+json": {
       "model_id": "4854c450403240e79c11f044b0e81ad6",
       "version_major": 2,
       "version_minor": 0
      },
      "text/plain": [
       "  0%|          | 0/585 [00:00<?, ?it/s]"
      ]
     },
     "metadata": {},
     "output_type": "display_data"
    },
    {
     "name": "stdout",
     "output_type": "stream",
     "text": [
      "{'eval_loss': 1.1981548070907593, 'eval_accuracy': 0.35146901709401707, 'eval_f1': 0.35146901709401707, 'eval_recall': 0.35146901709401707, 'eval_precision': 0.35146901709401707, 'eval_runtime': 72.9726, 'eval_samples_per_second': 32.067, 'eval_steps_per_second': 8.017, 'epoch': 10.86}\n",
      "{'loss': 0.0925, 'learning_rate': 6.7692617179641925e-06, 'epoch': 10.94}\n"
     ]
    },
    {
     "data": {
      "application/vnd.jupyter.widget-view+json": {
       "model_id": "7e96d15141394f17ada2e22a5a3a8a95",
       "version_major": 2,
       "version_minor": 0
      },
      "text/plain": [
       "  0%|          | 0/585 [00:00<?, ?it/s]"
      ]
     },
     "metadata": {},
     "output_type": "display_data"
    },
    {
     "name": "stdout",
     "output_type": "stream",
     "text": [
      "{'eval_loss': 1.1669600009918213, 'eval_accuracy': 0.3542472122061966, 'eval_f1': 0.35424721220619665, 'eval_recall': 0.3542472122061966, 'eval_precision': 0.3542472122061966, 'eval_runtime': 72.746, 'eval_samples_per_second': 32.167, 'eval_steps_per_second': 8.042, 'epoch': 10.94}\n",
      "{'loss': 0.0805, 'learning_rate': 6.643532488432912e-06, 'epoch': 11.01}\n"
     ]
    },
    {
     "data": {
      "application/vnd.jupyter.widget-view+json": {
       "model_id": "ba614c67bdf54248a448a3b09dc316b4",
       "version_major": 2,
       "version_minor": 0
      },
      "text/plain": [
       "  0%|          | 0/585 [00:00<?, ?it/s]"
      ]
     },
     "metadata": {},
     "output_type": "display_data"
    },
    {
     "name": "stdout",
     "output_type": "stream",
     "text": [
      "{'eval_loss': 1.1942591667175293, 'eval_accuracy': 0.35251861311431626, 'eval_f1': 0.35251861311431626, 'eval_recall': 0.35251861311431626, 'eval_precision': 0.35251861311431626, 'eval_runtime': 72.4373, 'eval_samples_per_second': 32.304, 'eval_steps_per_second': 8.076, 'epoch': 11.01}\n",
      "{'loss': 0.0761, 'learning_rate': 6.5178032589016296e-06, 'epoch': 11.09}\n"
     ]
    },
    {
     "data": {
      "application/vnd.jupyter.widget-view+json": {
       "model_id": "95b6990e3b274c55b75f83942697dcc3",
       "version_major": 2,
       "version_minor": 0
      },
      "text/plain": [
       "  0%|          | 0/585 [00:00<?, ?it/s]"
      ]
     },
     "metadata": {},
     "output_type": "display_data"
    },
    {
     "name": "stdout",
     "output_type": "stream",
     "text": [
      "{'eval_loss': 1.2071338891983032, 'eval_accuracy': 0.3525378104967949, 'eval_f1': 0.3525378104967949, 'eval_recall': 0.3525378104967949, 'eval_precision': 0.3525378104967949, 'eval_runtime': 72.7048, 'eval_samples_per_second': 32.185, 'eval_steps_per_second': 8.046, 'epoch': 11.09}\n",
      "{'loss': 0.0681, 'learning_rate': 6.392074029370348e-06, 'epoch': 11.16}\n"
     ]
    },
    {
     "data": {
      "application/vnd.jupyter.widget-view+json": {
       "model_id": "10922d17d7d84604ba8cfb9ee2dc56e4",
       "version_major": 2,
       "version_minor": 0
      },
      "text/plain": [
       "  0%|          | 0/585 [00:00<?, ?it/s]"
      ]
     },
     "metadata": {},
     "output_type": "display_data"
    },
    {
     "name": "stdout",
     "output_type": "stream",
     "text": [
      "{'eval_loss': 1.2262154817581177, 'eval_accuracy': 0.3526513254540598, 'eval_f1': 0.3526513254540598, 'eval_recall': 0.3526513254540598, 'eval_precision': 0.3526513254540598, 'eval_runtime': 72.3883, 'eval_samples_per_second': 32.326, 'eval_steps_per_second': 8.081, 'epoch': 11.16}\n",
      "{'loss': 0.0664, 'learning_rate': 6.266344799839066e-06, 'epoch': 11.24}\n"
     ]
    },
    {
     "data": {
      "application/vnd.jupyter.widget-view+json": {
       "model_id": "341ab01a4b884400a2bc3a5c816a48da",
       "version_major": 2,
       "version_minor": 0
      },
      "text/plain": [
       "  0%|          | 0/585 [00:00<?, ?it/s]"
      ]
     },
     "metadata": {},
     "output_type": "display_data"
    },
    {
     "name": "stdout",
     "output_type": "stream",
     "text": [
      "{'eval_loss': 1.233702301979065, 'eval_accuracy': 0.3502036591880342, 'eval_f1': 0.3502036591880342, 'eval_recall': 0.3502036591880342, 'eval_precision': 0.3502036591880342, 'eval_runtime': 72.3966, 'eval_samples_per_second': 32.322, 'eval_steps_per_second': 8.08, 'epoch': 11.24}\n",
      "{'loss': 0.0684, 'learning_rate': 6.140615570307785e-06, 'epoch': 11.32}\n"
     ]
    },
    {
     "data": {
      "application/vnd.jupyter.widget-view+json": {
       "model_id": "4ee0971423054d35bb99e9228230e1c6",
       "version_major": 2,
       "version_minor": 0
      },
      "text/plain": [
       "  0%|          | 0/585 [00:00<?, ?it/s]"
      ]
     },
     "metadata": {},
     "output_type": "display_data"
    },
    {
     "name": "stdout",
     "output_type": "stream",
     "text": [
      "{'eval_loss': 1.2359987497329712, 'eval_accuracy': 0.3476036658653846, 'eval_f1': 0.3476036658653846, 'eval_recall': 0.3476036658653846, 'eval_precision': 0.3476036658653846, 'eval_runtime': 73.0254, 'eval_samples_per_second': 32.044, 'eval_steps_per_second': 8.011, 'epoch': 11.32}\n",
      "{'loss': 0.0705, 'learning_rate': 6.014886340776504e-06, 'epoch': 11.39}\n"
     ]
    },
    {
     "data": {
      "application/vnd.jupyter.widget-view+json": {
       "model_id": "1e68b8aa078f42f3819b3ea836836ee0",
       "version_major": 2,
       "version_minor": 0
      },
      "text/plain": [
       "  0%|          | 0/585 [00:00<?, ?it/s]"
      ]
     },
     "metadata": {},
     "output_type": "display_data"
    },
    {
     "name": "stdout",
     "output_type": "stream",
     "text": [
      "{'eval_loss': 1.2262886762619019, 'eval_accuracy': 0.35298101963141026, 'eval_f1': 0.35298101963141026, 'eval_recall': 0.35298101963141026, 'eval_precision': 0.35298101963141026, 'eval_runtime': 72.5449, 'eval_samples_per_second': 32.256, 'eval_steps_per_second': 8.064, 'epoch': 11.39}\n",
      "{'loss': 0.0647, 'learning_rate': 5.889157111245223e-06, 'epoch': 11.47}\n"
     ]
    },
    {
     "data": {
      "application/vnd.jupyter.widget-view+json": {
       "model_id": "9630decaaf7d47618b132feb50f65133",
       "version_major": 2,
       "version_minor": 0
      },
      "text/plain": [
       "  0%|          | 0/585 [00:00<?, ?it/s]"
      ]
     },
     "metadata": {},
     "output_type": "display_data"
    },
    {
     "name": "stdout",
     "output_type": "stream",
     "text": [
      "{'eval_loss': 1.2303813695907593, 'eval_accuracy': 0.35133046207264956, 'eval_f1': 0.35133046207264956, 'eval_recall': 0.35133046207264956, 'eval_precision': 0.35133046207264956, 'eval_runtime': 72.4921, 'eval_samples_per_second': 32.279, 'eval_steps_per_second': 8.07, 'epoch': 11.47}\n",
      "{'loss': 0.0715, 'learning_rate': 5.763427881713941e-06, 'epoch': 11.54}\n"
     ]
    },
    {
     "data": {
      "application/vnd.jupyter.widget-view+json": {
       "model_id": "38d4379fc6214747ac72bd63b67b6347",
       "version_major": 2,
       "version_minor": 0
      },
      "text/plain": [
       "  0%|          | 0/585 [00:00<?, ?it/s]"
      ]
     },
     "metadata": {},
     "output_type": "display_data"
    },
    {
     "name": "stdout",
     "output_type": "stream",
     "text": [
      "{'eval_loss': 1.2306896448135376, 'eval_accuracy': 0.3550785423344017, 'eval_f1': 0.3550785423344017, 'eval_recall': 0.3550785423344017, 'eval_precision': 0.3550785423344017, 'eval_runtime': 72.3605, 'eval_samples_per_second': 32.338, 'eval_steps_per_second': 8.085, 'epoch': 11.54}\n",
      "{'loss': 0.0709, 'learning_rate': 5.637698652182659e-06, 'epoch': 11.62}\n"
     ]
    },
    {
     "data": {
      "application/vnd.jupyter.widget-view+json": {
       "model_id": "c51f2e0ff67f4a7f8fb25b172e141d7c",
       "version_major": 2,
       "version_minor": 0
      },
      "text/plain": [
       "  0%|          | 0/585 [00:00<?, ?it/s]"
      ]
     },
     "metadata": {},
     "output_type": "display_data"
    },
    {
     "name": "stdout",
     "output_type": "stream",
     "text": [
      "{'eval_loss': 1.2432256937026978, 'eval_accuracy': 0.34987271300747863, 'eval_f1': 0.34987271300747863, 'eval_recall': 0.34987271300747863, 'eval_precision': 0.34987271300747863, 'eval_runtime': 72.559, 'eval_samples_per_second': 32.25, 'eval_steps_per_second': 8.062, 'epoch': 11.62}\n",
      "{'loss': 0.0707, 'learning_rate': 5.511969422651378e-06, 'epoch': 11.69}\n"
     ]
    },
    {
     "data": {
      "application/vnd.jupyter.widget-view+json": {
       "model_id": "eeb75882a6904b9c938a3fe97b3883ea",
       "version_major": 2,
       "version_minor": 0
      },
      "text/plain": [
       "  0%|          | 0/585 [00:00<?, ?it/s]"
      ]
     },
     "metadata": {},
     "output_type": "display_data"
    },
    {
     "name": "stdout",
     "output_type": "stream",
     "text": [
      "{'eval_loss': 1.2408344745635986, 'eval_accuracy': 0.35046198918269234, 'eval_f1': 0.35046198918269234, 'eval_recall': 0.35046198918269234, 'eval_precision': 0.35046198918269234, 'eval_runtime': 73.3637, 'eval_samples_per_second': 31.896, 'eval_steps_per_second': 7.974, 'epoch': 11.69}\n",
      "{'loss': 0.0712, 'learning_rate': 5.386240193120097e-06, 'epoch': 11.77}\n"
     ]
    },
    {
     "data": {
      "application/vnd.jupyter.widget-view+json": {
       "model_id": "1e8ef24c3c9d4f91a1ed6489e15fa5cc",
       "version_major": 2,
       "version_minor": 0
      },
      "text/plain": [
       "  0%|          | 0/585 [00:00<?, ?it/s]"
      ]
     },
     "metadata": {},
     "output_type": "display_data"
    },
    {
     "name": "stdout",
     "output_type": "stream",
     "text": [
      "{'eval_loss': 1.2366834878921509, 'eval_accuracy': 0.3492095686431624, 'eval_f1': 0.3492095686431624, 'eval_recall': 0.3492095686431624, 'eval_precision': 0.3492095686431624, 'eval_runtime': 72.7579, 'eval_samples_per_second': 32.161, 'eval_steps_per_second': 8.04, 'epoch': 11.77}\n",
      "{'loss': 0.0708, 'learning_rate': 5.260510963588816e-06, 'epoch': 11.84}\n"
     ]
    },
    {
     "data": {
      "application/vnd.jupyter.widget-view+json": {
       "model_id": "e8ba5f55c4434713886649619e547a79",
       "version_major": 2,
       "version_minor": 0
      },
      "text/plain": [
       "  0%|          | 0/585 [00:00<?, ?it/s]"
      ]
     },
     "metadata": {},
     "output_type": "display_data"
    },
    {
     "name": "stdout",
     "output_type": "stream",
     "text": [
      "{'eval_loss': 1.2339586019515991, 'eval_accuracy': 0.34962106036324786, 'eval_f1': 0.34962106036324786, 'eval_recall': 0.34962106036324786, 'eval_precision': 0.34962106036324786, 'eval_runtime': 86.9139, 'eval_samples_per_second': 26.923, 'eval_steps_per_second': 6.731, 'epoch': 11.84}\n",
      "{'loss': 0.0705, 'learning_rate': 5.134781734057533e-06, 'epoch': 11.92}\n"
     ]
    },
    {
     "data": {
      "application/vnd.jupyter.widget-view+json": {
       "model_id": "dbd41ff1cc7c49c8950e1c87ec328757",
       "version_major": 2,
       "version_minor": 0
      },
      "text/plain": [
       "  0%|          | 0/585 [00:00<?, ?it/s]"
      ]
     },
     "metadata": {},
     "output_type": "display_data"
    },
    {
     "name": "stdout",
     "output_type": "stream",
     "text": [
      "{'eval_loss': 1.2290393114089966, 'eval_accuracy': 0.35066356169871793, 'eval_f1': 0.35066356169871793, 'eval_recall': 0.35066356169871793, 'eval_precision': 0.35066356169871793, 'eval_runtime': 86.307, 'eval_samples_per_second': 27.113, 'eval_steps_per_second': 6.778, 'epoch': 11.92}\n",
      "{'loss': 0.0684, 'learning_rate': 5.009052504526252e-06, 'epoch': 11.99}\n"
     ]
    },
    {
     "data": {
      "application/vnd.jupyter.widget-view+json": {
       "model_id": "2188444508a143d483eab4688881f656",
       "version_major": 2,
       "version_minor": 0
      },
      "text/plain": [
       "  0%|          | 0/585 [00:00<?, ?it/s]"
      ]
     },
     "metadata": {},
     "output_type": "display_data"
    },
    {
     "name": "stdout",
     "output_type": "stream",
     "text": [
      "{'eval_loss': 1.2580863237380981, 'eval_accuracy': 0.35100494123931625, 'eval_f1': 0.35100494123931625, 'eval_recall': 0.35100494123931625, 'eval_precision': 0.35100494123931625, 'eval_runtime': 86.3311, 'eval_samples_per_second': 27.105, 'eval_steps_per_second': 6.776, 'epoch': 11.99}\n"
     ]
    },
    {
     "ename": "KeyboardInterrupt",
     "evalue": "",
     "output_type": "error",
     "traceback": [
      "\u001b[0;31m---------------------------------------------------------------------------\u001b[0m",
      "\u001b[0;31mKeyboardInterrupt\u001b[0m                         Traceback (most recent call last)",
      "Cell \u001b[0;32mIn[14], line 1\u001b[0m\n\u001b[0;32m----> 1\u001b[0m \u001b[43mtrainer\u001b[49m\u001b[38;5;241;43m.\u001b[39;49m\u001b[43mtrain\u001b[49m\u001b[43m(\u001b[49m\u001b[43m)\u001b[49m\n",
      "File \u001b[0;32m~/anaconda3/envs/torch/lib/python3.10/site-packages/transformers/trainer.py:1537\u001b[0m, in \u001b[0;36mTrainer.train\u001b[0;34m(self, resume_from_checkpoint, trial, ignore_keys_for_eval, **kwargs)\u001b[0m\n\u001b[1;32m   1535\u001b[0m         hf_hub_utils\u001b[38;5;241m.\u001b[39menable_progress_bars()\n\u001b[1;32m   1536\u001b[0m \u001b[38;5;28;01melse\u001b[39;00m:\n\u001b[0;32m-> 1537\u001b[0m     \u001b[38;5;28;01mreturn\u001b[39;00m \u001b[43minner_training_loop\u001b[49m\u001b[43m(\u001b[49m\n\u001b[1;32m   1538\u001b[0m \u001b[43m        \u001b[49m\u001b[43margs\u001b[49m\u001b[38;5;241;43m=\u001b[39;49m\u001b[43margs\u001b[49m\u001b[43m,\u001b[49m\n\u001b[1;32m   1539\u001b[0m \u001b[43m        \u001b[49m\u001b[43mresume_from_checkpoint\u001b[49m\u001b[38;5;241;43m=\u001b[39;49m\u001b[43mresume_from_checkpoint\u001b[49m\u001b[43m,\u001b[49m\n\u001b[1;32m   1540\u001b[0m \u001b[43m        \u001b[49m\u001b[43mtrial\u001b[49m\u001b[38;5;241;43m=\u001b[39;49m\u001b[43mtrial\u001b[49m\u001b[43m,\u001b[49m\n\u001b[1;32m   1541\u001b[0m \u001b[43m        \u001b[49m\u001b[43mignore_keys_for_eval\u001b[49m\u001b[38;5;241;43m=\u001b[39;49m\u001b[43mignore_keys_for_eval\u001b[49m\u001b[43m,\u001b[49m\n\u001b[1;32m   1542\u001b[0m \u001b[43m    \u001b[49m\u001b[43m)\u001b[49m\n",
      "File \u001b[0;32m~/anaconda3/envs/torch/lib/python3.10/site-packages/transformers/trainer.py:1854\u001b[0m, in \u001b[0;36mTrainer._inner_training_loop\u001b[0;34m(self, batch_size, args, resume_from_checkpoint, trial, ignore_keys_for_eval)\u001b[0m\n\u001b[1;32m   1851\u001b[0m     \u001b[38;5;28mself\u001b[39m\u001b[38;5;241m.\u001b[39mcontrol \u001b[38;5;241m=\u001b[39m \u001b[38;5;28mself\u001b[39m\u001b[38;5;241m.\u001b[39mcallback_handler\u001b[38;5;241m.\u001b[39mon_step_begin(args, \u001b[38;5;28mself\u001b[39m\u001b[38;5;241m.\u001b[39mstate, \u001b[38;5;28mself\u001b[39m\u001b[38;5;241m.\u001b[39mcontrol)\n\u001b[1;32m   1853\u001b[0m \u001b[38;5;28;01mwith\u001b[39;00m \u001b[38;5;28mself\u001b[39m\u001b[38;5;241m.\u001b[39maccelerator\u001b[38;5;241m.\u001b[39maccumulate(model):\n\u001b[0;32m-> 1854\u001b[0m     tr_loss_step \u001b[38;5;241m=\u001b[39m \u001b[38;5;28;43mself\u001b[39;49m\u001b[38;5;241;43m.\u001b[39;49m\u001b[43mtraining_step\u001b[49m\u001b[43m(\u001b[49m\u001b[43mmodel\u001b[49m\u001b[43m,\u001b[49m\u001b[43m \u001b[49m\u001b[43minputs\u001b[49m\u001b[43m)\u001b[49m\n\u001b[1;32m   1856\u001b[0m \u001b[38;5;28;01mif\u001b[39;00m (\n\u001b[1;32m   1857\u001b[0m     args\u001b[38;5;241m.\u001b[39mlogging_nan_inf_filter\n\u001b[1;32m   1858\u001b[0m     \u001b[38;5;129;01mand\u001b[39;00m \u001b[38;5;129;01mnot\u001b[39;00m is_torch_tpu_available()\n\u001b[1;32m   1859\u001b[0m     \u001b[38;5;129;01mand\u001b[39;00m (torch\u001b[38;5;241m.\u001b[39misnan(tr_loss_step) \u001b[38;5;129;01mor\u001b[39;00m torch\u001b[38;5;241m.\u001b[39misinf(tr_loss_step))\n\u001b[1;32m   1860\u001b[0m ):\n\u001b[1;32m   1861\u001b[0m     \u001b[38;5;66;03m# if loss is nan or inf simply add the average of previous logged losses\u001b[39;00m\n\u001b[1;32m   1862\u001b[0m     tr_loss \u001b[38;5;241m+\u001b[39m\u001b[38;5;241m=\u001b[39m tr_loss \u001b[38;5;241m/\u001b[39m (\u001b[38;5;241m1\u001b[39m \u001b[38;5;241m+\u001b[39m \u001b[38;5;28mself\u001b[39m\u001b[38;5;241m.\u001b[39mstate\u001b[38;5;241m.\u001b[39mglobal_step \u001b[38;5;241m-\u001b[39m \u001b[38;5;28mself\u001b[39m\u001b[38;5;241m.\u001b[39m_globalstep_last_logged)\n",
      "File \u001b[0;32m~/anaconda3/envs/torch/lib/python3.10/site-packages/transformers/trainer.py:2732\u001b[0m, in \u001b[0;36mTrainer.training_step\u001b[0;34m(self, model, inputs)\u001b[0m\n\u001b[1;32m   2730\u001b[0m         scaled_loss\u001b[38;5;241m.\u001b[39mbackward()\n\u001b[1;32m   2731\u001b[0m \u001b[38;5;28;01melse\u001b[39;00m:\n\u001b[0;32m-> 2732\u001b[0m     \u001b[38;5;28;43mself\u001b[39;49m\u001b[38;5;241;43m.\u001b[39;49m\u001b[43maccelerator\u001b[49m\u001b[38;5;241;43m.\u001b[39;49m\u001b[43mbackward\u001b[49m\u001b[43m(\u001b[49m\u001b[43mloss\u001b[49m\u001b[43m)\u001b[49m\n\u001b[1;32m   2734\u001b[0m \u001b[38;5;28;01mreturn\u001b[39;00m loss\u001b[38;5;241m.\u001b[39mdetach() \u001b[38;5;241m/\u001b[39m \u001b[38;5;28mself\u001b[39m\u001b[38;5;241m.\u001b[39margs\u001b[38;5;241m.\u001b[39mgradient_accumulation_steps\n",
      "File \u001b[0;32m~/anaconda3/envs/torch/lib/python3.10/site-packages/accelerate/accelerator.py:1905\u001b[0m, in \u001b[0;36mAccelerator.backward\u001b[0;34m(self, loss, **kwargs)\u001b[0m\n\u001b[1;32m   1903\u001b[0m     \u001b[38;5;28mself\u001b[39m\u001b[38;5;241m.\u001b[39mscaler\u001b[38;5;241m.\u001b[39mscale(loss)\u001b[38;5;241m.\u001b[39mbackward(\u001b[38;5;241m*\u001b[39m\u001b[38;5;241m*\u001b[39mkwargs)\n\u001b[1;32m   1904\u001b[0m \u001b[38;5;28;01melse\u001b[39;00m:\n\u001b[0;32m-> 1905\u001b[0m     \u001b[43mloss\u001b[49m\u001b[38;5;241;43m.\u001b[39;49m\u001b[43mbackward\u001b[49m\u001b[43m(\u001b[49m\u001b[38;5;241;43m*\u001b[39;49m\u001b[38;5;241;43m*\u001b[39;49m\u001b[43mkwargs\u001b[49m\u001b[43m)\u001b[49m\n",
      "File \u001b[0;32m~/anaconda3/envs/torch/lib/python3.10/site-packages/torch/_tensor.py:488\u001b[0m, in \u001b[0;36mTensor.backward\u001b[0;34m(self, gradient, retain_graph, create_graph, inputs)\u001b[0m\n\u001b[1;32m    478\u001b[0m \u001b[38;5;28;01mif\u001b[39;00m has_torch_function_unary(\u001b[38;5;28mself\u001b[39m):\n\u001b[1;32m    479\u001b[0m     \u001b[38;5;28;01mreturn\u001b[39;00m handle_torch_function(\n\u001b[1;32m    480\u001b[0m         Tensor\u001b[38;5;241m.\u001b[39mbackward,\n\u001b[1;32m    481\u001b[0m         (\u001b[38;5;28mself\u001b[39m,),\n\u001b[0;32m   (...)\u001b[0m\n\u001b[1;32m    486\u001b[0m         inputs\u001b[38;5;241m=\u001b[39minputs,\n\u001b[1;32m    487\u001b[0m     )\n\u001b[0;32m--> 488\u001b[0m \u001b[43mtorch\u001b[49m\u001b[38;5;241;43m.\u001b[39;49m\u001b[43mautograd\u001b[49m\u001b[38;5;241;43m.\u001b[39;49m\u001b[43mbackward\u001b[49m\u001b[43m(\u001b[49m\n\u001b[1;32m    489\u001b[0m \u001b[43m    \u001b[49m\u001b[38;5;28;43mself\u001b[39;49m\u001b[43m,\u001b[49m\u001b[43m \u001b[49m\u001b[43mgradient\u001b[49m\u001b[43m,\u001b[49m\u001b[43m \u001b[49m\u001b[43mretain_graph\u001b[49m\u001b[43m,\u001b[49m\u001b[43m \u001b[49m\u001b[43mcreate_graph\u001b[49m\u001b[43m,\u001b[49m\u001b[43m \u001b[49m\u001b[43minputs\u001b[49m\u001b[38;5;241;43m=\u001b[39;49m\u001b[43minputs\u001b[49m\n\u001b[1;32m    490\u001b[0m \u001b[43m\u001b[49m\u001b[43m)\u001b[49m\n",
      "File \u001b[0;32m~/anaconda3/envs/torch/lib/python3.10/site-packages/torch/autograd/__init__.py:197\u001b[0m, in \u001b[0;36mbackward\u001b[0;34m(tensors, grad_tensors, retain_graph, create_graph, grad_variables, inputs)\u001b[0m\n\u001b[1;32m    192\u001b[0m     retain_graph \u001b[38;5;241m=\u001b[39m create_graph\n\u001b[1;32m    194\u001b[0m \u001b[38;5;66;03m# The reason we repeat same the comment below is that\u001b[39;00m\n\u001b[1;32m    195\u001b[0m \u001b[38;5;66;03m# some Python versions print out the first line of a multi-line function\u001b[39;00m\n\u001b[1;32m    196\u001b[0m \u001b[38;5;66;03m# calls in the traceback and some print out the last line\u001b[39;00m\n\u001b[0;32m--> 197\u001b[0m \u001b[43mVariable\u001b[49m\u001b[38;5;241;43m.\u001b[39;49m\u001b[43m_execution_engine\u001b[49m\u001b[38;5;241;43m.\u001b[39;49m\u001b[43mrun_backward\u001b[49m\u001b[43m(\u001b[49m\u001b[43m  \u001b[49m\u001b[38;5;66;43;03m# Calls into the C++ engine to run the backward pass\u001b[39;49;00m\n\u001b[1;32m    198\u001b[0m \u001b[43m    \u001b[49m\u001b[43mtensors\u001b[49m\u001b[43m,\u001b[49m\u001b[43m \u001b[49m\u001b[43mgrad_tensors_\u001b[49m\u001b[43m,\u001b[49m\u001b[43m \u001b[49m\u001b[43mretain_graph\u001b[49m\u001b[43m,\u001b[49m\u001b[43m \u001b[49m\u001b[43mcreate_graph\u001b[49m\u001b[43m,\u001b[49m\u001b[43m \u001b[49m\u001b[43minputs\u001b[49m\u001b[43m,\u001b[49m\n\u001b[1;32m    199\u001b[0m \u001b[43m    \u001b[49m\u001b[43mallow_unreachable\u001b[49m\u001b[38;5;241;43m=\u001b[39;49m\u001b[38;5;28;43;01mTrue\u001b[39;49;00m\u001b[43m,\u001b[49m\u001b[43m \u001b[49m\u001b[43maccumulate_grad\u001b[49m\u001b[38;5;241;43m=\u001b[39;49m\u001b[38;5;28;43;01mTrue\u001b[39;49;00m\u001b[43m)\u001b[49m\n",
      "\u001b[0;31mKeyboardInterrupt\u001b[0m: "
     ]
    }
   ],
   "source": [
    "trainer.train()"
   ]
  },
  {
   "cell_type": "markdown",
   "metadata": {},
   "source": [
    "# Inferencing"
   ]
  },
  {
   "cell_type": "code",
   "execution_count": 3,
   "metadata": {},
   "outputs": [],
   "source": [
    "torch.cuda.empty_cache()"
   ]
  },
  {
   "cell_type": "code",
   "execution_count": 4,
   "metadata": {},
   "outputs": [],
   "source": [
    "from transformers import pipeline\n",
    "\n",
    "arguMentor = pipeline(\"ner\", model='/home/rafaelpiacsek/Documents/College/Courses/Semester_7/CS_410/FinalProject/ArguMentor/notebooks/model_test/checkpoint-39500')"
   ]
  },
  {
   "cell_type": "code",
   "execution_count": 5,
   "metadata": {},
   "outputs": [],
   "source": [
    "test_essay = \"\"\"\n",
    "During a group project, have you ever asked a group member about adding or replacing something? Or, when you were studying for a math test, did you ever ask your parents or sibling about different ways to tackle a certain problem? Asking for other's opinions is especially beneficial as it allows for an individual to receive a variety of different views towards a given topic. Likewise, being diverse and asking many people for their opinions allows one to understand how most people percieve something. This is especially important as knowing multiple opinions can allow someone to take those views into account and sway themseleves to the general audience. Knowing different people's opinion can be beneficial in a variety of situations.\n",
    "\n",
    "First and foremost, a great example about how knowing other's opinions is helpful is when someone is making the choice between smoking or refraining from smoking. A student can watch on a TV channel that smoking is bad, and can damage their internal organs. However, on another channel, the student can find advertisements about the most addicting smoking device that can release the most dopomine in the brain, all the while not severly harming people's lungs. This student will receive a variety of different views and opinions on a certain topic, which allows them to make the best educated choice or decision based on how they interpret what they saw. Similarily, a student can be told from his fellow classmates that smoking is fun, joyful, and makes them happy. However, if the student asks a local doctor, they will be informed differently. A doctor will most likely tell them that smoking, although seeming harmless at first, can lead to serious long term consequences.\n",
    "\n",
    "If the student asks both his friends and his doctors, he is able to use his judgemental skills to determing which choice will be best for him in the long run.\n",
    "\n",
    "Furthermore, asking for multiple opinions can benifit during competitions for a position slot, as cadidates needs to make decisions on what they need to say or do. For example, it can be helpful in situations like elections, both for the U.S. or simply in school. If a student is running for a position in office to represent his/her school, he/she can ask a widespread and diverse audience. First, asking other students is their best bet to obtaining information. Other students can inform him/her about what they want, like better water fountains, recess, or healthier food. Then, the student running can make changes to the way they run for the election, and on his/her speech, take a different approach. In addition, if the student running asks an adult, they will get to know a more realistic way the school can be improved. Since a student, even as a student officer, isn't able to make a significant change to a school, they can inform the school board about ways to make the school better. If someone is running for the president of the United States, a similar approach can be taken. First, they can ask the people, on social media or in speeches, about positive ways to reform our country. After the candidate receives the opinion of general audiences, they can campaign differently to match the view of those voting. All in all, asking for the opinion of multiple different people can set the candidate apart from others.\n",
    "\n",
    "Many people only ask one type of audience for their opinion. Having only one opinion can lead to negative consequences, such as making the wrong choices related to health or education, as only one audience is adressed into making a decision. Therefore, asking multiple different people who have different backgrounds is essential to making the best choices in life. Conclusively, knowing multiple opinions on a certain matter can evidently lead to better results for individuals. \n",
    "\"\"\"\n",
    "preds = arguMentor(test_essay)"
   ]
  },
  {
   "cell_type": "code",
   "execution_count": 9,
   "metadata": {},
   "outputs": [],
   "source": [
    "segments = [int(pred['entity'].split('_')[-1]) for pred in preds]"
   ]
  },
  {
   "cell_type": "code",
   "execution_count": 14,
   "metadata": {},
   "outputs": [
    {
     "data": {
      "text/html": [
       "<style>.segment-highlight:hover:before { content: attr(data-label); position: absolute; background: #111; color: #fff; padding: 4px 8px; border-radius: 4px; z-index: 2; font-size: 14px}.segment-highlight:hover:after { content: attr(data-label); position: absolute; background: #111; color: #fff; padding: 4px 8px; border-radius: 4px; z-index: 2; font-size: 14px}</style><p style=\"font-size: 18px; line-height: 1.6;background-color: white; color: black;\"><b>Legend:</b><br/><span style=\"background-color: rgba(0,0,0, 0.0);\">Unnanotated</span><br/><span style=\"background-color: rgba(206,95,20, 0.8);\">Lead</span><br/><span style=\"background-color: rgba(114,174,146, 0.8);\">Position</span><br/><span style=\"background-color: rgba(251,174,28, 0.8);\">Evidence</span><br/><span style=\"background-color: rgba(81,53,51, 0.8);\">Claim</span><br/><span style=\"background-color: rgba(43,112,133, 0.8);\">Concluding Statement</span><br/><span style=\"background-color: rgba(200,109,142, 0.8);\">Counterclaim</span><br/><span style=\"background-color: rgba(243,218,179, 0.7);\">Rebuttal</span><br/><br/></p><p style=\"font-size: 18px; line-height: 1.6;\">You can also hover on top of each segment to see their type<br/><br/></p><p style=\"font-size: 18px; line-height: 1.6; background-color: white; color: black;\"><b>Segmented Essay:</b><br/><span class=\"segment-highlight\" style=\"background-color: rgba(206,95,20, 0.8);\" data-label=\"Lead\">During </span><span class=\"segment-highlight\" style=\"background-color: rgba(0,0,0, 0.0);\" data-label=\"Unnanotated\">a </span><span class=\"segment-highlight\" style=\"background-color: rgba(206,95,20, 0.8);\" data-label=\"Lead\">group project, have you ever asked a group member about adding or replacing something? Or, when you were studying for a math test, did you ever ask your parents or sibling about different ways to tackle a certain problem? Asking for other's opinions is especially beneficial as it allows for an individual to receive a variety of different views towards a given topic. Likewise, being diverse and asking many people for their opinions </span><span class=\"segment-highlight\" style=\"background-color: rgba(0,0,0, 0.0);\" data-label=\"Unnanotated\">allows one </span><span class=\"segment-highlight\" style=\"background-color: rgba(206,95,20, 0.8);\" data-label=\"Lead\">to understand how most people percieve something. This is especially important as knowing multiple opinions can allow someone to take those views into account and sway themseleves to the general audience. Knowing different people's opinion can be beneficial in a variety of situations. First and foremost, a great example about </span><span class=\"segment-highlight\" style=\"background-color: rgba(0,0,0, 0.0);\" data-label=\"Unnanotated\">how knowing other's opinions is helpful </span><span class=\"segment-highlight\" style=\"background-color: rgba(206,95,20, 0.8);\" data-label=\"Lead\">is when someone </span><span class=\"segment-highlight\" style=\"background-color: rgba(0,0,0, 0.0);\" data-label=\"Unnanotated\">is making the choice between </span><span class=\"segment-highlight\" style=\"background-color: rgba(206,95,20, 0.8);\" data-label=\"Lead\">smoking or refraining from smoking. A student can watch on a TV channel that smoking is bad, and can damage their internal organs. However, on another channel, the student can find advertisements about the most addicting smoking device that can release the most dopomine in the brain, all the while not severly harming people's lungs. This student will receive a variety of different views and opinions on a certain topic, which allows them to make the best educated choice or decision based on how they interpret what they saw. Similarily, a student can be told from his fellow classmates that smoking is fun, joyful, and makes them happy. However, if the student asks a local doctor, they will be informed differently. A doctor will most likely tell them that smoking, although seeming harmless at first, can lead to serious long term consequences. If the student asks both his friends and his doctors, he is able to use his judgemental skills to determing which choice will be best for him in the long run. Furthermore, asking for multiple opinions can benifit during competitions for a position slot, as cadidates needs to make decisions on what they need to say or do. For example, it can be helpful in situations like elections, both for the U.S. or simply in school. If a student is running for a position in office to </span><span class=\"segment-highlight\" style=\"background-color: rgba(0,0,0, 0.0);\" data-label=\"Unnanotated\">represent his/her school, </span><span class=\"segment-highlight\" style=\"background-color: rgba(206,95,20, 0.8);\" data-label=\"Lead\">he/she can ask a widespread and diverse audience. First, asking other students is their best bet to obtaining information. Other students can inform him/her about what they want, like better water fountains, recess, or healthier food. Then, the student running can make changes to the way they run for the election, and on his/her speech, take a different approach. In addition, if the student running asks an adult, they will get to know a more realistic way the school can be improved. Since a student, even as a student officer, isn't able to make a significant change to a school, they can inform the school board about ways to make the school better. If someone is running for the president of the United States, a similar approach can be taken. First, they can ask the people, on social media or in speeches, about positive ways to reform our country. After the candidate receives the opinion of general audiences, they can campaign differently to match the view of those voting. All in all, asking for the opinion of multiple different people can set the candidate apart from others. Many people only ask one type of audience for their opinion. Having only one opinion can lead to negative consequences, such as making the wrong choices related to health or education, as only one audience is adressed into making a decision. Therefore, asking multiple different people who have different backgrounds is essential to making the best choices in life. Conclusively, knowing multiple opinions on a certain matter can evidently lead to better results for individuals. </span></p>"
      ],
      "text/plain": [
       "<IPython.core.display.HTML object>"
      ]
     },
     "execution_count": 14,
     "metadata": {},
     "output_type": "execute_result"
    }
   ],
   "source": [
    "from IPython.display import HTML\n",
    "from math import ceil\n",
    "import numpy as np\n",
    "\n",
    "segment_colors = {\n",
    "  0: 'rgba(0,0,0, 0.0)',\n",
    "  1: 'rgba(206,95,20, 0.8)',\n",
    "  2: 'rgba(114,174,146, 0.8)',\n",
    "  3: 'rgba(251,174,28, 0.8)',\n",
    "  4: 'rgba(81,53,51, 0.8)',\n",
    "  5: 'rgba(43,112,133, 0.8)',\n",
    "  6: 'rgba(200,109,142, 0.8)',\n",
    "  7: 'rgba(243,218,179, 0.7)',\n",
    "}\n",
    "\n",
    "segment_names = {\n",
    "  0: 'Unnanotated',\n",
    "  1: 'Lead',\n",
    "  2: 'Position',\n",
    "  3: 'Evidence',\n",
    "  4: 'Claim',\n",
    "  5: 'Concluding Statement',\n",
    "  6: 'Counterclaim',\n",
    "  7: 'Rebuttal'\n",
    "}\n",
    "\n",
    "def generate_html_with_highlight(original_text, segment_types):\n",
    "\n",
    "    # Hover stuff\n",
    "    html_code = '<style>'\n",
    "    html_code += '.segment-highlight:hover:before { content: attr(data-label); position: absolute; background: #111; color: #fff; padding: 4px 8px; border-radius: 4px; z-index: 2; font-size: 14px}'\n",
    "    html_code += '.segment-highlight:hover:after { content: attr(data-label); position: absolute; background: #111; color: #fff; padding: 4px 8px; border-radius: 4px; z-index: 2; font-size: 14px}'\n",
    "    html_code += '</style>'\n",
    "\n",
    "    # Generate a legend showing what segment type each color represents\n",
    "    html_code += '<p style=\"font-size: 18px; line-height: 1.6;background-color: white; color: black;\"><b>Legend:</b><br/>'\n",
    "    for segment_color, segment_name in zip(segment_colors.values(), segment_names.values()):\n",
    "        html_code += f'<span style=\"background-color: {segment_color};\">{segment_name}</span><br/>'\n",
    "    html_code += '<br/></p>'\n",
    "\n",
    "    html_code += '<p style=\"font-size: 18px; line-height: 1.6;\">You can also hover on top of each segment to see their type<br/><br/></p>'\n",
    "\n",
    "    # Highlight original text\n",
    "    html_code += '<p style=\"font-size: 18px; line-height: 1.6; background-color: white; color: black;\"><b>Segmented Essay:</b><br/>'\n",
    "    current_segment_type = None\n",
    "    for i, (word, segment_type) in enumerate(zip(original_text.split(), segment_types)):\n",
    "        if i > 0 and segment_type != segment_types[i - 1]:\n",
    "            html_code += f'</span>'\n",
    "\n",
    "        if segment_type != current_segment_type:\n",
    "            html_code += f'<span class=\"segment-highlight\" style=\"background-color: {segment_colors[segment_type]};\" data-label=\"{segment_names[segment_type]}\">'\n",
    "            current_segment_type = segment_type\n",
    "\n",
    "        html_code += f'{word} '\n",
    "\n",
    "    if current_segment_type is not None:\n",
    "        html_code += '</span>'\n",
    "\n",
    "    html_code += '</p>'\n",
    "\n",
    "    return html_code\n",
    "\n",
    "\n",
    "segments = [ceil(x/2) for x in segments]\n",
    "\n",
    "html_code = generate_html_with_highlight(test_essay, segments)\n",
    "HTML(html_code)"
   ]
  }
 ],
 "metadata": {
  "kernelspec": {
   "display_name": "torch",
   "language": "python",
   "name": "python3"
  },
  "language_info": {
   "codemirror_mode": {
    "name": "ipython",
    "version": 3
   },
   "file_extension": ".py",
   "mimetype": "text/x-python",
   "name": "python",
   "nbconvert_exporter": "python",
   "pygments_lexer": "ipython3",
   "version": "3.10.11"
  }
 },
 "nbformat": 4,
 "nbformat_minor": 2
}
