{
  "nbformat": 4,
  "nbformat_minor": 0,
  "metadata": {
    "colab": {
      "provenance": []
    },
    "kernelspec": {
      "name": "python3",
      "display_name": "Python 3"
    },
    "language_info": {
      "name": "python"
    }
  },
  "cells": [
    {
      "cell_type": "markdown",
      "source": [
        "### Imports and configs"
      ],
      "metadata": {
        "id": "RuUEjAwP1OQc"
      }
    },
    {
      "cell_type": "code",
      "source": [
        "from tqdm import tqdm\n",
        "import pandas as pd\n",
        "import numpy as np\n",
        "import os\n",
        "\n",
        "from transformers import AutoTokenizer, AutoModelForTokenClassification, AutoConfig\n",
        "from torch.utils.data import Dataset, DataLoader\n",
        "import torch"
      ],
      "metadata": {
        "id": "ITOAckJ7RJYC"
      },
      "execution_count": 20,
      "outputs": []
    },
    {
      "cell_type": "code",
      "source": [
        "from torch import cuda\n",
        "\n",
        "config = {'model_name': 'google/bigbird-roberta-base',\n",
        "         'max_length': 1024,\n",
        "         'train_batch_size': 4,\n",
        "         'valid_batch_size': 4,\n",
        "         'epochs':5,\n",
        "         'learning_rates': [2.5e-5, 2.5e-5, 2.5e-6, 2.5e-6, 2.5e-7],\n",
        "         'max_grad_norm': 10,\n",
        "         'device': 'cuda' if cuda.is_available() else 'cpu'}"
      ],
      "metadata": {
        "id": "lx_rAHzX2bmq"
      },
      "execution_count": 24,
      "outputs": []
    },
    {
      "cell_type": "code",
      "source": [
        "full_df = pd.read_csv('./dataset.csv')\n",
        "full_df.head()"
      ],
      "metadata": {
        "colab": {
          "base_uri": "https://localhost:8080/",
          "height": 206
        },
        "id": "bxk_MhBgwk5x",
        "outputId": "cd65b40d-8d07-4ef9-ed98-6f97ee280cba"
      },
      "execution_count": 15,
      "outputs": [
        {
          "output_type": "execute_result",
          "data": {
            "text/plain": [
              "             id                                            content  \\\n",
              "0  73DC1D49FAD5  eletoral college can be a very good thing caus...   \n",
              "1  D840AC3957E5  STUDENT_NAME\\n\\nADDRESS_NAME\\n\\nFebruary 22, 2...   \n",
              "2  753E320B186B  In my opinion as a student: I don't agree at t...   \n",
              "3  C2ABDAC2BC2C  When it comes to at home learning and attendin...   \n",
              "4  B2DDBAAC084C  Y\\n\\nou can ask many different people for advi...   \n",
              "\n",
              "                                              labels  \n",
              "0  [ 3  4  4  4  4  4  4  4  4  4  4  4  4  4  4 ...  \n",
              "1  [ 0  0  0  0  0  0  0  3  4  4  4  4  4  4  4 ...  \n",
              "2  [1 2 2 2 2 2 2 2 2 2 2 2 2 2 2 2 2 2 2 2 2 2 2...  \n",
              "3  [ 3  4  4  4  4  4  4  4  4  4  4  4  4  4  4 ...  \n",
              "4  [ 3  4  4  4  4  4  4  4  4  4  4  4  4  4  4 ...  "
            ],
            "text/html": [
              "\n",
              "  <div id=\"df-8bb4035d-2dfd-472f-8155-b1ce099c3590\" class=\"colab-df-container\">\n",
              "    <div>\n",
              "<style scoped>\n",
              "    .dataframe tbody tr th:only-of-type {\n",
              "        vertical-align: middle;\n",
              "    }\n",
              "\n",
              "    .dataframe tbody tr th {\n",
              "        vertical-align: top;\n",
              "    }\n",
              "\n",
              "    .dataframe thead th {\n",
              "        text-align: right;\n",
              "    }\n",
              "</style>\n",
              "<table border=\"1\" class=\"dataframe\">\n",
              "  <thead>\n",
              "    <tr style=\"text-align: right;\">\n",
              "      <th></th>\n",
              "      <th>id</th>\n",
              "      <th>content</th>\n",
              "      <th>labels</th>\n",
              "    </tr>\n",
              "  </thead>\n",
              "  <tbody>\n",
              "    <tr>\n",
              "      <th>0</th>\n",
              "      <td>73DC1D49FAD5</td>\n",
              "      <td>eletoral college can be a very good thing caus...</td>\n",
              "      <td>[ 3  4  4  4  4  4  4  4  4  4  4  4  4  4  4 ...</td>\n",
              "    </tr>\n",
              "    <tr>\n",
              "      <th>1</th>\n",
              "      <td>D840AC3957E5</td>\n",
              "      <td>STUDENT_NAME\\n\\nADDRESS_NAME\\n\\nFebruary 22, 2...</td>\n",
              "      <td>[ 0  0  0  0  0  0  0  3  4  4  4  4  4  4  4 ...</td>\n",
              "    </tr>\n",
              "    <tr>\n",
              "      <th>2</th>\n",
              "      <td>753E320B186B</td>\n",
              "      <td>In my opinion as a student: I don't agree at t...</td>\n",
              "      <td>[1 2 2 2 2 2 2 2 2 2 2 2 2 2 2 2 2 2 2 2 2 2 2...</td>\n",
              "    </tr>\n",
              "    <tr>\n",
              "      <th>3</th>\n",
              "      <td>C2ABDAC2BC2C</td>\n",
              "      <td>When it comes to at home learning and attendin...</td>\n",
              "      <td>[ 3  4  4  4  4  4  4  4  4  4  4  4  4  4  4 ...</td>\n",
              "    </tr>\n",
              "    <tr>\n",
              "      <th>4</th>\n",
              "      <td>B2DDBAAC084C</td>\n",
              "      <td>Y\\n\\nou can ask many different people for advi...</td>\n",
              "      <td>[ 3  4  4  4  4  4  4  4  4  4  4  4  4  4  4 ...</td>\n",
              "    </tr>\n",
              "  </tbody>\n",
              "</table>\n",
              "</div>\n",
              "    <div class=\"colab-df-buttons\">\n",
              "\n",
              "  <div class=\"colab-df-container\">\n",
              "    <button class=\"colab-df-convert\" onclick=\"convertToInteractive('df-8bb4035d-2dfd-472f-8155-b1ce099c3590')\"\n",
              "            title=\"Convert this dataframe to an interactive table.\"\n",
              "            style=\"display:none;\">\n",
              "\n",
              "  <svg xmlns=\"http://www.w3.org/2000/svg\" height=\"24px\" viewBox=\"0 -960 960 960\">\n",
              "    <path d=\"M120-120v-720h720v720H120Zm60-500h600v-160H180v160Zm220 220h160v-160H400v160Zm0 220h160v-160H400v160ZM180-400h160v-160H180v160Zm440 0h160v-160H620v160ZM180-180h160v-160H180v160Zm440 0h160v-160H620v160Z\"/>\n",
              "  </svg>\n",
              "    </button>\n",
              "\n",
              "  <style>\n",
              "    .colab-df-container {\n",
              "      display:flex;\n",
              "      gap: 12px;\n",
              "    }\n",
              "\n",
              "    .colab-df-convert {\n",
              "      background-color: #E8F0FE;\n",
              "      border: none;\n",
              "      border-radius: 50%;\n",
              "      cursor: pointer;\n",
              "      display: none;\n",
              "      fill: #1967D2;\n",
              "      height: 32px;\n",
              "      padding: 0 0 0 0;\n",
              "      width: 32px;\n",
              "    }\n",
              "\n",
              "    .colab-df-convert:hover {\n",
              "      background-color: #E2EBFA;\n",
              "      box-shadow: 0px 1px 2px rgba(60, 64, 67, 0.3), 0px 1px 3px 1px rgba(60, 64, 67, 0.15);\n",
              "      fill: #174EA6;\n",
              "    }\n",
              "\n",
              "    .colab-df-buttons div {\n",
              "      margin-bottom: 4px;\n",
              "    }\n",
              "\n",
              "    [theme=dark] .colab-df-convert {\n",
              "      background-color: #3B4455;\n",
              "      fill: #D2E3FC;\n",
              "    }\n",
              "\n",
              "    [theme=dark] .colab-df-convert:hover {\n",
              "      background-color: #434B5C;\n",
              "      box-shadow: 0px 1px 3px 1px rgba(0, 0, 0, 0.15);\n",
              "      filter: drop-shadow(0px 1px 2px rgba(0, 0, 0, 0.3));\n",
              "      fill: #FFFFFF;\n",
              "    }\n",
              "  </style>\n",
              "\n",
              "    <script>\n",
              "      const buttonEl =\n",
              "        document.querySelector('#df-8bb4035d-2dfd-472f-8155-b1ce099c3590 button.colab-df-convert');\n",
              "      buttonEl.style.display =\n",
              "        google.colab.kernel.accessAllowed ? 'block' : 'none';\n",
              "\n",
              "      async function convertToInteractive(key) {\n",
              "        const element = document.querySelector('#df-8bb4035d-2dfd-472f-8155-b1ce099c3590');\n",
              "        const dataTable =\n",
              "          await google.colab.kernel.invokeFunction('convertToInteractive',\n",
              "                                                    [key], {});\n",
              "        if (!dataTable) return;\n",
              "\n",
              "        const docLinkHtml = 'Like what you see? Visit the ' +\n",
              "          '<a target=\"_blank\" href=https://colab.research.google.com/notebooks/data_table.ipynb>data table notebook</a>'\n",
              "          + ' to learn more about interactive tables.';\n",
              "        element.innerHTML = '';\n",
              "        dataTable['output_type'] = 'display_data';\n",
              "        await google.colab.output.renderOutput(dataTable, element);\n",
              "        const docLink = document.createElement('div');\n",
              "        docLink.innerHTML = docLinkHtml;\n",
              "        element.appendChild(docLink);\n",
              "      }\n",
              "    </script>\n",
              "  </div>\n",
              "\n",
              "\n",
              "<div id=\"df-c917c6be-99d1-4758-ba50-25b8937784d4\">\n",
              "  <button class=\"colab-df-quickchart\" onclick=\"quickchart('df-c917c6be-99d1-4758-ba50-25b8937784d4')\"\n",
              "            title=\"Suggest charts\"\n",
              "            style=\"display:none;\">\n",
              "\n",
              "<svg xmlns=\"http://www.w3.org/2000/svg\" height=\"24px\"viewBox=\"0 0 24 24\"\n",
              "     width=\"24px\">\n",
              "    <g>\n",
              "        <path d=\"M19 3H5c-1.1 0-2 .9-2 2v14c0 1.1.9 2 2 2h14c1.1 0 2-.9 2-2V5c0-1.1-.9-2-2-2zM9 17H7v-7h2v7zm4 0h-2V7h2v10zm4 0h-2v-4h2v4z\"/>\n",
              "    </g>\n",
              "</svg>\n",
              "  </button>\n",
              "\n",
              "<style>\n",
              "  .colab-df-quickchart {\n",
              "      --bg-color: #E8F0FE;\n",
              "      --fill-color: #1967D2;\n",
              "      --hover-bg-color: #E2EBFA;\n",
              "      --hover-fill-color: #174EA6;\n",
              "      --disabled-fill-color: #AAA;\n",
              "      --disabled-bg-color: #DDD;\n",
              "  }\n",
              "\n",
              "  [theme=dark] .colab-df-quickchart {\n",
              "      --bg-color: #3B4455;\n",
              "      --fill-color: #D2E3FC;\n",
              "      --hover-bg-color: #434B5C;\n",
              "      --hover-fill-color: #FFFFFF;\n",
              "      --disabled-bg-color: #3B4455;\n",
              "      --disabled-fill-color: #666;\n",
              "  }\n",
              "\n",
              "  .colab-df-quickchart {\n",
              "    background-color: var(--bg-color);\n",
              "    border: none;\n",
              "    border-radius: 50%;\n",
              "    cursor: pointer;\n",
              "    display: none;\n",
              "    fill: var(--fill-color);\n",
              "    height: 32px;\n",
              "    padding: 0;\n",
              "    width: 32px;\n",
              "  }\n",
              "\n",
              "  .colab-df-quickchart:hover {\n",
              "    background-color: var(--hover-bg-color);\n",
              "    box-shadow: 0 1px 2px rgba(60, 64, 67, 0.3), 0 1px 3px 1px rgba(60, 64, 67, 0.15);\n",
              "    fill: var(--button-hover-fill-color);\n",
              "  }\n",
              "\n",
              "  .colab-df-quickchart-complete:disabled,\n",
              "  .colab-df-quickchart-complete:disabled:hover {\n",
              "    background-color: var(--disabled-bg-color);\n",
              "    fill: var(--disabled-fill-color);\n",
              "    box-shadow: none;\n",
              "  }\n",
              "\n",
              "  .colab-df-spinner {\n",
              "    border: 2px solid var(--fill-color);\n",
              "    border-color: transparent;\n",
              "    border-bottom-color: var(--fill-color);\n",
              "    animation:\n",
              "      spin 1s steps(1) infinite;\n",
              "  }\n",
              "\n",
              "  @keyframes spin {\n",
              "    0% {\n",
              "      border-color: transparent;\n",
              "      border-bottom-color: var(--fill-color);\n",
              "      border-left-color: var(--fill-color);\n",
              "    }\n",
              "    20% {\n",
              "      border-color: transparent;\n",
              "      border-left-color: var(--fill-color);\n",
              "      border-top-color: var(--fill-color);\n",
              "    }\n",
              "    30% {\n",
              "      border-color: transparent;\n",
              "      border-left-color: var(--fill-color);\n",
              "      border-top-color: var(--fill-color);\n",
              "      border-right-color: var(--fill-color);\n",
              "    }\n",
              "    40% {\n",
              "      border-color: transparent;\n",
              "      border-right-color: var(--fill-color);\n",
              "      border-top-color: var(--fill-color);\n",
              "    }\n",
              "    60% {\n",
              "      border-color: transparent;\n",
              "      border-right-color: var(--fill-color);\n",
              "    }\n",
              "    80% {\n",
              "      border-color: transparent;\n",
              "      border-right-color: var(--fill-color);\n",
              "      border-bottom-color: var(--fill-color);\n",
              "    }\n",
              "    90% {\n",
              "      border-color: transparent;\n",
              "      border-bottom-color: var(--fill-color);\n",
              "    }\n",
              "  }\n",
              "</style>\n",
              "\n",
              "  <script>\n",
              "    async function quickchart(key) {\n",
              "      const quickchartButtonEl =\n",
              "        document.querySelector('#' + key + ' button');\n",
              "      quickchartButtonEl.disabled = true;  // To prevent multiple clicks.\n",
              "      quickchartButtonEl.classList.add('colab-df-spinner');\n",
              "      try {\n",
              "        const charts = await google.colab.kernel.invokeFunction(\n",
              "            'suggestCharts', [key], {});\n",
              "      } catch (error) {\n",
              "        console.error('Error during call to suggestCharts:', error);\n",
              "      }\n",
              "      quickchartButtonEl.classList.remove('colab-df-spinner');\n",
              "      quickchartButtonEl.classList.add('colab-df-quickchart-complete');\n",
              "    }\n",
              "    (() => {\n",
              "      let quickchartButtonEl =\n",
              "        document.querySelector('#df-c917c6be-99d1-4758-ba50-25b8937784d4 button');\n",
              "      quickchartButtonEl.style.display =\n",
              "        google.colab.kernel.accessAllowed ? 'block' : 'none';\n",
              "    })();\n",
              "  </script>\n",
              "</div>\n",
              "    </div>\n",
              "  </div>\n"
            ]
          },
          "metadata": {},
          "execution_count": 15
        }
      ]
    },
    {
      "cell_type": "code",
      "source": [
        "id2label = {\n",
        "  0: 'Unnanotated',\n",
        "  1: 'B-Lead',\n",
        "  2: 'I-Lead',\n",
        "  3: 'B-Position',\n",
        "  4: 'I-Position',\n",
        "  5: 'B-Evidence',\n",
        "  6: 'I-Evidence',\n",
        "  7: 'B-Claim',\n",
        "  8: 'I-Claim',\n",
        "  9: 'B-Concluding_Statement',\n",
        "  10: 'I-Concluding_Statement',\n",
        "  11: 'B-Counterclaim',\n",
        "  12: 'I-Counterclaim',\n",
        "  13: 'B-Rebuttal',\n",
        "  14: 'I-Rebuttal'\n",
        "}\n",
        "\n",
        "label2id = {\n",
        "  'Unnanotated': 0,\n",
        "  'B-Lead': 1,\n",
        "  'I-Lead': 2,\n",
        "  'B-Position': 3,\n",
        "  'I-Position': 4,\n",
        "  'B-Evidence': 5,\n",
        "  'I-Evidence': 6,\n",
        "  'B-Claim': 7,\n",
        "  'I-Claim': 8,\n",
        "  'B-Concluding_Statement': 9,\n",
        "  'I-Concluding_Statement': 10,\n",
        "  'B-Counterclaim': 11,\n",
        "  'I-Counterclaim': 12,\n",
        "  'B-Rebuttal': 13,\n",
        "  'I-Rebuttal': 14\n",
        "}"
      ],
      "metadata": {
        "id": "sKy9ejb77YQ6"
      },
      "execution_count": 26,
      "outputs": []
    },
    {
      "cell_type": "code",
      "source": [
        "class dataset(Dataset):\n",
        "  def __init__(self, df, tokenizer, max_len, get_word_ids):\n",
        "        self.len = len(df)\n",
        "        self.df = df\n",
        "        self.tokenizer = tokenizer\n",
        "        self.max_len = max_len\n",
        "        self.get_word_ids = get_word_ids # for validation\n",
        "\n",
        "  def __getitem__(self, index):\n",
        "        text = self.df.text[index]\n",
        "\n",
        "        encoding = self.tokenizer(text.split(),\n",
        "                             is_split_into_words=True,\n",
        "                             padding='max_length',\n",
        "                             truncation=True,\n",
        "                             max_length=self.max_len)\n",
        "        word_ids = encoding.word_ids()\n",
        "        word_labels = None\n",
        "\n",
        "        if not self.get_word_ids:\n",
        "            word_labels = self.df.entities[index]\n",
        "            previous_word_idx = None\n",
        "            label_ids = []\n",
        "            for word_idx in word_ids:\n",
        "                if word_idx is None:\n",
        "                    label_ids.append(-100)\n",
        "                elif word_idx != previous_word_idx:\n",
        "                    label_ids.append(label2id[word_labels[word_idx]] )\n",
        "                else:\n",
        "                    label_ids.append(label2id[word_labels[word_idx]] )\n",
        "                previous_word_idx = word_idx\n",
        "            encoding['labels'] = label_ids\n",
        "\n",
        "        item = {k: torch.as_tensor(v) for k, v in encoding.items()}\n",
        "        if self.get_word_ids:\n",
        "            word_ids2 = [w if w is not None else -1 for w in word_ids]\n",
        "            item['wids'] = torch.as_tensor(word_ids2)\n",
        "\n",
        "        return item\n",
        "\n",
        "  def __len__(self):\n",
        "        return self.len"
      ],
      "metadata": {
        "id": "SjLfEutKxepV"
      },
      "execution_count": 27,
      "outputs": []
    },
    {
      "cell_type": "markdown",
      "source": [
        "### Create training and validation datasets + DataLoaders"
      ],
      "metadata": {
        "id": "pOJU-81Jv2xO"
      }
    },
    {
      "cell_type": "code",
      "source": [
        "validation_split_size = 0.1\n",
        "dataset_split_seed = 1"
      ],
      "metadata": {
        "id": "b4VZ2KiU0AHt"
      },
      "execution_count": 16,
      "outputs": []
    },
    {
      "cell_type": "markdown",
      "source": [
        "#### Split dataset into training and validation"
      ],
      "metadata": {
        "id": "XNmagNKo1E9H"
      }
    },
    {
      "cell_type": "code",
      "source": [
        "from sklearn.model_selection import train_test_split\n",
        "\n",
        "train_df, val_df = train_test_split(full_df, test_size=validation_split_size, random_state=dataset_split_seed)\n",
        "\n",
        "# Drop id column from train dataframe\n",
        "train_df = train_df[['content', 'labels']]\n",
        "\n",
        "train_df.reset_index(drop=True, inplace=True)\n",
        "val_df.reset_index(drop=True, inplace=True)\n",
        "\n",
        "print(\"train_df shape: \", train_df.shape)\n",
        "print(\"val_df shape: \", val_df.shape)"
      ],
      "metadata": {
        "colab": {
          "base_uri": "https://localhost:8080/"
        },
        "id": "n82RG8PQv8Ph",
        "outputId": "c5fdbbea-2809-42b4-e4cd-8798fc651deb"
      },
      "execution_count": 17,
      "outputs": [
        {
          "output_type": "stream",
          "name": "stdout",
          "text": [
            "train_df shape:  (14034, 2)\n",
            "val_df shape:  (1560, 3)\n"
          ]
        }
      ]
    },
    {
      "cell_type": "markdown",
      "source": [
        "#### Create DataLoaders"
      ],
      "metadata": {
        "id": "wKYQoL-A18pu"
      }
    },
    {
      "cell_type": "code",
      "source": [
        "os.mkdir('model')\n",
        "# Upload pretrained model here. For this project, we are using HuggingFace's BigBird."
      ],
      "metadata": {
        "id": "N1XQ6jVOG0iW"
      },
      "execution_count": 29,
      "outputs": []
    },
    {
      "cell_type": "code",
      "source": [
        "tokenizer = AutoTokenizer.from_pretrained('./model')\n",
        "training_set = dataset(train_df, tokenizer, config['max_length'], False)\n",
        "testing_set = dataset(val_df, tokenizer, config['max_length'], True)"
      ],
      "metadata": {
        "colab": {
          "base_uri": "https://localhost:8080/"
        },
        "id": "lxxF_cKHtC70",
        "outputId": "05bcee71-780e-4eca-9b56-5f12a75eabb0"
      },
      "execution_count": 30,
      "outputs": [
        {
          "output_type": "stream",
          "name": "stderr",
          "text": [
            "loading file spiece.model\n",
            "loading file tokenizer.json\n",
            "loading file added_tokens.json\n",
            "loading file special_tokens_map.json\n",
            "loading file tokenizer_config.json\n"
          ]
        }
      ]
    },
    {
      "cell_type": "code",
      "source": [
        "train_params = {'batch_size': config['train_batch_size'],\n",
        "                'shuffle': True,\n",
        "                'num_workers': 2,\n",
        "                }\n",
        "\n",
        "validation_params = {'batch_size': config['valid_batch_size'],\n",
        "               'shuffle': False,\n",
        "               'num_workers': 2,\n",
        "               }"
      ],
      "metadata": {
        "id": "IgaOgMmW2J46"
      },
      "execution_count": 31,
      "outputs": []
    },
    {
      "cell_type": "code",
      "source": [
        "training_loader = DataLoader(training_set, **train_params)\n",
        "validation_loader = DataLoader(testing_set, **validation_params)"
      ],
      "metadata": {
        "id": "lRDZGjt52KcU"
      },
      "execution_count": 32,
      "outputs": []
    },
    {
      "cell_type": "markdown",
      "source": [
        "Save DataLoaders to be able to quickly load them later."
      ],
      "metadata": {
        "id": "s2ieuYIrIDSO"
      }
    },
    {
      "cell_type": "code",
      "source": [
        "torch.save(training_loader, 'training_loader.pth')\n",
        "torch.save(validation_loader, 'validation_loader.pth')"
      ],
      "metadata": {
        "id": "GEcuk2cjHMCV"
      },
      "execution_count": 33,
      "outputs": []
    }
  ]
}