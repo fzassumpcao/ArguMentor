{
  "nbformat": 4,
  "nbformat_minor": 0,
  "metadata": {
    "colab": {
      "provenance": [],
      "authorship_tag": "ABX9TyNNv6ba0SB3zE3W2R42y1Dx",
      "include_colab_link": true
    },
    "kernelspec": {
      "name": "python3",
      "display_name": "Python 3"
    },
    "language_info": {
      "name": "python"
    }
  },
  "cells": [
    {
      "cell_type": "markdown",
      "metadata": {
        "id": "view-in-github",
        "colab_type": "text"
      },
      "source": [
        "<a href=\"https://colab.research.google.com/github/fzassumpcao/ArguMentor/blob/main/notebooks/augmentor.ipynb\" target=\"_parent\"><img src=\"https://colab.research.google.com/assets/colab-badge.svg\" alt=\"Open In Colab\"/></a>"
      ]
    },
    {
      "cell_type": "markdown",
      "source": [
        "# Interactive Tool For Augmentor\n"
      ],
      "metadata": {
        "id": "KcDbw4dBS91B"
      }
    },
    {
      "cell_type": "markdown",
      "source": [
        "## Import and Model Loading"
      ],
      "metadata": {
        "id": "rj7JRJCck99l"
      }
    },
    {
      "cell_type": "code",
      "source": [
        "from IPython.display import HTML"
      ],
      "metadata": {
        "id": "oyJhXrpCa8tL"
      },
      "execution_count": 11,
      "outputs": []
    },
    {
      "cell_type": "markdown",
      "source": [
        "## Helper Functions"
      ],
      "metadata": {
        "id": "r11kKYyXl7PY"
      }
    },
    {
      "cell_type": "code",
      "source": [
        "segment_colors = {\n",
        "  0: 'rgba(0,0,0, 0.0)',\n",
        "  1: 'rgba(206,95,20, 0.8)',\n",
        "  2: 'rgba(114,174,146, 0.8)',\n",
        "  3: 'rgba(251,174,28, 0.8)',\n",
        "  4: 'rgba(81,53,51, 0.8)',\n",
        "  5: 'rgba(43,112,133, 0.8)',\n",
        "  6: 'rgba(200,109,142, 0.8)',\n",
        "  7: 'rgba(243,218,179, 0.7)',\n",
        "}\n",
        "\n",
        "segment_names = {\n",
        "  0: 'Unnanotated',\n",
        "  1: 'Lead',\n",
        "  2: 'Position',\n",
        "  3: 'Evidence',\n",
        "  4: 'Claim',\n",
        "  5: 'Concluding Statement',\n",
        "  6: 'Counterclaim',\n",
        "  7: 'Rebuttal'\n",
        "}"
      ],
      "metadata": {
        "id": "FsSBsGBunaEu"
      },
      "execution_count": 158,
      "outputs": []
    },
    {
      "cell_type": "code",
      "source": [
        "def generate_html_with_highlight(original_text, segment_types):\n",
        "\n",
        "    # Hover stuff\n",
        "    html_code = '<style>'\n",
        "    html_code += '.segment-highlight:hover:before { content: attr(data-label); position: relative; background: #111; color: #fff; padding: 4px 8px; border-radius: 4px; z-index: 2; font-size: 14px}'\n",
        "    html_code += '.segment-highlight:hover:after { content: attr(data-label); position: relative; background: #111; color: #fff; padding: 4px 8px; border-radius: 4px; z-index: 2; font-size: 14px}'\n",
        "    html_code += '</style>'\n",
        "\n",
        "    # Generate a legend showing what segment type each color represents\n",
        "    html_code += '<p style=\"font-size: 18px; line-height: 1.6;\"><b>Legend:</b><br/>'\n",
        "    for segment_color, segment_name in zip(segment_colors.values(), segment_names.values()):\n",
        "        html_code += f'<span style=\"background-color: {segment_color};\">{segment_name}</span><br/>'\n",
        "    html_code += '<br/></p>'\n",
        "\n",
        "    html_code += '<p style=\"font-size: 18px; line-height: 1.6;\">You can also hover on top of each segment to see their type<br/><br/></p>'\n",
        "\n",
        "    # Highlight original text\n",
        "    html_code += '<p style=\"font-size: 18px; line-height: 1.6;\"><b>Segmented Essay:</b><br/>'\n",
        "    current_segment_type = None\n",
        "    for i, (word, segment_type) in enumerate(zip(original_text.split(), segment_types)):\n",
        "        if i > 0 and segment_type != segment_types[i - 1]:\n",
        "            html_code += f'</span>'\n",
        "\n",
        "        if segment_type != current_segment_type:\n",
        "            html_code += f'<span class=\"segment-highlight\" style=\"background-color: {segment_colors[segment_type]};\" data-label=\"{segment_names[segment_type]}\">'\n",
        "            current_segment_type = segment_type\n",
        "\n",
        "        html_code += f'{word} '\n",
        "\n",
        "    if current_segment_type is not None:\n",
        "        html_code += '</span>'\n",
        "\n",
        "    html_code += '</p>'\n",
        "\n",
        "    return html_code"
      ],
      "metadata": {
        "id": "18UYluoOaqJu"
      },
      "execution_count": 159,
      "outputs": []
    },
    {
      "cell_type": "markdown",
      "source": [
        "## Interactive Tool"
      ],
      "metadata": {
        "id": "xgvgNtkVl5Sz"
      }
    },
    {
      "cell_type": "code",
      "source": [
        "# @title Segment Your Essay\n",
        "\n",
        "essay = \"This is an example essay to show off what a sample output would look like \" # @param {type:\"string\"}\n",
        "\n",
        "# Infer and get outputs\n",
        "segments = [0, 0, 1, 1, 2, 2, 3, 3, 4, 4, 5, 5, 6, 6, 7, 7]\n",
        "\n",
        "html_code = generate_html_with_highlight(essay, segments)\n",
        "HTML(html_code)"
      ],
      "metadata": {
        "colab": {
          "base_uri": "https://localhost:8080/",
          "height": 444
        },
        "cellView": "form",
        "id": "eIwv67xVhMkS",
        "outputId": "311c376f-6c1a-48dc-f24d-a399ca040ebb"
      },
      "execution_count": 163,
      "outputs": [
        {
          "output_type": "execute_result",
          "data": {
            "text/plain": [
              "<IPython.core.display.HTML object>"
            ],
            "text/html": [
              "<style>.segment-highlight:hover:before { content: attr(data-label); position: relative; background: #111; color: #fff; padding: 4px 8px; border-radius: 4px; z-index: 2; font-size: 14px}.segment-highlight:hover:after { content: attr(data-label); position: relative; background: #111; color: #fff; padding: 4px 8px; border-radius: 4px; z-index: 2; font-size: 14px}</style><p style=\"font-size: 18px; line-height: 1.6;\"><b>Legend:</b><br/><span style=\"background-color: rgba(0,0,0, 0.0);\">Unnanotated</span><br/><span style=\"background-color: rgba(206,95,20, 0.8);\">Lead</span><br/><span style=\"background-color: rgba(114,174,146, 0.8);\">Position</span><br/><span style=\"background-color: rgba(251,174,28, 0.8);\">Evidence</span><br/><span style=\"background-color: rgba(81,53,51, 0.8);\">Claim</span><br/><span style=\"background-color: rgba(43,112,133, 0.8);\">Concluding Statement</span><br/><span style=\"background-color: rgba(200,109,142, 0.8);\">Counterclaim</span><br/><span style=\"background-color: rgba(243,218,179, 0.7);\">Rebuttal</span><br/><br/></p><p style=\"font-size: 18px; line-height: 1.6;\">You can also hover on top of each segment to see their type<br/><br/></p><p style=\"font-size: 18px; line-height: 1.6;\"><b>Segmented Essay:</b><br/><span class=\"segment-highlight\" style=\"background-color: rgba(0,0,0, 0.0);\" data-label=\"Unnanotated\">This is </span><span class=\"segment-highlight\" style=\"background-color: rgba(206,95,20, 0.8);\" data-label=\"Lead\">an example </span><span class=\"segment-highlight\" style=\"background-color: rgba(114,174,146, 0.8);\" data-label=\"Position\">essay to </span><span class=\"segment-highlight\" style=\"background-color: rgba(251,174,28, 0.8);\" data-label=\"Evidence\">show off </span><span class=\"segment-highlight\" style=\"background-color: rgba(81,53,51, 0.8);\" data-label=\"Claim\">what a </span><span class=\"segment-highlight\" style=\"background-color: rgba(43,112,133, 0.8);\" data-label=\"Concluding Statement\">sample output </span><span class=\"segment-highlight\" style=\"background-color: rgba(200,109,142, 0.8);\" data-label=\"Counterclaim\">would look </span><span class=\"segment-highlight\" style=\"background-color: rgba(243,218,179, 0.7);\" data-label=\"Rebuttal\">like </span></p>"
            ]
          },
          "metadata": {},
          "execution_count": 163
        }
      ]
    }
  ]
}